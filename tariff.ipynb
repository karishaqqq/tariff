{
  "metadata": {
    "ExecuteTimeLog": [
      {
        "duration": 1892,
        "start_time": "2022-05-13T21:19:15.606Z"
      },
      {
        "duration": 54,
        "start_time": "2022-05-13T21:21:44.740Z"
      },
      {
        "duration": 221,
        "start_time": "2022-05-13T21:24:15.222Z"
      },
      {
        "duration": 125,
        "start_time": "2022-05-13T21:26:39.106Z"
      },
      {
        "duration": 207,
        "start_time": "2022-05-13T21:27:35.185Z"
      },
      {
        "duration": 20,
        "start_time": "2022-05-13T21:28:39.424Z"
      },
      {
        "duration": 676,
        "start_time": "2022-05-13T21:31:06.220Z"
      },
      {
        "duration": 361,
        "start_time": "2022-05-13T21:31:43.625Z"
      },
      {
        "duration": 51,
        "start_time": "2022-05-13T21:32:13.988Z"
      },
      {
        "duration": 246,
        "start_time": "2022-05-13T21:33:01.904Z"
      },
      {
        "duration": 4,
        "start_time": "2022-05-13T21:37:11.138Z"
      },
      {
        "duration": 824,
        "start_time": "2022-05-13T21:37:24.598Z"
      },
      {
        "duration": 210,
        "start_time": "2022-05-13T21:39:49.740Z"
      },
      {
        "duration": 36,
        "start_time": "2022-05-13T21:40:17.526Z"
      },
      {
        "duration": 37,
        "start_time": "2022-05-13T21:40:31.023Z"
      },
      {
        "duration": 229,
        "start_time": "2022-05-13T21:41:17.941Z"
      },
      {
        "duration": 27,
        "start_time": "2022-05-13T21:41:53.176Z"
      },
      {
        "duration": 189,
        "start_time": "2022-05-13T21:42:08.888Z"
      },
      {
        "duration": 32,
        "start_time": "2022-05-13T21:42:43.289Z"
      },
      {
        "duration": 166,
        "start_time": "2022-05-13T21:42:59.760Z"
      },
      {
        "duration": 26,
        "start_time": "2022-05-13T21:44:11.682Z"
      },
      {
        "duration": 23,
        "start_time": "2022-05-13T21:44:48.081Z"
      },
      {
        "duration": 121,
        "start_time": "2022-05-13T21:45:12.009Z"
      },
      {
        "duration": 37,
        "start_time": "2022-05-13T21:45:22.752Z"
      },
      {
        "duration": 29,
        "start_time": "2022-05-13T21:45:58.328Z"
      },
      {
        "duration": 27,
        "start_time": "2022-05-13T21:46:15.041Z"
      },
      {
        "duration": 144,
        "start_time": "2022-05-13T21:46:46.447Z"
      },
      {
        "duration": 27,
        "start_time": "2022-05-13T21:47:15.717Z"
      },
      {
        "duration": 9,
        "start_time": "2022-05-13T21:47:54.759Z"
      },
      {
        "duration": 325,
        "start_time": "2022-05-13T21:50:49.937Z"
      },
      {
        "duration": 11,
        "start_time": "2022-05-13T21:50:57.071Z"
      },
      {
        "duration": 6,
        "start_time": "2022-05-13T21:51:33.321Z"
      },
      {
        "duration": 7,
        "start_time": "2022-05-13T21:51:44.063Z"
      },
      {
        "duration": 7,
        "start_time": "2022-05-13T21:51:59.209Z"
      },
      {
        "duration": 6,
        "start_time": "2022-05-13T21:52:34.083Z"
      },
      {
        "duration": 6,
        "start_time": "2022-05-13T21:52:49.914Z"
      },
      {
        "duration": 269,
        "start_time": "2022-05-13T21:53:00.688Z"
      },
      {
        "duration": 12,
        "start_time": "2022-05-13T21:53:55.433Z"
      },
      {
        "duration": 7,
        "start_time": "2022-05-13T21:54:11.552Z"
      },
      {
        "duration": 6,
        "start_time": "2022-05-13T21:54:22.287Z"
      },
      {
        "duration": 243,
        "start_time": "2022-05-13T21:54:38.424Z"
      },
      {
        "duration": 13,
        "start_time": "2022-05-13T21:56:00.017Z"
      },
      {
        "duration": 6,
        "start_time": "2022-05-13T21:56:12.192Z"
      },
      {
        "duration": 6,
        "start_time": "2022-05-13T21:56:22.534Z"
      },
      {
        "duration": 234,
        "start_time": "2022-05-13T21:56:35.504Z"
      },
      {
        "duration": 13,
        "start_time": "2022-05-13T21:57:12.690Z"
      },
      {
        "duration": 6,
        "start_time": "2022-05-13T21:57:28.496Z"
      },
      {
        "duration": 6,
        "start_time": "2022-05-13T21:57:38.735Z"
      },
      {
        "duration": 225,
        "start_time": "2022-05-13T21:57:49.466Z"
      },
      {
        "duration": 13,
        "start_time": "2022-05-13T21:58:40.641Z"
      },
      {
        "duration": 7,
        "start_time": "2022-05-13T21:58:57.536Z"
      },
      {
        "duration": 7,
        "start_time": "2022-05-13T21:59:11.640Z"
      },
      {
        "duration": 228,
        "start_time": "2022-05-13T21:59:24.745Z"
      },
      {
        "duration": 12,
        "start_time": "2022-05-13T21:59:54.096Z"
      },
      {
        "duration": 6,
        "start_time": "2022-05-13T22:00:04.392Z"
      },
      {
        "duration": 7,
        "start_time": "2022-05-13T22:00:14.267Z"
      },
      {
        "duration": 212,
        "start_time": "2022-05-13T22:00:27.512Z"
      },
      {
        "duration": 3,
        "start_time": "2022-05-13T22:03:22.364Z"
      },
      {
        "duration": 10,
        "start_time": "2022-05-13T22:03:36.160Z"
      },
      {
        "duration": 9,
        "start_time": "2022-05-13T22:05:32.426Z"
      },
      {
        "duration": 9,
        "start_time": "2022-05-13T22:05:43.483Z"
      },
      {
        "duration": 173,
        "start_time": "2022-05-14T16:18:24.178Z"
      },
      {
        "duration": 260,
        "start_time": "2022-05-14T16:19:29.573Z"
      },
      {
        "duration": 1254,
        "start_time": "2022-05-14T16:21:02.215Z"
      },
      {
        "duration": 49,
        "start_time": "2022-05-14T16:21:03.471Z"
      },
      {
        "duration": 647,
        "start_time": "2022-05-14T16:21:03.522Z"
      },
      {
        "duration": 101,
        "start_time": "2022-05-14T16:21:04.171Z"
      },
      {
        "duration": 147,
        "start_time": "2022-05-14T16:21:04.274Z"
      },
      {
        "duration": 25,
        "start_time": "2022-05-14T16:21:04.423Z"
      },
      {
        "duration": 408,
        "start_time": "2022-05-14T16:21:04.450Z"
      },
      {
        "duration": 272,
        "start_time": "2022-05-14T16:21:04.859Z"
      },
      {
        "duration": 27,
        "start_time": "2022-05-14T16:21:05.133Z"
      },
      {
        "duration": 217,
        "start_time": "2022-05-14T16:21:05.163Z"
      },
      {
        "duration": 3,
        "start_time": "2022-05-14T16:21:05.381Z"
      },
      {
        "duration": 543,
        "start_time": "2022-05-14T16:21:05.386Z"
      },
      {
        "duration": 33,
        "start_time": "2022-05-14T16:21:05.931Z"
      },
      {
        "duration": 23,
        "start_time": "2022-05-14T16:21:05.966Z"
      },
      {
        "duration": 170,
        "start_time": "2022-05-14T16:21:05.991Z"
      },
      {
        "duration": 22,
        "start_time": "2022-05-14T16:21:06.163Z"
      },
      {
        "duration": 155,
        "start_time": "2022-05-14T16:21:06.187Z"
      },
      {
        "duration": 30,
        "start_time": "2022-05-14T16:21:06.344Z"
      },
      {
        "duration": 145,
        "start_time": "2022-05-14T16:21:06.376Z"
      },
      {
        "duration": 29,
        "start_time": "2022-05-14T16:21:06.522Z"
      },
      {
        "duration": 16,
        "start_time": "2022-05-14T16:21:06.553Z"
      },
      {
        "duration": 19,
        "start_time": "2022-05-14T16:21:06.571Z"
      },
      {
        "duration": 50,
        "start_time": "2022-05-14T16:21:06.592Z"
      },
      {
        "duration": 28,
        "start_time": "2022-05-14T16:21:06.646Z"
      },
      {
        "duration": 125,
        "start_time": "2022-05-14T16:21:06.676Z"
      },
      {
        "duration": 18,
        "start_time": "2022-05-14T16:21:06.803Z"
      },
      {
        "duration": 10,
        "start_time": "2022-05-14T16:21:06.833Z"
      },
      {
        "duration": 17,
        "start_time": "2022-05-14T16:21:06.848Z"
      },
      {
        "duration": 7,
        "start_time": "2022-05-14T16:21:06.867Z"
      },
      {
        "duration": 8,
        "start_time": "2022-05-14T16:21:06.876Z"
      },
      {
        "duration": 6,
        "start_time": "2022-05-14T16:21:06.885Z"
      },
      {
        "duration": 10,
        "start_time": "2022-05-14T16:21:06.893Z"
      },
      {
        "duration": 8,
        "start_time": "2022-05-14T16:21:06.904Z"
      },
      {
        "duration": 210,
        "start_time": "2022-05-14T16:21:06.914Z"
      },
      {
        "duration": 20,
        "start_time": "2022-05-14T16:21:07.126Z"
      },
      {
        "duration": 11,
        "start_time": "2022-05-14T16:21:07.148Z"
      },
      {
        "duration": 12,
        "start_time": "2022-05-14T16:21:07.161Z"
      },
      {
        "duration": 185,
        "start_time": "2022-05-14T16:21:07.174Z"
      },
      {
        "duration": 9,
        "start_time": "2022-05-14T16:21:07.361Z"
      },
      {
        "duration": 7,
        "start_time": "2022-05-14T16:21:07.371Z"
      },
      {
        "duration": 10,
        "start_time": "2022-05-14T16:21:07.379Z"
      },
      {
        "duration": 196,
        "start_time": "2022-05-14T16:21:07.390Z"
      },
      {
        "duration": 9,
        "start_time": "2022-05-14T16:21:07.588Z"
      },
      {
        "duration": 8,
        "start_time": "2022-05-14T16:21:07.598Z"
      },
      {
        "duration": 7,
        "start_time": "2022-05-14T16:21:07.608Z"
      },
      {
        "duration": 162,
        "start_time": "2022-05-14T16:21:07.635Z"
      },
      {
        "duration": 9,
        "start_time": "2022-05-14T16:21:07.799Z"
      },
      {
        "duration": 14,
        "start_time": "2022-05-14T16:21:07.810Z"
      },
      {
        "duration": 13,
        "start_time": "2022-05-14T16:21:07.826Z"
      },
      {
        "duration": 182,
        "start_time": "2022-05-14T16:21:07.841Z"
      },
      {
        "duration": 20,
        "start_time": "2022-05-14T16:21:08.025Z"
      },
      {
        "duration": 12,
        "start_time": "2022-05-14T16:21:08.047Z"
      },
      {
        "duration": 8,
        "start_time": "2022-05-14T16:21:08.061Z"
      },
      {
        "duration": 177,
        "start_time": "2022-05-14T16:21:08.071Z"
      },
      {
        "duration": 3,
        "start_time": "2022-05-14T16:21:08.250Z"
      },
      {
        "duration": 9,
        "start_time": "2022-05-14T16:21:08.255Z"
      },
      {
        "duration": 9,
        "start_time": "2022-05-14T16:21:08.265Z"
      },
      {
        "duration": 13,
        "start_time": "2022-05-14T16:21:08.275Z"
      },
      {
        "duration": 29,
        "start_time": "2022-05-14T16:21:26.729Z"
      },
      {
        "duration": 290,
        "start_time": "2022-05-14T16:22:21.775Z"
      },
      {
        "duration": 127,
        "start_time": "2022-05-14T16:22:27.025Z"
      },
      {
        "duration": 294,
        "start_time": "2022-05-14T16:22:47.558Z"
      },
      {
        "duration": 26,
        "start_time": "2022-05-14T16:25:34.798Z"
      },
      {
        "duration": 20,
        "start_time": "2022-05-14T16:26:11.960Z"
      },
      {
        "duration": 27,
        "start_time": "2022-05-14T16:26:53.404Z"
      },
      {
        "duration": 171,
        "start_time": "2022-05-14T16:28:14.384Z"
      },
      {
        "duration": 129,
        "start_time": "2022-05-14T16:28:42.652Z"
      },
      {
        "duration": 186,
        "start_time": "2022-05-14T16:29:56.387Z"
      },
      {
        "duration": 170,
        "start_time": "2022-05-14T16:30:58.008Z"
      },
      {
        "duration": 180,
        "start_time": "2022-05-14T16:32:36.214Z"
      },
      {
        "duration": 174,
        "start_time": "2022-05-14T16:34:37.579Z"
      },
      {
        "duration": 299,
        "start_time": "2022-05-14T16:35:39.655Z"
      },
      {
        "duration": 83,
        "start_time": "2022-05-14T16:36:00.077Z"
      },
      {
        "duration": 20,
        "start_time": "2022-05-14T16:36:23.135Z"
      },
      {
        "duration": 16,
        "start_time": "2022-05-14T16:36:38.499Z"
      },
      {
        "duration": 38,
        "start_time": "2022-05-14T16:36:58.702Z"
      },
      {
        "duration": 9,
        "start_time": "2022-05-14T16:37:16.982Z"
      },
      {
        "duration": 4,
        "start_time": "2022-05-14T16:37:36.389Z"
      },
      {
        "duration": 24,
        "start_time": "2022-05-14T16:37:40.775Z"
      },
      {
        "duration": 160,
        "start_time": "2022-05-14T16:38:06.187Z"
      },
      {
        "duration": 175,
        "start_time": "2022-05-14T16:38:54.742Z"
      },
      {
        "duration": 168,
        "start_time": "2022-05-14T16:44:20.987Z"
      },
      {
        "duration": 183,
        "start_time": "2022-05-14T16:45:11.571Z"
      },
      {
        "duration": 5,
        "start_time": "2022-05-14T16:50:22.065Z"
      },
      {
        "duration": 44,
        "start_time": "2022-05-14T16:51:24.018Z"
      },
      {
        "duration": 16,
        "start_time": "2022-05-14T16:51:57.334Z"
      },
      {
        "duration": 44,
        "start_time": "2022-05-14T16:52:10.717Z"
      },
      {
        "duration": 169,
        "start_time": "2022-05-14T16:57:26.337Z"
      },
      {
        "duration": 50,
        "start_time": "2022-05-14T16:57:45.806Z"
      },
      {
        "duration": 64,
        "start_time": "2022-05-14T16:58:35.590Z"
      },
      {
        "duration": 190,
        "start_time": "2022-05-14T17:04:08.735Z"
      },
      {
        "duration": 19,
        "start_time": "2022-05-14T17:04:26.149Z"
      },
      {
        "duration": 55,
        "start_time": "2022-05-14T17:04:35.225Z"
      },
      {
        "duration": 15,
        "start_time": "2022-05-14T17:09:47.840Z"
      },
      {
        "duration": 18,
        "start_time": "2022-05-14T17:10:29.753Z"
      },
      {
        "duration": 16,
        "start_time": "2022-05-14T17:12:11.077Z"
      },
      {
        "duration": 17,
        "start_time": "2022-05-14T17:12:25.610Z"
      },
      {
        "duration": 183,
        "start_time": "2022-05-14T17:14:01.345Z"
      },
      {
        "duration": 167,
        "start_time": "2022-05-14T17:14:37.855Z"
      },
      {
        "duration": 180,
        "start_time": "2022-05-14T17:16:44.204Z"
      },
      {
        "duration": 174,
        "start_time": "2022-05-14T17:18:29.716Z"
      },
      {
        "duration": 745,
        "start_time": "2022-05-14T17:20:09.076Z"
      },
      {
        "duration": 161,
        "start_time": "2022-05-14T17:22:20.283Z"
      },
      {
        "duration": 162,
        "start_time": "2022-05-14T17:23:13.079Z"
      },
      {
        "duration": 156,
        "start_time": "2022-05-14T17:23:38.846Z"
      },
      {
        "duration": 184,
        "start_time": "2022-05-14T17:24:14.784Z"
      },
      {
        "duration": 163,
        "start_time": "2022-05-14T17:27:33.733Z"
      },
      {
        "duration": 17,
        "start_time": "2022-05-14T17:29:38.953Z"
      },
      {
        "duration": 16,
        "start_time": "2022-05-14T17:29:57.537Z"
      },
      {
        "duration": 216,
        "start_time": "2022-05-14T17:36:25.241Z"
      },
      {
        "duration": 192,
        "start_time": "2022-05-14T17:40:23.398Z"
      },
      {
        "duration": 183,
        "start_time": "2022-05-14T17:42:13.273Z"
      },
      {
        "duration": 236,
        "start_time": "2022-05-14T17:42:22.117Z"
      },
      {
        "duration": 164,
        "start_time": "2022-05-14T17:42:25.235Z"
      },
      {
        "duration": 193,
        "start_time": "2022-05-14T17:43:12.130Z"
      },
      {
        "duration": 14,
        "start_time": "2022-05-14T17:50:30.458Z"
      },
      {
        "duration": 171,
        "start_time": "2022-05-14T17:56:10.037Z"
      },
      {
        "duration": 167,
        "start_time": "2022-05-14T17:56:15.893Z"
      },
      {
        "duration": 1180,
        "start_time": "2022-05-14T18:00:05.430Z"
      },
      {
        "duration": 41,
        "start_time": "2022-05-14T18:00:06.612Z"
      },
      {
        "duration": 163,
        "start_time": "2022-05-14T18:00:06.654Z"
      },
      {
        "duration": 98,
        "start_time": "2022-05-14T18:00:06.820Z"
      },
      {
        "duration": 148,
        "start_time": "2022-05-14T18:00:06.920Z"
      },
      {
        "duration": 22,
        "start_time": "2022-05-14T18:00:07.069Z"
      },
      {
        "duration": 395,
        "start_time": "2022-05-14T18:00:07.093Z"
      },
      {
        "duration": 261,
        "start_time": "2022-05-14T18:00:07.489Z"
      },
      {
        "duration": 24,
        "start_time": "2022-05-14T18:00:07.752Z"
      },
      {
        "duration": 198,
        "start_time": "2022-05-14T18:00:07.780Z"
      },
      {
        "duration": 3,
        "start_time": "2022-05-14T18:00:07.980Z"
      },
      {
        "duration": 505,
        "start_time": "2022-05-14T18:00:07.985Z"
      },
      {
        "duration": 28,
        "start_time": "2022-05-14T18:00:08.492Z"
      },
      {
        "duration": 33,
        "start_time": "2022-05-14T18:00:08.522Z"
      },
      {
        "duration": 147,
        "start_time": "2022-05-14T18:00:08.557Z"
      },
      {
        "duration": 30,
        "start_time": "2022-05-14T18:00:08.706Z"
      },
      {
        "duration": 133,
        "start_time": "2022-05-14T18:00:08.737Z"
      },
      {
        "duration": 23,
        "start_time": "2022-05-14T18:00:08.871Z"
      },
      {
        "duration": 118,
        "start_time": "2022-05-14T18:00:08.896Z"
      },
      {
        "duration": 23,
        "start_time": "2022-05-14T18:00:09.015Z"
      },
      {
        "duration": 15,
        "start_time": "2022-05-14T18:00:09.040Z"
      },
      {
        "duration": 17,
        "start_time": "2022-05-14T18:00:09.056Z"
      },
      {
        "duration": 18,
        "start_time": "2022-05-14T18:00:09.075Z"
      },
      {
        "duration": 49,
        "start_time": "2022-05-14T18:00:09.094Z"
      },
      {
        "duration": 108,
        "start_time": "2022-05-14T18:00:09.145Z"
      },
      {
        "duration": 18,
        "start_time": "2022-05-14T18:00:09.254Z"
      },
      {
        "duration": 6,
        "start_time": "2022-05-14T18:00:09.273Z"
      },
      {
        "duration": 7,
        "start_time": "2022-05-14T18:00:09.283Z"
      },
      {
        "duration": 8,
        "start_time": "2022-05-14T18:00:09.292Z"
      },
      {
        "duration": 7,
        "start_time": "2022-05-14T18:00:09.302Z"
      },
      {
        "duration": 5,
        "start_time": "2022-05-14T18:00:09.334Z"
      },
      {
        "duration": 7,
        "start_time": "2022-05-14T18:00:09.341Z"
      },
      {
        "duration": 6,
        "start_time": "2022-05-14T18:00:09.350Z"
      },
      {
        "duration": 196,
        "start_time": "2022-05-14T18:00:09.358Z"
      },
      {
        "duration": 9,
        "start_time": "2022-05-14T18:00:09.556Z"
      },
      {
        "duration": 7,
        "start_time": "2022-05-14T18:00:09.566Z"
      },
      {
        "duration": 6,
        "start_time": "2022-05-14T18:00:09.575Z"
      },
      {
        "duration": 189,
        "start_time": "2022-05-14T18:00:09.583Z"
      },
      {
        "duration": 9,
        "start_time": "2022-05-14T18:00:09.774Z"
      },
      {
        "duration": 5,
        "start_time": "2022-05-14T18:00:09.785Z"
      },
      {
        "duration": 7,
        "start_time": "2022-05-14T18:00:09.791Z"
      },
      {
        "duration": 190,
        "start_time": "2022-05-14T18:00:09.800Z"
      },
      {
        "duration": 10,
        "start_time": "2022-05-14T18:00:09.992Z"
      },
      {
        "duration": 6,
        "start_time": "2022-05-14T18:00:10.004Z"
      },
      {
        "duration": 23,
        "start_time": "2022-05-14T18:00:10.012Z"
      },
      {
        "duration": 166,
        "start_time": "2022-05-14T18:00:10.037Z"
      },
      {
        "duration": 10,
        "start_time": "2022-05-14T18:00:10.205Z"
      },
      {
        "duration": 18,
        "start_time": "2022-05-14T18:00:10.217Z"
      },
      {
        "duration": 5,
        "start_time": "2022-05-14T18:00:10.236Z"
      },
      {
        "duration": 168,
        "start_time": "2022-05-14T18:00:10.243Z"
      },
      {
        "duration": 10,
        "start_time": "2022-05-14T18:00:10.413Z"
      },
      {
        "duration": 4,
        "start_time": "2022-05-14T18:00:10.434Z"
      },
      {
        "duration": 7,
        "start_time": "2022-05-14T18:00:10.440Z"
      },
      {
        "duration": 171,
        "start_time": "2022-05-14T18:00:10.449Z"
      },
      {
        "duration": 2,
        "start_time": "2022-05-14T18:00:10.622Z"
      },
      {
        "duration": 7,
        "start_time": "2022-05-14T18:00:10.633Z"
      },
      {
        "duration": 13,
        "start_time": "2022-05-14T18:00:10.641Z"
      },
      {
        "duration": 12,
        "start_time": "2022-05-14T18:00:10.655Z"
      },
      {
        "duration": 22,
        "start_time": "2022-05-14T18:02:50.071Z"
      },
      {
        "duration": 15,
        "start_time": "2022-05-14T18:04:03.949Z"
      },
      {
        "duration": 6,
        "start_time": "2022-05-14T18:04:17.003Z"
      },
      {
        "duration": 5,
        "start_time": "2022-05-14T18:04:21.989Z"
      },
      {
        "duration": 1107,
        "start_time": "2022-05-14T18:20:57.790Z"
      },
      {
        "duration": 37,
        "start_time": "2022-05-14T18:20:58.899Z"
      },
      {
        "duration": 163,
        "start_time": "2022-05-14T18:20:58.937Z"
      },
      {
        "duration": 96,
        "start_time": "2022-05-14T18:20:59.102Z"
      },
      {
        "duration": 145,
        "start_time": "2022-05-14T18:20:59.199Z"
      },
      {
        "duration": 20,
        "start_time": "2022-05-14T18:20:59.346Z"
      },
      {
        "duration": 399,
        "start_time": "2022-05-14T18:20:59.368Z"
      },
      {
        "duration": 261,
        "start_time": "2022-05-14T18:20:59.769Z"
      },
      {
        "duration": 25,
        "start_time": "2022-05-14T18:21:00.034Z"
      },
      {
        "duration": 207,
        "start_time": "2022-05-14T18:21:00.062Z"
      },
      {
        "duration": 4,
        "start_time": "2022-05-14T18:21:00.271Z"
      },
      {
        "duration": 549,
        "start_time": "2022-05-14T18:21:00.276Z"
      },
      {
        "duration": 29,
        "start_time": "2022-05-14T18:21:00.827Z"
      },
      {
        "duration": 24,
        "start_time": "2022-05-14T18:21:00.858Z"
      },
      {
        "duration": 160,
        "start_time": "2022-05-14T18:21:00.884Z"
      },
      {
        "duration": 22,
        "start_time": "2022-05-14T18:21:01.045Z"
      },
      {
        "duration": 148,
        "start_time": "2022-05-14T18:21:01.069Z"
      },
      {
        "duration": 29,
        "start_time": "2022-05-14T18:21:01.219Z"
      },
      {
        "duration": 121,
        "start_time": "2022-05-14T18:21:01.250Z"
      },
      {
        "duration": 20,
        "start_time": "2022-05-14T18:21:01.373Z"
      },
      {
        "duration": 40,
        "start_time": "2022-05-14T18:21:01.395Z"
      },
      {
        "duration": 19,
        "start_time": "2022-05-14T18:21:01.437Z"
      },
      {
        "duration": 19,
        "start_time": "2022-05-14T18:21:01.458Z"
      },
      {
        "duration": 21,
        "start_time": "2022-05-14T18:21:01.479Z"
      },
      {
        "duration": 132,
        "start_time": "2022-05-14T18:21:01.501Z"
      },
      {
        "duration": 18,
        "start_time": "2022-05-14T18:21:01.635Z"
      },
      {
        "duration": 7,
        "start_time": "2022-05-14T18:21:01.655Z"
      },
      {
        "duration": 14,
        "start_time": "2022-05-14T18:21:01.666Z"
      },
      {
        "duration": 27,
        "start_time": "2022-05-14T18:21:01.682Z"
      },
      {
        "duration": 18,
        "start_time": "2022-05-14T18:21:01.711Z"
      },
      {
        "duration": 21,
        "start_time": "2022-05-14T18:21:01.731Z"
      },
      {
        "duration": 21,
        "start_time": "2022-05-14T18:21:01.754Z"
      },
      {
        "duration": 17,
        "start_time": "2022-05-14T18:21:01.777Z"
      },
      {
        "duration": 193,
        "start_time": "2022-05-14T18:21:01.796Z"
      },
      {
        "duration": 9,
        "start_time": "2022-05-14T18:21:01.991Z"
      },
      {
        "duration": 17,
        "start_time": "2022-05-14T18:21:02.002Z"
      },
      {
        "duration": 15,
        "start_time": "2022-05-14T18:21:02.020Z"
      },
      {
        "duration": 181,
        "start_time": "2022-05-14T18:21:02.037Z"
      },
      {
        "duration": 18,
        "start_time": "2022-05-14T18:21:02.220Z"
      },
      {
        "duration": 23,
        "start_time": "2022-05-14T18:21:02.239Z"
      },
      {
        "duration": 25,
        "start_time": "2022-05-14T18:21:02.264Z"
      },
      {
        "duration": 172,
        "start_time": "2022-05-14T18:21:02.291Z"
      },
      {
        "duration": 11,
        "start_time": "2022-05-14T18:21:02.465Z"
      },
      {
        "duration": 7,
        "start_time": "2022-05-14T18:21:02.477Z"
      },
      {
        "duration": 8,
        "start_time": "2022-05-14T18:21:02.485Z"
      },
      {
        "duration": 177,
        "start_time": "2022-05-14T18:21:02.494Z"
      },
      {
        "duration": 9,
        "start_time": "2022-05-14T18:21:02.673Z"
      },
      {
        "duration": 24,
        "start_time": "2022-05-14T18:21:02.684Z"
      },
      {
        "duration": 14,
        "start_time": "2022-05-14T18:21:02.710Z"
      },
      {
        "duration": 164,
        "start_time": "2022-05-14T18:21:02.726Z"
      },
      {
        "duration": 9,
        "start_time": "2022-05-14T18:21:02.891Z"
      },
      {
        "duration": 15,
        "start_time": "2022-05-14T18:21:02.902Z"
      },
      {
        "duration": 15,
        "start_time": "2022-05-14T18:21:02.919Z"
      },
      {
        "duration": 150,
        "start_time": "2022-05-14T18:21:02.936Z"
      },
      {
        "duration": 3,
        "start_time": "2022-05-14T18:21:03.088Z"
      },
      {
        "duration": 19,
        "start_time": "2022-05-14T18:21:03.092Z"
      },
      {
        "duration": 14,
        "start_time": "2022-05-14T18:21:03.112Z"
      },
      {
        "duration": 10,
        "start_time": "2022-05-14T18:21:03.133Z"
      },
      {
        "duration": 1338,
        "start_time": "2022-05-15T16:34:10.246Z"
      },
      {
        "duration": 36,
        "start_time": "2022-05-15T16:34:11.586Z"
      },
      {
        "duration": 335,
        "start_time": "2022-05-15T16:34:16.166Z"
      },
      {
        "duration": 195,
        "start_time": "2022-05-15T16:34:17.933Z"
      },
      {
        "duration": 169,
        "start_time": "2022-05-15T16:34:21.120Z"
      },
      {
        "duration": 16,
        "start_time": "2022-05-15T16:34:22.390Z"
      },
      {
        "duration": 380,
        "start_time": "2022-05-15T16:34:27.118Z"
      },
      {
        "duration": 258,
        "start_time": "2022-05-15T16:34:29.622Z"
      },
      {
        "duration": 23,
        "start_time": "2022-05-15T16:34:36.733Z"
      },
      {
        "duration": 196,
        "start_time": "2022-05-15T16:34:42.397Z"
      },
      {
        "duration": 3,
        "start_time": "2022-05-15T16:34:47.036Z"
      },
      {
        "duration": 494,
        "start_time": "2022-05-15T16:34:48.013Z"
      },
      {
        "duration": 29,
        "start_time": "2022-05-15T16:34:52.718Z"
      },
      {
        "duration": 27,
        "start_time": "2022-05-15T16:34:57.485Z"
      },
      {
        "duration": 1562,
        "start_time": "2022-05-15T16:36:46.959Z"
      },
      {
        "duration": 31,
        "start_time": "2022-05-15T16:37:53.959Z"
      },
      {
        "duration": 39,
        "start_time": "2022-05-15T16:40:02.599Z"
      },
      {
        "duration": 185,
        "start_time": "2022-05-15T16:40:04.312Z"
      },
      {
        "duration": 24,
        "start_time": "2022-05-15T16:41:22.673Z"
      },
      {
        "duration": 149,
        "start_time": "2022-05-15T16:41:24.873Z"
      },
      {
        "duration": 34,
        "start_time": "2022-05-15T16:41:32.001Z"
      },
      {
        "duration": 151,
        "start_time": "2022-05-15T16:41:33.081Z"
      },
      {
        "duration": 17,
        "start_time": "2022-05-15T16:43:02.140Z"
      },
      {
        "duration": 25,
        "start_time": "2022-05-15T16:43:15.133Z"
      },
      {
        "duration": 132,
        "start_time": "2022-05-15T16:43:16.731Z"
      },
      {
        "duration": 21,
        "start_time": "2022-05-15T16:43:22.138Z"
      },
      {
        "duration": 153,
        "start_time": "2022-05-15T16:43:23.018Z"
      },
      {
        "duration": 23,
        "start_time": "2022-05-15T16:43:27.250Z"
      },
      {
        "duration": 137,
        "start_time": "2022-05-15T16:43:27.898Z"
      },
      {
        "duration": 29,
        "start_time": "2022-05-15T16:43:54.411Z"
      },
      {
        "duration": 27,
        "start_time": "2022-05-15T16:44:44.212Z"
      },
      {
        "duration": 71,
        "start_time": "2022-05-15T16:45:36.996Z"
      },
      {
        "duration": 14,
        "start_time": "2022-05-15T16:45:46.388Z"
      },
      {
        "duration": 28,
        "start_time": "2022-05-15T16:45:53.595Z"
      },
      {
        "duration": 21,
        "start_time": "2022-05-15T16:53:07.223Z"
      },
      {
        "duration": 22,
        "start_time": "2022-05-15T16:53:08.872Z"
      },
      {
        "duration": 120,
        "start_time": "2022-05-15T17:19:32.662Z"
      },
      {
        "duration": 82,
        "start_time": "2022-05-15T17:19:40.726Z"
      },
      {
        "duration": 3,
        "start_time": "2022-05-15T17:23:12.920Z"
      },
      {
        "duration": 2,
        "start_time": "2022-05-15T17:23:32.497Z"
      },
      {
        "duration": 1009,
        "start_time": "2022-05-15T17:30:55.066Z"
      },
      {
        "duration": 29,
        "start_time": "2022-05-15T17:31:00.391Z"
      },
      {
        "duration": 160,
        "start_time": "2022-05-15T17:31:02.222Z"
      },
      {
        "duration": 128,
        "start_time": "2022-05-15T17:31:02.807Z"
      },
      {
        "duration": 140,
        "start_time": "2022-05-15T17:31:06.287Z"
      },
      {
        "duration": 15,
        "start_time": "2022-05-15T17:31:07.607Z"
      },
      {
        "duration": 404,
        "start_time": "2022-05-15T17:31:08.887Z"
      },
      {
        "duration": 259,
        "start_time": "2022-05-15T17:31:10.199Z"
      },
      {
        "duration": 25,
        "start_time": "2022-05-15T17:31:11.910Z"
      },
      {
        "duration": 183,
        "start_time": "2022-05-15T17:31:12.935Z"
      },
      {
        "duration": 3,
        "start_time": "2022-05-15T17:31:28.342Z"
      },
      {
        "duration": 520,
        "start_time": "2022-05-15T17:31:29.287Z"
      },
      {
        "duration": 28,
        "start_time": "2022-05-15T17:31:36.431Z"
      },
      {
        "duration": 25,
        "start_time": "2022-05-15T17:31:40.070Z"
      },
      {
        "duration": 29,
        "start_time": "2022-05-15T17:32:21.631Z"
      },
      {
        "duration": 23,
        "start_time": "2022-05-15T17:32:23.888Z"
      },
      {
        "duration": 28,
        "start_time": "2022-05-15T17:33:19.881Z"
      },
      {
        "duration": 24,
        "start_time": "2022-05-15T17:33:21.264Z"
      },
      {
        "duration": 25,
        "start_time": "2022-05-15T17:33:34.367Z"
      },
      {
        "duration": 136,
        "start_time": "2022-05-15T17:33:43.976Z"
      },
      {
        "duration": 21,
        "start_time": "2022-05-15T17:33:57.639Z"
      },
      {
        "duration": 131,
        "start_time": "2022-05-15T17:34:03.296Z"
      },
      {
        "duration": 23,
        "start_time": "2022-05-15T17:34:06.064Z"
      },
      {
        "duration": 113,
        "start_time": "2022-05-15T17:34:06.992Z"
      },
      {
        "duration": 1040,
        "start_time": "2022-05-15T17:35:49.918Z"
      },
      {
        "duration": 32,
        "start_time": "2022-05-15T17:35:53.498Z"
      },
      {
        "duration": 163,
        "start_time": "2022-05-15T17:35:54.370Z"
      },
      {
        "duration": 94,
        "start_time": "2022-05-15T17:35:59.250Z"
      },
      {
        "duration": 147,
        "start_time": "2022-05-15T17:36:03.675Z"
      },
      {
        "duration": 15,
        "start_time": "2022-05-15T17:36:06.843Z"
      },
      {
        "duration": 388,
        "start_time": "2022-05-15T17:36:07.611Z"
      },
      {
        "duration": 248,
        "start_time": "2022-05-15T17:36:45.075Z"
      },
      {
        "duration": 23,
        "start_time": "2022-05-15T17:36:47.202Z"
      },
      {
        "duration": 185,
        "start_time": "2022-05-15T17:36:59.074Z"
      },
      {
        "duration": 4,
        "start_time": "2022-05-15T17:37:04.482Z"
      },
      {
        "duration": 493,
        "start_time": "2022-05-15T17:37:05.658Z"
      },
      {
        "duration": 28,
        "start_time": "2022-05-15T17:37:21.675Z"
      },
      {
        "duration": 25,
        "start_time": "2022-05-15T17:37:24.675Z"
      },
      {
        "duration": 26,
        "start_time": "2022-05-15T17:37:39.866Z"
      },
      {
        "duration": 137,
        "start_time": "2022-05-15T17:38:09.116Z"
      },
      {
        "duration": 21,
        "start_time": "2022-05-15T17:38:38.803Z"
      },
      {
        "duration": 122,
        "start_time": "2022-05-15T17:39:04.980Z"
      },
      {
        "duration": 24,
        "start_time": "2022-05-15T17:39:23.292Z"
      },
      {
        "duration": 158,
        "start_time": "2022-05-15T17:39:39.797Z"
      },
      {
        "duration": 20,
        "start_time": "2022-05-15T17:40:02.956Z"
      },
      {
        "duration": 22,
        "start_time": "2022-05-15T17:40:22.124Z"
      },
      {
        "duration": 20,
        "start_time": "2022-05-15T17:40:36.724Z"
      },
      {
        "duration": 116,
        "start_time": "2022-05-15T17:46:40.007Z"
      },
      {
        "duration": 11,
        "start_time": "2022-05-15T17:47:27.656Z"
      },
      {
        "duration": 16,
        "start_time": "2022-05-15T17:48:42.296Z"
      },
      {
        "duration": 17,
        "start_time": "2022-05-15T17:49:26.760Z"
      },
      {
        "duration": 15,
        "start_time": "2022-05-15T17:51:05.561Z"
      },
      {
        "duration": 17,
        "start_time": "2022-05-15T17:53:24.283Z"
      },
      {
        "duration": 55,
        "start_time": "2022-05-15T17:57:05.573Z"
      },
      {
        "duration": 50,
        "start_time": "2022-05-15T17:57:30.687Z"
      },
      {
        "duration": 34,
        "start_time": "2022-05-15T17:58:08.021Z"
      },
      {
        "duration": 3,
        "start_time": "2022-05-15T17:58:09.069Z"
      },
      {
        "duration": 14,
        "start_time": "2022-05-15T18:23:19.873Z"
      },
      {
        "duration": 100,
        "start_time": "2022-05-15T18:27:34.115Z"
      },
      {
        "duration": 14,
        "start_time": "2022-05-15T18:29:38.733Z"
      },
      {
        "duration": 112,
        "start_time": "2022-05-15T18:30:12.637Z"
      },
      {
        "duration": 21,
        "start_time": "2022-05-15T18:30:14.365Z"
      },
      {
        "duration": 67,
        "start_time": "2022-05-15T18:33:11.623Z"
      },
      {
        "duration": 7,
        "start_time": "2022-05-15T18:33:27.174Z"
      },
      {
        "duration": 15,
        "start_time": "2022-05-15T18:34:18.832Z"
      },
      {
        "duration": 13,
        "start_time": "2022-05-15T18:34:45.119Z"
      },
      {
        "duration": 9,
        "start_time": "2022-05-15T18:35:11.096Z"
      },
      {
        "duration": 6,
        "start_time": "2022-05-15T18:35:19.727Z"
      },
      {
        "duration": 5,
        "start_time": "2022-05-15T18:36:06.240Z"
      },
      {
        "duration": 11,
        "start_time": "2022-05-15T18:36:15.368Z"
      },
      {
        "duration": 65,
        "start_time": "2022-05-15T18:37:03.722Z"
      },
      {
        "duration": 8,
        "start_time": "2022-05-15T18:38:17.273Z"
      },
      {
        "duration": 9,
        "start_time": "2022-05-15T18:38:18.401Z"
      },
      {
        "duration": 16,
        "start_time": "2022-05-15T18:40:15.196Z"
      },
      {
        "duration": 13,
        "start_time": "2022-05-15T18:40:16.130Z"
      },
      {
        "duration": 59,
        "start_time": "2022-05-15T18:43:08.501Z"
      },
      {
        "duration": 165,
        "start_time": "2022-05-15T18:48:40.424Z"
      },
      {
        "duration": 12,
        "start_time": "2022-05-15T18:54:24.516Z"
      },
      {
        "duration": 7,
        "start_time": "2022-05-15T18:54:32.037Z"
      },
      {
        "duration": 8,
        "start_time": "2022-05-15T18:54:39.379Z"
      },
      {
        "duration": 170,
        "start_time": "2022-05-15T18:54:59.300Z"
      },
      {
        "duration": 12,
        "start_time": "2022-05-15T18:56:15.565Z"
      },
      {
        "duration": 7,
        "start_time": "2022-05-15T18:56:21.989Z"
      },
      {
        "duration": 7,
        "start_time": "2022-05-15T18:56:28.590Z"
      },
      {
        "duration": 171,
        "start_time": "2022-05-15T18:56:42.797Z"
      },
      {
        "duration": 9,
        "start_time": "2022-05-15T18:58:05.134Z"
      },
      {
        "duration": 9,
        "start_time": "2022-05-15T18:58:12.703Z"
      },
      {
        "duration": 7,
        "start_time": "2022-05-15T18:58:18.998Z"
      },
      {
        "duration": 133,
        "start_time": "2022-05-15T18:58:29.637Z"
      },
      {
        "duration": 14,
        "start_time": "2022-05-15T18:59:41.240Z"
      },
      {
        "duration": 8,
        "start_time": "2022-05-15T18:59:48.094Z"
      },
      {
        "duration": 8,
        "start_time": "2022-05-15T18:59:54.942Z"
      },
      {
        "duration": 153,
        "start_time": "2022-05-15T18:59:59.639Z"
      },
      {
        "duration": 151,
        "start_time": "2022-05-15T19:00:07.351Z"
      },
      {
        "duration": 70,
        "start_time": "2022-05-15T19:00:38.544Z"
      },
      {
        "duration": 15,
        "start_time": "2022-05-15T19:00:57.024Z"
      },
      {
        "duration": 10,
        "start_time": "2022-05-15T19:01:06.960Z"
      },
      {
        "duration": 10,
        "start_time": "2022-05-15T19:01:13.592Z"
      },
      {
        "duration": 154,
        "start_time": "2022-05-15T19:01:19.439Z"
      },
      {
        "duration": 2,
        "start_time": "2022-05-15T19:02:01.904Z"
      },
      {
        "duration": 7,
        "start_time": "2022-05-15T19:02:03.176Z"
      },
      {
        "duration": 9,
        "start_time": "2022-05-15T19:03:16.506Z"
      },
      {
        "duration": 782,
        "start_time": "2022-05-15T19:09:54.317Z"
      },
      {
        "duration": 8,
        "start_time": "2022-05-15T19:10:16.110Z"
      },
      {
        "duration": 8,
        "start_time": "2022-05-15T19:13:32.040Z"
      },
      {
        "duration": 5,
        "start_time": "2022-05-15T19:18:55.226Z"
      },
      {
        "duration": 9,
        "start_time": "2022-05-15T19:19:42.363Z"
      },
      {
        "duration": 6,
        "start_time": "2022-05-15T19:22:01.539Z"
      },
      {
        "duration": 9,
        "start_time": "2022-05-15T19:23:55.247Z"
      },
      {
        "duration": 8,
        "start_time": "2022-05-15T19:24:12.325Z"
      },
      {
        "duration": 6,
        "start_time": "2022-05-15T19:24:13.044Z"
      },
      {
        "duration": 63,
        "start_time": "2022-05-15T19:25:50.734Z"
      },
      {
        "duration": 147,
        "start_time": "2022-05-16T16:00:30.990Z"
      },
      {
        "duration": 127,
        "start_time": "2022-05-16T16:01:56.738Z"
      },
      {
        "duration": 1193,
        "start_time": "2022-05-16T16:04:01.965Z"
      },
      {
        "duration": 42,
        "start_time": "2022-05-16T16:04:03.160Z"
      },
      {
        "duration": 156,
        "start_time": "2022-05-16T16:04:03.204Z"
      },
      {
        "duration": 92,
        "start_time": "2022-05-16T16:04:03.362Z"
      },
      {
        "duration": 144,
        "start_time": "2022-05-16T16:04:03.456Z"
      },
      {
        "duration": 16,
        "start_time": "2022-05-16T16:04:03.603Z"
      },
      {
        "duration": 394,
        "start_time": "2022-05-16T16:04:03.620Z"
      },
      {
        "duration": 260,
        "start_time": "2022-05-16T16:04:04.016Z"
      },
      {
        "duration": 37,
        "start_time": "2022-05-16T16:04:04.277Z"
      },
      {
        "duration": 191,
        "start_time": "2022-05-16T16:04:04.317Z"
      },
      {
        "duration": 3,
        "start_time": "2022-05-16T16:04:04.510Z"
      },
      {
        "duration": 461,
        "start_time": "2022-05-16T16:04:04.515Z"
      },
      {
        "duration": 30,
        "start_time": "2022-05-16T16:04:04.978Z"
      },
      {
        "duration": 25,
        "start_time": "2022-05-16T16:04:05.010Z"
      },
      {
        "duration": 56,
        "start_time": "2022-05-16T16:04:05.036Z"
      },
      {
        "duration": 136,
        "start_time": "2022-05-16T16:04:05.094Z"
      },
      {
        "duration": 18,
        "start_time": "2022-05-16T16:04:05.232Z"
      },
      {
        "duration": 137,
        "start_time": "2022-05-16T16:04:05.252Z"
      },
      {
        "duration": 25,
        "start_time": "2022-05-16T16:04:05.393Z"
      },
      {
        "duration": 121,
        "start_time": "2022-05-16T16:04:05.420Z"
      },
      {
        "duration": 18,
        "start_time": "2022-05-16T16:04:05.542Z"
      },
      {
        "duration": 34,
        "start_time": "2022-05-16T16:04:05.562Z"
      },
      {
        "duration": 19,
        "start_time": "2022-05-16T16:04:05.599Z"
      },
      {
        "duration": 31,
        "start_time": "2022-05-16T16:04:05.620Z"
      },
      {
        "duration": 42,
        "start_time": "2022-05-16T16:04:05.653Z"
      },
      {
        "duration": 129,
        "start_time": "2022-05-16T16:04:05.697Z"
      },
      {
        "duration": 22,
        "start_time": "2022-05-16T16:04:05.828Z"
      },
      {
        "duration": 8,
        "start_time": "2022-05-16T16:04:05.853Z"
      },
      {
        "duration": 26,
        "start_time": "2022-05-16T16:04:05.862Z"
      },
      {
        "duration": 14,
        "start_time": "2022-05-16T16:04:05.891Z"
      },
      {
        "duration": 9,
        "start_time": "2022-05-16T16:04:05.907Z"
      },
      {
        "duration": 18,
        "start_time": "2022-05-16T16:04:05.918Z"
      },
      {
        "duration": 35,
        "start_time": "2022-05-16T16:04:05.937Z"
      },
      {
        "duration": 19,
        "start_time": "2022-05-16T16:04:05.974Z"
      },
      {
        "duration": 187,
        "start_time": "2022-05-16T16:04:05.995Z"
      },
      {
        "duration": 15,
        "start_time": "2022-05-16T16:04:06.184Z"
      },
      {
        "duration": 11,
        "start_time": "2022-05-16T16:04:06.202Z"
      },
      {
        "duration": 14,
        "start_time": "2022-05-16T16:04:06.215Z"
      },
      {
        "duration": 169,
        "start_time": "2022-05-16T16:04:06.230Z"
      },
      {
        "duration": 13,
        "start_time": "2022-05-16T16:04:06.401Z"
      },
      {
        "duration": 8,
        "start_time": "2022-05-16T16:04:06.416Z"
      },
      {
        "duration": 7,
        "start_time": "2022-05-16T16:04:06.425Z"
      },
      {
        "duration": 179,
        "start_time": "2022-05-16T16:04:06.433Z"
      },
      {
        "duration": 9,
        "start_time": "2022-05-16T16:04:06.614Z"
      },
      {
        "duration": 8,
        "start_time": "2022-05-16T16:04:06.625Z"
      },
      {
        "duration": 7,
        "start_time": "2022-05-16T16:04:06.634Z"
      },
      {
        "duration": 170,
        "start_time": "2022-05-16T16:04:06.642Z"
      },
      {
        "duration": 13,
        "start_time": "2022-05-16T16:04:06.814Z"
      },
      {
        "duration": 12,
        "start_time": "2022-05-16T16:04:06.828Z"
      },
      {
        "duration": 8,
        "start_time": "2022-05-16T16:04:06.841Z"
      },
      {
        "duration": 179,
        "start_time": "2022-05-16T16:04:06.850Z"
      },
      {
        "duration": 10,
        "start_time": "2022-05-16T16:04:07.031Z"
      },
      {
        "duration": 9,
        "start_time": "2022-05-16T16:04:07.043Z"
      },
      {
        "duration": 7,
        "start_time": "2022-05-16T16:04:07.054Z"
      },
      {
        "duration": 168,
        "start_time": "2022-05-16T16:04:07.063Z"
      },
      {
        "duration": 3,
        "start_time": "2022-05-16T16:04:07.233Z"
      },
      {
        "duration": 9,
        "start_time": "2022-05-16T16:04:07.237Z"
      },
      {
        "duration": 12,
        "start_time": "2022-05-16T16:04:07.248Z"
      },
      {
        "duration": 7,
        "start_time": "2022-05-16T16:04:07.262Z"
      },
      {
        "duration": 41,
        "start_time": "2022-05-16T16:04:36.272Z"
      },
      {
        "duration": 51,
        "start_time": "2022-05-16T16:05:13.009Z"
      },
      {
        "duration": 10,
        "start_time": "2022-05-16T16:07:54.820Z"
      },
      {
        "duration": 162,
        "start_time": "2022-05-16T16:09:50.280Z"
      },
      {
        "duration": 12,
        "start_time": "2022-05-16T16:10:59.617Z"
      },
      {
        "duration": 337,
        "start_time": "2022-05-16T16:12:30.442Z"
      },
      {
        "duration": 354,
        "start_time": "2022-05-16T16:14:05.989Z"
      },
      {
        "duration": 125,
        "start_time": "2022-05-16T16:16:18.610Z"
      },
      {
        "duration": 8,
        "start_time": "2022-05-16T16:16:48.962Z"
      },
      {
        "duration": 13,
        "start_time": "2022-05-16T16:18:17.265Z"
      },
      {
        "duration": 11,
        "start_time": "2022-05-16T16:20:53.373Z"
      },
      {
        "duration": 107,
        "start_time": "2022-05-16T16:21:00.914Z"
      },
      {
        "duration": 13,
        "start_time": "2022-05-16T16:21:12.358Z"
      },
      {
        "duration": 6,
        "start_time": "2022-05-16T16:21:18.431Z"
      },
      {
        "duration": 13,
        "start_time": "2022-05-16T16:22:52.240Z"
      },
      {
        "duration": 12,
        "start_time": "2022-05-16T16:23:18.341Z"
      },
      {
        "duration": 128,
        "start_time": "2022-05-16T16:23:40.876Z"
      },
      {
        "duration": 10,
        "start_time": "2022-05-16T16:23:44.513Z"
      },
      {
        "duration": 7,
        "start_time": "2022-05-16T16:24:01.538Z"
      },
      {
        "duration": 16,
        "start_time": "2022-05-16T16:28:11.830Z"
      },
      {
        "duration": 11,
        "start_time": "2022-05-16T16:28:20.859Z"
      },
      {
        "duration": 3547,
        "start_time": "2022-05-16T16:28:37.993Z"
      },
      {
        "duration": 9,
        "start_time": "2022-05-16T16:28:44.785Z"
      },
      {
        "duration": 17,
        "start_time": "2022-05-16T16:29:11.137Z"
      },
      {
        "duration": 1813,
        "start_time": "2022-05-16T16:29:52.915Z"
      },
      {
        "duration": 117,
        "start_time": "2022-05-16T16:29:57.810Z"
      },
      {
        "duration": 17,
        "start_time": "2022-05-16T16:30:43.626Z"
      },
      {
        "duration": 8,
        "start_time": "2022-05-16T16:39:26.349Z"
      },
      {
        "duration": 16,
        "start_time": "2022-05-16T16:40:08.207Z"
      },
      {
        "duration": 7,
        "start_time": "2022-05-16T16:40:26.777Z"
      },
      {
        "duration": 5,
        "start_time": "2022-05-16T16:40:54.060Z"
      },
      {
        "duration": 114,
        "start_time": "2022-05-16T16:51:53.601Z"
      },
      {
        "duration": 5,
        "start_time": "2022-05-16T16:53:38.848Z"
      },
      {
        "duration": 4,
        "start_time": "2022-05-16T16:53:44.866Z"
      },
      {
        "duration": 6,
        "start_time": "2022-05-16T16:53:57.943Z"
      },
      {
        "duration": 8,
        "start_time": "2022-05-16T16:54:07.652Z"
      },
      {
        "duration": 5,
        "start_time": "2022-05-16T16:54:21.682Z"
      },
      {
        "duration": 11,
        "start_time": "2022-05-16T16:54:34.195Z"
      },
      {
        "duration": 6,
        "start_time": "2022-05-16T16:54:52.234Z"
      },
      {
        "duration": 17,
        "start_time": "2022-05-16T16:55:23.583Z"
      },
      {
        "duration": 43,
        "start_time": "2022-05-16T16:57:17.183Z"
      },
      {
        "duration": 30,
        "start_time": "2022-05-16T16:57:23.183Z"
      },
      {
        "duration": 4,
        "start_time": "2022-05-16T17:42:27.668Z"
      },
      {
        "duration": 1049,
        "start_time": "2022-05-16T17:42:34.383Z"
      },
      {
        "duration": 30,
        "start_time": "2022-05-16T17:42:35.434Z"
      },
      {
        "duration": 150,
        "start_time": "2022-05-16T17:42:35.466Z"
      },
      {
        "duration": 86,
        "start_time": "2022-05-16T17:42:35.618Z"
      },
      {
        "duration": 134,
        "start_time": "2022-05-16T17:42:35.706Z"
      },
      {
        "duration": 15,
        "start_time": "2022-05-16T17:42:35.841Z"
      },
      {
        "duration": 393,
        "start_time": "2022-05-16T17:42:35.858Z"
      },
      {
        "duration": 253,
        "start_time": "2022-05-16T17:42:36.253Z"
      },
      {
        "duration": 22,
        "start_time": "2022-05-16T17:42:36.508Z"
      },
      {
        "duration": 179,
        "start_time": "2022-05-16T17:42:36.532Z"
      },
      {
        "duration": 3,
        "start_time": "2022-05-16T17:42:36.713Z"
      },
      {
        "duration": 457,
        "start_time": "2022-05-16T17:42:36.717Z"
      },
      {
        "duration": 26,
        "start_time": "2022-05-16T17:42:37.175Z"
      },
      {
        "duration": 22,
        "start_time": "2022-05-16T17:42:37.202Z"
      },
      {
        "duration": 22,
        "start_time": "2022-05-16T17:42:37.225Z"
      },
      {
        "duration": 152,
        "start_time": "2022-05-16T17:42:37.248Z"
      },
      {
        "duration": 20,
        "start_time": "2022-05-16T17:42:37.401Z"
      },
      {
        "duration": 129,
        "start_time": "2022-05-16T17:42:37.423Z"
      },
      {
        "duration": 22,
        "start_time": "2022-05-16T17:42:37.554Z"
      },
      {
        "duration": 119,
        "start_time": "2022-05-16T17:42:37.577Z"
      },
      {
        "duration": 18,
        "start_time": "2022-05-16T17:42:37.697Z"
      },
      {
        "duration": 14,
        "start_time": "2022-05-16T17:42:37.716Z"
      },
      {
        "duration": 16,
        "start_time": "2022-05-16T17:42:37.732Z"
      },
      {
        "duration": 52,
        "start_time": "2022-05-16T17:42:37.749Z"
      },
      {
        "duration": 11,
        "start_time": "2022-05-16T17:42:37.803Z"
      },
      {
        "duration": 110,
        "start_time": "2022-05-16T17:42:37.816Z"
      },
      {
        "duration": 19,
        "start_time": "2022-05-16T17:42:37.928Z"
      },
      {
        "duration": 7,
        "start_time": "2022-05-16T17:42:37.950Z"
      },
      {
        "duration": 8,
        "start_time": "2022-05-16T17:42:37.958Z"
      },
      {
        "duration": 24,
        "start_time": "2022-05-16T17:42:37.968Z"
      },
      {
        "duration": 9,
        "start_time": "2022-05-16T17:42:37.994Z"
      },
      {
        "duration": 7,
        "start_time": "2022-05-16T17:42:38.004Z"
      },
      {
        "duration": 13,
        "start_time": "2022-05-16T17:42:38.013Z"
      },
      {
        "duration": 11,
        "start_time": "2022-05-16T17:42:38.027Z"
      },
      {
        "duration": 193,
        "start_time": "2022-05-16T17:42:38.040Z"
      },
      {
        "duration": 10,
        "start_time": "2022-05-16T17:42:38.235Z"
      },
      {
        "duration": 10,
        "start_time": "2022-05-16T17:42:38.247Z"
      },
      {
        "duration": 10,
        "start_time": "2022-05-16T17:42:38.259Z"
      },
      {
        "duration": 161,
        "start_time": "2022-05-16T17:42:38.270Z"
      },
      {
        "duration": 12,
        "start_time": "2022-05-16T17:42:38.433Z"
      },
      {
        "duration": 8,
        "start_time": "2022-05-16T17:42:38.446Z"
      },
      {
        "duration": 7,
        "start_time": "2022-05-16T17:42:38.456Z"
      },
      {
        "duration": 157,
        "start_time": "2022-05-16T17:42:38.465Z"
      },
      {
        "duration": 5,
        "start_time": "2022-05-16T17:42:38.623Z"
      },
      {
        "duration": 15,
        "start_time": "2022-05-16T17:42:38.629Z"
      },
      {
        "duration": 7,
        "start_time": "2022-05-16T17:42:38.646Z"
      },
      {
        "duration": 8,
        "start_time": "2022-05-16T17:42:38.654Z"
      },
      {
        "duration": 150,
        "start_time": "2022-05-16T17:42:38.664Z"
      },
      {
        "duration": 14,
        "start_time": "2022-05-16T17:42:38.815Z"
      },
      {
        "duration": 7,
        "start_time": "2022-05-16T17:42:38.831Z"
      },
      {
        "duration": 8,
        "start_time": "2022-05-16T17:42:38.839Z"
      },
      {
        "duration": 178,
        "start_time": "2022-05-16T17:42:38.849Z"
      },
      {
        "duration": 11,
        "start_time": "2022-05-16T17:42:39.028Z"
      },
      {
        "duration": 9,
        "start_time": "2022-05-16T17:42:39.040Z"
      },
      {
        "duration": 7,
        "start_time": "2022-05-16T17:42:39.050Z"
      },
      {
        "duration": 154,
        "start_time": "2022-05-16T17:42:39.059Z"
      },
      {
        "duration": 2,
        "start_time": "2022-05-16T17:42:39.215Z"
      },
      {
        "duration": 9,
        "start_time": "2022-05-16T17:42:39.219Z"
      },
      {
        "duration": 9,
        "start_time": "2022-05-16T17:42:39.230Z"
      },
      {
        "duration": 7,
        "start_time": "2022-05-16T17:42:39.240Z"
      },
      {
        "duration": 6,
        "start_time": "2022-05-16T17:48:31.353Z"
      },
      {
        "duration": 1137,
        "start_time": "2022-05-16T17:49:30.500Z"
      },
      {
        "duration": 31,
        "start_time": "2022-05-16T17:49:31.639Z"
      },
      {
        "duration": 160,
        "start_time": "2022-05-16T17:49:31.672Z"
      },
      {
        "duration": 91,
        "start_time": "2022-05-16T17:49:31.834Z"
      },
      {
        "duration": 146,
        "start_time": "2022-05-16T17:49:31.927Z"
      },
      {
        "duration": 21,
        "start_time": "2022-05-16T17:49:32.075Z"
      },
      {
        "duration": 404,
        "start_time": "2022-05-16T17:49:32.097Z"
      },
      {
        "duration": 257,
        "start_time": "2022-05-16T17:49:32.503Z"
      },
      {
        "duration": 27,
        "start_time": "2022-05-16T17:49:32.762Z"
      },
      {
        "duration": 171,
        "start_time": "2022-05-16T17:49:32.791Z"
      },
      {
        "duration": 3,
        "start_time": "2022-05-16T17:49:32.963Z"
      },
      {
        "duration": 475,
        "start_time": "2022-05-16T17:49:32.968Z"
      },
      {
        "duration": 25,
        "start_time": "2022-05-16T17:49:33.445Z"
      },
      {
        "duration": 31,
        "start_time": "2022-05-16T17:49:33.472Z"
      },
      {
        "duration": 24,
        "start_time": "2022-05-16T17:49:33.504Z"
      },
      {
        "duration": 145,
        "start_time": "2022-05-16T17:49:33.529Z"
      },
      {
        "duration": 24,
        "start_time": "2022-05-16T17:49:33.676Z"
      },
      {
        "duration": 126,
        "start_time": "2022-05-16T17:49:33.702Z"
      },
      {
        "duration": 21,
        "start_time": "2022-05-16T17:49:33.830Z"
      },
      {
        "duration": 115,
        "start_time": "2022-05-16T17:49:33.853Z"
      },
      {
        "duration": 25,
        "start_time": "2022-05-16T17:49:33.970Z"
      },
      {
        "duration": 14,
        "start_time": "2022-05-16T17:49:33.996Z"
      },
      {
        "duration": 17,
        "start_time": "2022-05-16T17:49:34.012Z"
      },
      {
        "duration": 30,
        "start_time": "2022-05-16T17:49:34.030Z"
      },
      {
        "duration": 39,
        "start_time": "2022-05-16T17:49:34.061Z"
      },
      {
        "duration": 108,
        "start_time": "2022-05-16T17:49:34.101Z"
      },
      {
        "duration": 19,
        "start_time": "2022-05-16T17:49:34.210Z"
      },
      {
        "duration": 7,
        "start_time": "2022-05-16T17:49:34.232Z"
      },
      {
        "duration": 6,
        "start_time": "2022-05-16T17:49:34.240Z"
      },
      {
        "duration": 10,
        "start_time": "2022-05-16T17:49:34.247Z"
      },
      {
        "duration": 31,
        "start_time": "2022-05-16T17:49:34.259Z"
      },
      {
        "duration": 7,
        "start_time": "2022-05-16T17:49:34.292Z"
      },
      {
        "duration": 15,
        "start_time": "2022-05-16T17:49:34.300Z"
      },
      {
        "duration": 12,
        "start_time": "2022-05-16T17:49:34.316Z"
      },
      {
        "duration": 183,
        "start_time": "2022-05-16T17:49:34.329Z"
      },
      {
        "duration": 11,
        "start_time": "2022-05-16T17:49:34.513Z"
      },
      {
        "duration": 10,
        "start_time": "2022-05-16T17:49:34.526Z"
      },
      {
        "duration": 7,
        "start_time": "2022-05-16T17:49:34.538Z"
      },
      {
        "duration": 167,
        "start_time": "2022-05-16T17:49:34.546Z"
      },
      {
        "duration": 11,
        "start_time": "2022-05-16T17:49:34.715Z"
      },
      {
        "duration": 9,
        "start_time": "2022-05-16T17:49:34.727Z"
      },
      {
        "duration": 9,
        "start_time": "2022-05-16T17:49:34.738Z"
      },
      {
        "duration": 159,
        "start_time": "2022-05-16T17:49:34.748Z"
      },
      {
        "duration": 5,
        "start_time": "2022-05-16T17:49:34.908Z"
      },
      {
        "duration": 12,
        "start_time": "2022-05-16T17:49:34.914Z"
      },
      {
        "duration": 9,
        "start_time": "2022-05-16T17:49:34.927Z"
      },
      {
        "duration": 8,
        "start_time": "2022-05-16T17:49:34.937Z"
      },
      {
        "duration": 152,
        "start_time": "2022-05-16T17:49:34.946Z"
      },
      {
        "duration": 12,
        "start_time": "2022-05-16T17:49:35.100Z"
      },
      {
        "duration": 11,
        "start_time": "2022-05-16T17:49:35.113Z"
      },
      {
        "duration": 6,
        "start_time": "2022-05-16T17:49:35.126Z"
      },
      {
        "duration": 160,
        "start_time": "2022-05-16T17:49:35.133Z"
      },
      {
        "duration": 10,
        "start_time": "2022-05-16T17:49:35.295Z"
      },
      {
        "duration": 10,
        "start_time": "2022-05-16T17:49:35.306Z"
      },
      {
        "duration": 9,
        "start_time": "2022-05-16T17:49:35.317Z"
      },
      {
        "duration": 145,
        "start_time": "2022-05-16T17:49:35.328Z"
      },
      {
        "duration": 3,
        "start_time": "2022-05-16T17:49:35.474Z"
      },
      {
        "duration": 19,
        "start_time": "2022-05-16T17:49:35.478Z"
      },
      {
        "duration": 13,
        "start_time": "2022-05-16T17:49:35.498Z"
      },
      {
        "duration": 5,
        "start_time": "2022-05-16T17:49:35.512Z"
      },
      {
        "duration": 1361,
        "start_time": "2022-05-16T19:08:13.934Z"
      },
      {
        "duration": 40,
        "start_time": "2022-05-16T19:08:15.297Z"
      },
      {
        "duration": 186,
        "start_time": "2022-05-16T19:08:20.783Z"
      },
      {
        "duration": 86,
        "start_time": "2022-05-16T19:08:21.704Z"
      },
      {
        "duration": 129,
        "start_time": "2022-05-16T19:08:22.550Z"
      },
      {
        "duration": 23,
        "start_time": "2022-05-16T19:08:23.331Z"
      },
      {
        "duration": 437,
        "start_time": "2022-05-16T19:08:26.406Z"
      },
      {
        "duration": 268,
        "start_time": "2022-05-16T19:08:27.032Z"
      },
      {
        "duration": 33,
        "start_time": "2022-05-16T19:08:28.245Z"
      },
      {
        "duration": 168,
        "start_time": "2022-05-16T19:08:29.464Z"
      },
      {
        "duration": 3,
        "start_time": "2022-05-16T19:08:33.237Z"
      },
      {
        "duration": 432,
        "start_time": "2022-05-16T19:08:33.841Z"
      },
      {
        "duration": 24,
        "start_time": "2022-05-16T19:08:38.550Z"
      },
      {
        "duration": 21,
        "start_time": "2022-05-16T19:08:40.502Z"
      },
      {
        "duration": 21,
        "start_time": "2022-05-16T19:08:45.745Z"
      },
      {
        "duration": 129,
        "start_time": "2022-05-16T19:08:49.261Z"
      },
      {
        "duration": 19,
        "start_time": "2022-05-16T19:08:53.542Z"
      },
      {
        "duration": 108,
        "start_time": "2022-05-16T19:08:54.622Z"
      },
      {
        "duration": 20,
        "start_time": "2022-05-16T19:08:58.701Z"
      },
      {
        "duration": 92,
        "start_time": "2022-05-16T19:08:59.006Z"
      },
      {
        "duration": 16,
        "start_time": "2022-05-16T19:09:05.391Z"
      },
      {
        "duration": 14,
        "start_time": "2022-05-16T19:09:18.887Z"
      },
      {
        "duration": 15,
        "start_time": "2022-05-16T19:09:25.342Z"
      },
      {
        "duration": 30,
        "start_time": "2022-05-16T19:09:44.471Z"
      },
      {
        "duration": 12,
        "start_time": "2022-05-16T19:10:40.729Z"
      },
      {
        "duration": 1250,
        "start_time": "2022-05-19T17:44:15.538Z"
      },
      {
        "duration": 67,
        "start_time": "2022-05-19T17:44:18.063Z"
      },
      {
        "duration": 222,
        "start_time": "2022-05-19T17:44:19.191Z"
      },
      {
        "duration": 134,
        "start_time": "2022-05-19T17:44:23.215Z"
      },
      {
        "duration": 317,
        "start_time": "2022-05-19T17:44:24.447Z"
      },
      {
        "duration": 48,
        "start_time": "2022-05-19T17:44:27.104Z"
      },
      {
        "duration": 379,
        "start_time": "2022-05-19T17:44:31.447Z"
      },
      {
        "duration": 253,
        "start_time": "2022-05-19T17:44:32.959Z"
      },
      {
        "duration": 32,
        "start_time": "2022-05-19T17:44:37.119Z"
      },
      {
        "duration": 184,
        "start_time": "2022-05-19T17:45:12.968Z"
      },
      {
        "duration": 4,
        "start_time": "2022-05-19T17:45:24.735Z"
      },
      {
        "duration": 454,
        "start_time": "2022-05-19T17:45:25.551Z"
      },
      {
        "duration": 27,
        "start_time": "2022-05-19T17:48:58.882Z"
      },
      {
        "duration": 23,
        "start_time": "2022-05-19T17:49:02.049Z"
      },
      {
        "duration": 26,
        "start_time": "2022-05-19T17:49:24.290Z"
      },
      {
        "duration": 381,
        "start_time": "2022-05-19T17:50:26.811Z"
      },
      {
        "duration": 19,
        "start_time": "2022-05-19T17:50:59.675Z"
      },
      {
        "duration": 116,
        "start_time": "2022-05-19T17:51:24.710Z"
      },
      {
        "duration": 27,
        "start_time": "2022-05-19T17:51:54.692Z"
      },
      {
        "duration": 105,
        "start_time": "2022-05-19T17:52:14.187Z"
      },
      {
        "duration": 19,
        "start_time": "2022-05-19T17:52:31.523Z"
      },
      {
        "duration": 16,
        "start_time": "2022-05-19T17:52:55.483Z"
      },
      {
        "duration": 19,
        "start_time": "2022-05-19T17:53:02.355Z"
      },
      {
        "duration": 177,
        "start_time": "2022-05-19T17:56:07.175Z"
      },
      {
        "duration": 16,
        "start_time": "2022-05-19T17:56:52.551Z"
      },
      {
        "duration": 38,
        "start_time": "2022-05-19T17:58:50.096Z"
      },
      {
        "duration": 21,
        "start_time": "2022-05-19T18:00:55.296Z"
      },
      {
        "duration": 20,
        "start_time": "2022-05-19T18:01:29.873Z"
      },
      {
        "duration": 19,
        "start_time": "2022-05-19T18:01:38.337Z"
      },
      {
        "duration": 115,
        "start_time": "2022-05-19T18:02:16.916Z"
      },
      {
        "duration": 4,
        "start_time": "2022-05-31T20:26:13.127Z"
      },
      {
        "duration": 43,
        "start_time": "2022-05-31T20:26:14.027Z"
      },
      {
        "duration": 170,
        "start_time": "2022-05-31T20:26:15.202Z"
      },
      {
        "duration": 100,
        "start_time": "2022-05-31T20:26:18.076Z"
      },
      {
        "duration": 139,
        "start_time": "2022-05-31T20:26:19.050Z"
      },
      {
        "duration": 30,
        "start_time": "2022-05-31T20:26:21.714Z"
      },
      {
        "duration": 1211,
        "start_time": "2022-05-31T20:27:28.641Z"
      },
      {
        "duration": 53,
        "start_time": "2022-05-31T20:27:30.381Z"
      },
      {
        "duration": 181,
        "start_time": "2022-05-31T20:27:32.164Z"
      },
      {
        "duration": 111,
        "start_time": "2022-05-31T20:27:33.406Z"
      },
      {
        "duration": 159,
        "start_time": "2022-05-31T20:27:35.240Z"
      },
      {
        "duration": 34,
        "start_time": "2022-05-31T20:27:36.709Z"
      },
      {
        "duration": 4,
        "start_time": "2022-05-31T20:28:26.023Z"
      },
      {
        "duration": 29,
        "start_time": "2022-05-31T20:28:44.717Z"
      },
      {
        "duration": 111,
        "start_time": "2022-05-31T20:32:00.551Z"
      },
      {
        "duration": 3,
        "start_time": "2022-05-31T20:32:18.680Z"
      },
      {
        "duration": 2,
        "start_time": "2022-05-31T20:32:34.146Z"
      },
      {
        "duration": 3,
        "start_time": "2022-05-31T20:34:07.873Z"
      },
      {
        "duration": 11,
        "start_time": "2022-05-31T20:35:14.031Z"
      },
      {
        "duration": 117,
        "start_time": "2022-05-31T20:35:52.162Z"
      },
      {
        "duration": 53,
        "start_time": "2022-05-31T20:36:51.868Z"
      },
      {
        "duration": 8,
        "start_time": "2022-05-31T20:36:57.596Z"
      },
      {
        "duration": 77,
        "start_time": "2022-05-31T20:37:00.594Z"
      },
      {
        "duration": 38,
        "start_time": "2022-05-31T20:38:26.468Z"
      },
      {
        "duration": 3,
        "start_time": "2022-05-31T20:39:05.820Z"
      },
      {
        "duration": 41,
        "start_time": "2022-05-31T20:39:29.189Z"
      },
      {
        "duration": 102,
        "start_time": "2022-05-31T20:40:50.158Z"
      },
      {
        "duration": 8,
        "start_time": "2022-05-31T20:46:14.866Z"
      },
      {
        "duration": 17,
        "start_time": "2022-05-31T20:46:28.689Z"
      },
      {
        "duration": 15,
        "start_time": "2022-05-31T20:48:38.995Z"
      },
      {
        "duration": 8,
        "start_time": "2022-05-31T20:50:59.891Z"
      },
      {
        "duration": 9,
        "start_time": "2022-05-31T20:51:03.762Z"
      },
      {
        "duration": 21,
        "start_time": "2022-05-31T20:51:22.403Z"
      },
      {
        "duration": 401,
        "start_time": "2022-05-31T20:52:58.709Z"
      },
      {
        "duration": 1062,
        "start_time": "2022-05-31T20:55:10.061Z"
      },
      {
        "duration": 47,
        "start_time": "2022-05-31T20:55:14.338Z"
      },
      {
        "duration": 181,
        "start_time": "2022-05-31T20:55:14.978Z"
      },
      {
        "duration": 114,
        "start_time": "2022-05-31T20:55:16.979Z"
      },
      {
        "duration": 184,
        "start_time": "2022-05-31T20:55:20.268Z"
      },
      {
        "duration": 30,
        "start_time": "2022-05-31T20:55:22.243Z"
      },
      {
        "duration": 3,
        "start_time": "2022-05-31T20:55:34.676Z"
      },
      {
        "duration": 2,
        "start_time": "2022-05-31T20:55:35.331Z"
      },
      {
        "duration": 3,
        "start_time": "2022-05-31T20:55:36.091Z"
      },
      {
        "duration": 21,
        "start_time": "2022-05-31T20:55:37.202Z"
      },
      {
        "duration": 2,
        "start_time": "2022-05-31T20:55:41.612Z"
      },
      {
        "duration": 2,
        "start_time": "2022-05-31T20:55:41.987Z"
      },
      {
        "duration": 2,
        "start_time": "2022-05-31T20:55:49.163Z"
      },
      {
        "duration": 3,
        "start_time": "2022-05-31T20:55:49.842Z"
      },
      {
        "duration": 88,
        "start_time": "2022-05-31T20:55:50.699Z"
      },
      {
        "duration": 3,
        "start_time": "2022-05-31T20:55:55.562Z"
      },
      {
        "duration": 3,
        "start_time": "2022-05-31T20:56:01.922Z"
      },
      {
        "duration": 59,
        "start_time": "2022-05-31T20:56:28.907Z"
      },
      {
        "duration": 81,
        "start_time": "2022-05-31T20:56:48.052Z"
      },
      {
        "duration": 6,
        "start_time": "2022-05-31T20:57:06.195Z"
      },
      {
        "duration": 90,
        "start_time": "2022-05-31T20:57:32.587Z"
      },
      {
        "duration": 88,
        "start_time": "2022-05-31T20:58:36.806Z"
      },
      {
        "duration": 133,
        "start_time": "2022-05-31T21:00:06.389Z"
      },
      {
        "duration": 125,
        "start_time": "2022-05-31T21:00:36.293Z"
      },
      {
        "duration": 2,
        "start_time": "2022-05-31T21:00:37.174Z"
      },
      {
        "duration": 2,
        "start_time": "2022-05-31T21:00:38.038Z"
      },
      {
        "duration": 37,
        "start_time": "2022-05-31T21:00:45.613Z"
      },
      {
        "duration": 3,
        "start_time": "2022-05-31T21:00:50.182Z"
      },
      {
        "duration": 2,
        "start_time": "2022-05-31T21:00:51.199Z"
      },
      {
        "duration": 29,
        "start_time": "2022-05-31T21:00:53.822Z"
      },
      {
        "duration": 3,
        "start_time": "2022-05-31T21:00:54.782Z"
      },
      {
        "duration": 3,
        "start_time": "2022-05-31T21:00:55.766Z"
      },
      {
        "duration": 121,
        "start_time": "2022-05-31T21:01:30.383Z"
      },
      {
        "duration": 18,
        "start_time": "2022-05-31T21:06:00.578Z"
      },
      {
        "duration": 519,
        "start_time": "2022-05-31T21:08:10.147Z"
      },
      {
        "duration": 589,
        "start_time": "2022-05-31T21:09:05.206Z"
      },
      {
        "duration": 409,
        "start_time": "2022-05-31T21:10:05.884Z"
      },
      {
        "duration": 413,
        "start_time": "2022-05-31T21:17:40.347Z"
      },
      {
        "duration": 31,
        "start_time": "2022-05-31T21:18:53.651Z"
      },
      {
        "duration": 499,
        "start_time": "2022-05-31T21:21:02.604Z"
      },
      {
        "duration": 409,
        "start_time": "2022-05-31T21:26:06.561Z"
      },
      {
        "duration": 402,
        "start_time": "2022-05-31T21:26:35.600Z"
      },
      {
        "duration": 479,
        "start_time": "2022-05-31T21:26:44.913Z"
      },
      {
        "duration": 490,
        "start_time": "2022-05-31T21:27:14.617Z"
      },
      {
        "duration": 442,
        "start_time": "2022-05-31T21:27:22.644Z"
      },
      {
        "duration": 454,
        "start_time": "2022-05-31T21:29:17.221Z"
      },
      {
        "duration": 1024,
        "start_time": "2022-06-02T12:24:34.680Z"
      },
      {
        "duration": 49,
        "start_time": "2022-06-02T12:24:35.707Z"
      },
      {
        "duration": 158,
        "start_time": "2022-06-02T12:24:36.676Z"
      },
      {
        "duration": 121,
        "start_time": "2022-06-02T12:24:39.225Z"
      },
      {
        "duration": 178,
        "start_time": "2022-06-02T12:24:40.470Z"
      },
      {
        "duration": 34,
        "start_time": "2022-06-02T12:24:43.417Z"
      },
      {
        "duration": 2,
        "start_time": "2022-06-02T12:25:07.922Z"
      },
      {
        "duration": 2,
        "start_time": "2022-06-02T12:25:09.176Z"
      },
      {
        "duration": 3,
        "start_time": "2022-06-02T12:25:10.226Z"
      },
      {
        "duration": 20,
        "start_time": "2022-06-02T12:25:11.042Z"
      },
      {
        "duration": 2,
        "start_time": "2022-06-02T12:25:14.831Z"
      },
      {
        "duration": 2,
        "start_time": "2022-06-02T12:25:15.372Z"
      },
      {
        "duration": 2,
        "start_time": "2022-06-02T12:25:19.827Z"
      },
      {
        "duration": 2,
        "start_time": "2022-06-02T12:25:20.279Z"
      },
      {
        "duration": 72,
        "start_time": "2022-06-02T12:25:20.930Z"
      },
      {
        "duration": 3,
        "start_time": "2022-06-02T12:25:26.225Z"
      },
      {
        "duration": 2,
        "start_time": "2022-06-02T12:25:27.393Z"
      },
      {
        "duration": 51,
        "start_time": "2022-06-02T12:25:31.771Z"
      },
      {
        "duration": 9,
        "start_time": "2022-06-02T12:25:34.068Z"
      },
      {
        "duration": 73,
        "start_time": "2022-06-02T12:25:39.837Z"
      },
      {
        "duration": 298,
        "start_time": "2022-06-02T12:25:46.621Z"
      },
      {
        "duration": 2,
        "start_time": "2022-06-02T12:25:58.076Z"
      },
      {
        "duration": 2,
        "start_time": "2022-06-02T12:25:58.911Z"
      },
      {
        "duration": 27,
        "start_time": "2022-06-02T12:32:38.239Z"
      },
      {
        "duration": 48,
        "start_time": "2022-06-02T12:32:56.922Z"
      },
      {
        "duration": 175,
        "start_time": "2022-06-02T12:34:36.490Z"
      },
      {
        "duration": 55,
        "start_time": "2022-06-02T12:35:17.676Z"
      },
      {
        "duration": 51,
        "start_time": "2022-06-02T12:35:33.145Z"
      },
      {
        "duration": 55,
        "start_time": "2022-06-02T12:36:18.091Z"
      },
      {
        "duration": 64,
        "start_time": "2022-06-02T12:38:33.784Z"
      },
      {
        "duration": 88,
        "start_time": "2022-06-02T12:40:54.194Z"
      },
      {
        "duration": 65,
        "start_time": "2022-06-02T12:41:18.678Z"
      },
      {
        "duration": 59,
        "start_time": "2022-06-02T12:43:24.945Z"
      },
      {
        "duration": 20,
        "start_time": "2022-06-02T12:43:53.783Z"
      },
      {
        "duration": 10,
        "start_time": "2022-06-02T12:44:13.792Z"
      },
      {
        "duration": 538,
        "start_time": "2022-06-02T12:45:00.192Z"
      },
      {
        "duration": 550,
        "start_time": "2022-06-02T12:45:32.485Z"
      },
      {
        "duration": 1220,
        "start_time": "2022-06-02T14:07:34.095Z"
      },
      {
        "duration": 109,
        "start_time": "2022-06-02T14:07:36.231Z"
      },
      {
        "duration": 237,
        "start_time": "2022-06-02T14:07:37.110Z"
      },
      {
        "duration": 357,
        "start_time": "2022-06-02T14:07:39.995Z"
      },
      {
        "duration": 324,
        "start_time": "2022-06-02T14:07:40.799Z"
      },
      {
        "duration": 86,
        "start_time": "2022-06-02T14:07:44.625Z"
      },
      {
        "duration": 5,
        "start_time": "2022-06-02T14:07:50.934Z"
      },
      {
        "duration": 3,
        "start_time": "2022-06-02T14:07:51.652Z"
      },
      {
        "duration": 4,
        "start_time": "2022-06-02T14:07:52.315Z"
      },
      {
        "duration": 18,
        "start_time": "2022-06-02T14:07:53.088Z"
      },
      {
        "duration": 3,
        "start_time": "2022-06-02T14:07:57.727Z"
      },
      {
        "duration": 2,
        "start_time": "2022-06-02T14:07:58.462Z"
      },
      {
        "duration": 3,
        "start_time": "2022-06-02T14:08:07.792Z"
      },
      {
        "duration": 2,
        "start_time": "2022-06-02T14:08:08.394Z"
      },
      {
        "duration": 80,
        "start_time": "2022-06-02T14:08:08.958Z"
      },
      {
        "duration": 3,
        "start_time": "2022-06-02T14:08:12.451Z"
      },
      {
        "duration": 4,
        "start_time": "2022-06-02T14:08:13.685Z"
      },
      {
        "duration": 49,
        "start_time": "2022-06-02T14:08:17.678Z"
      },
      {
        "duration": 8,
        "start_time": "2022-06-02T14:08:18.695Z"
      },
      {
        "duration": 329,
        "start_time": "2022-06-02T14:12:07.055Z"
      },
      {
        "duration": 38,
        "start_time": "2022-06-02T14:13:25.263Z"
      },
      {
        "duration": 32,
        "start_time": "2022-06-02T14:13:44.080Z"
      },
      {
        "duration": 104,
        "start_time": "2022-06-02T14:14:17.064Z"
      },
      {
        "duration": 20,
        "start_time": "2022-06-02T14:15:28.398Z"
      },
      {
        "duration": 115,
        "start_time": "2022-06-02T14:18:02.211Z"
      },
      {
        "duration": 1044,
        "start_time": "2022-06-02T14:29:57.079Z"
      },
      {
        "duration": 51,
        "start_time": "2022-06-02T14:29:59.358Z"
      },
      {
        "duration": 154,
        "start_time": "2022-06-02T14:30:00.270Z"
      },
      {
        "duration": 117,
        "start_time": "2022-06-02T14:30:02.478Z"
      },
      {
        "duration": 145,
        "start_time": "2022-06-02T14:30:03.449Z"
      },
      {
        "duration": 38,
        "start_time": "2022-06-02T14:30:06.166Z"
      },
      {
        "duration": 2,
        "start_time": "2022-06-02T14:30:09.888Z"
      },
      {
        "duration": 2,
        "start_time": "2022-06-02T14:30:10.559Z"
      },
      {
        "duration": 3,
        "start_time": "2022-06-02T14:30:11.296Z"
      },
      {
        "duration": 20,
        "start_time": "2022-06-02T14:30:14.371Z"
      },
      {
        "duration": 6,
        "start_time": "2022-06-02T14:30:18.725Z"
      },
      {
        "duration": 5,
        "start_time": "2022-06-02T14:30:19.326Z"
      },
      {
        "duration": 5,
        "start_time": "2022-06-02T14:30:25.237Z"
      },
      {
        "duration": 3,
        "start_time": "2022-06-02T14:30:26.469Z"
      },
      {
        "duration": 93,
        "start_time": "2022-06-02T14:30:27.255Z"
      },
      {
        "duration": 2,
        "start_time": "2022-06-02T14:30:31.114Z"
      },
      {
        "duration": 4,
        "start_time": "2022-06-02T14:30:34.252Z"
      },
      {
        "duration": 46,
        "start_time": "2022-06-02T14:30:37.152Z"
      },
      {
        "duration": 8,
        "start_time": "2022-06-02T14:30:38.120Z"
      },
      {
        "duration": 76,
        "start_time": "2022-06-02T14:30:44.070Z"
      },
      {
        "duration": 43,
        "start_time": "2022-06-02T14:30:47.245Z"
      },
      {
        "duration": 31,
        "start_time": "2022-06-02T14:30:49.589Z"
      },
      {
        "duration": 96,
        "start_time": "2022-06-02T14:31:18.759Z"
      },
      {
        "duration": 21,
        "start_time": "2022-06-02T14:32:03.568Z"
      },
      {
        "duration": 19,
        "start_time": "2022-06-02T14:34:13.222Z"
      },
      {
        "duration": 10,
        "start_time": "2022-06-02T14:35:49.552Z"
      },
      {
        "duration": 19,
        "start_time": "2022-06-02T14:36:50.851Z"
      },
      {
        "duration": 20,
        "start_time": "2022-06-02T14:39:46.659Z"
      },
      {
        "duration": 1081,
        "start_time": "2022-06-02T14:42:14.422Z"
      },
      {
        "duration": 26,
        "start_time": "2022-06-02T14:43:09.247Z"
      },
      {
        "duration": 1310,
        "start_time": "2022-06-02T14:44:32.380Z"
      },
      {
        "duration": 29,
        "start_time": "2022-06-02T14:47:09.691Z"
      },
      {
        "duration": 35,
        "start_time": "2022-06-02T14:47:24.311Z"
      },
      {
        "duration": 31,
        "start_time": "2022-06-02T14:47:24.793Z"
      },
      {
        "duration": 18,
        "start_time": "2022-06-02T14:47:25.465Z"
      },
      {
        "duration": 16,
        "start_time": "2022-06-02T14:47:26.177Z"
      },
      {
        "duration": 8,
        "start_time": "2022-06-02T14:47:26.866Z"
      },
      {
        "duration": 17,
        "start_time": "2022-06-02T14:47:27.600Z"
      },
      {
        "duration": 27,
        "start_time": "2022-06-02T14:47:28.328Z"
      },
      {
        "duration": 13,
        "start_time": "2022-06-02T14:47:41.044Z"
      },
      {
        "duration": 1389,
        "start_time": "2022-06-02T14:48:42.507Z"
      },
      {
        "duration": 95,
        "start_time": "2022-06-02T14:48:43.898Z"
      },
      {
        "duration": 235,
        "start_time": "2022-06-02T14:48:44.874Z"
      },
      {
        "duration": 124,
        "start_time": "2022-06-02T14:48:45.938Z"
      },
      {
        "duration": 187,
        "start_time": "2022-06-02T14:48:50.356Z"
      },
      {
        "duration": 23,
        "start_time": "2022-06-02T14:48:51.007Z"
      },
      {
        "duration": 4,
        "start_time": "2022-06-02T14:48:58.153Z"
      },
      {
        "duration": 20,
        "start_time": "2022-06-02T14:48:59.555Z"
      },
      {
        "duration": 72,
        "start_time": "2022-06-02T14:49:10.846Z"
      },
      {
        "duration": 3,
        "start_time": "2022-06-02T14:49:19.255Z"
      },
      {
        "duration": 48,
        "start_time": "2022-06-02T14:49:22.062Z"
      },
      {
        "duration": 16,
        "start_time": "2022-06-02T14:49:25.633Z"
      },
      {
        "duration": 719,
        "start_time": "2022-06-02T14:50:06.600Z"
      },
      {
        "duration": 44,
        "start_time": "2022-06-02T14:50:11.140Z"
      },
      {
        "duration": 47,
        "start_time": "2022-06-02T14:50:14.216Z"
      },
      {
        "duration": 105,
        "start_time": "2022-06-02T14:50:18.579Z"
      },
      {
        "duration": 22,
        "start_time": "2022-06-02T14:50:22.345Z"
      },
      {
        "duration": 21,
        "start_time": "2022-06-02T14:50:26.220Z"
      },
      {
        "duration": 8,
        "start_time": "2022-06-02T14:50:28.580Z"
      },
      {
        "duration": 16,
        "start_time": "2022-06-02T14:50:31.351Z"
      },
      {
        "duration": 18,
        "start_time": "2022-06-02T14:51:26.688Z"
      },
      {
        "duration": 20,
        "start_time": "2022-06-02T14:51:49.765Z"
      },
      {
        "duration": 1271,
        "start_time": "2022-06-02T14:51:58.623Z"
      },
      {
        "duration": 25,
        "start_time": "2022-06-02T14:52:53.178Z"
      },
      {
        "duration": 25,
        "start_time": "2022-06-02T14:56:58.354Z"
      },
      {
        "duration": 25,
        "start_time": "2022-06-02T14:57:16.099Z"
      },
      {
        "duration": 24,
        "start_time": "2022-06-02T15:00:41.393Z"
      },
      {
        "duration": 33,
        "start_time": "2022-06-02T15:01:41.527Z"
      },
      {
        "duration": 30,
        "start_time": "2022-06-02T15:02:14.116Z"
      },
      {
        "duration": 10,
        "start_time": "2022-06-02T15:04:36.553Z"
      },
      {
        "duration": 24,
        "start_time": "2022-06-02T15:08:24.874Z"
      },
      {
        "duration": 22,
        "start_time": "2022-06-02T15:09:57.098Z"
      },
      {
        "duration": 27,
        "start_time": "2022-06-02T15:10:04.016Z"
      },
      {
        "duration": 29,
        "start_time": "2022-06-02T15:10:07.904Z"
      },
      {
        "duration": 7,
        "start_time": "2022-06-02T15:10:18.273Z"
      },
      {
        "duration": 1026,
        "start_time": "2022-06-02T15:46:52.068Z"
      },
      {
        "duration": 51,
        "start_time": "2022-06-02T15:46:53.096Z"
      },
      {
        "duration": 154,
        "start_time": "2022-06-02T15:46:54.076Z"
      },
      {
        "duration": 108,
        "start_time": "2022-06-02T15:46:54.905Z"
      },
      {
        "duration": 132,
        "start_time": "2022-06-02T15:46:55.766Z"
      },
      {
        "duration": 33,
        "start_time": "2022-06-02T15:46:58.299Z"
      },
      {
        "duration": 4,
        "start_time": "2022-06-02T15:47:01.796Z"
      },
      {
        "duration": 18,
        "start_time": "2022-06-02T15:47:02.335Z"
      },
      {
        "duration": 72,
        "start_time": "2022-06-02T15:47:11.159Z"
      },
      {
        "duration": 46,
        "start_time": "2022-06-02T15:47:21.931Z"
      },
      {
        "duration": 8,
        "start_time": "2022-06-02T15:47:22.965Z"
      },
      {
        "duration": 58,
        "start_time": "2022-06-02T15:47:24.475Z"
      },
      {
        "duration": 32,
        "start_time": "2022-06-02T15:47:26.988Z"
      },
      {
        "duration": 28,
        "start_time": "2022-06-02T15:47:28.605Z"
      },
      {
        "duration": 194,
        "start_time": "2022-06-02T15:49:24.547Z"
      },
      {
        "duration": 31,
        "start_time": "2022-06-02T15:50:25.886Z"
      },
      {
        "duration": 84,
        "start_time": "2022-06-02T15:53:41.762Z"
      },
      {
        "duration": 18,
        "start_time": "2022-06-02T15:53:42.395Z"
      },
      {
        "duration": 11,
        "start_time": "2022-06-02T15:53:43.362Z"
      },
      {
        "duration": 9,
        "start_time": "2022-06-02T15:53:44.554Z"
      },
      {
        "duration": 17,
        "start_time": "2022-06-02T15:53:45.498Z"
      },
      {
        "duration": 14,
        "start_time": "2022-06-02T15:53:49.746Z"
      },
      {
        "duration": 2,
        "start_time": "2022-06-02T17:09:33.464Z"
      },
      {
        "duration": 44,
        "start_time": "2022-06-02T17:09:39.519Z"
      },
      {
        "duration": 157,
        "start_time": "2022-06-02T17:09:42.569Z"
      },
      {
        "duration": 101,
        "start_time": "2022-06-02T17:09:43.707Z"
      },
      {
        "duration": 134,
        "start_time": "2022-06-02T17:09:46.861Z"
      },
      {
        "duration": 32,
        "start_time": "2022-06-02T17:09:48.161Z"
      },
      {
        "duration": 2,
        "start_time": "2022-06-02T17:19:31.040Z"
      },
      {
        "duration": 44,
        "start_time": "2022-06-02T17:19:32.224Z"
      },
      {
        "duration": 163,
        "start_time": "2022-06-02T17:19:33.485Z"
      },
      {
        "duration": 103,
        "start_time": "2022-06-02T17:19:35.549Z"
      },
      {
        "duration": 122,
        "start_time": "2022-06-02T17:19:36.449Z"
      },
      {
        "duration": 31,
        "start_time": "2022-06-02T17:19:39.305Z"
      },
      {
        "duration": 4,
        "start_time": "2022-06-02T17:19:44.183Z"
      },
      {
        "duration": 19,
        "start_time": "2022-06-02T17:19:45.119Z"
      },
      {
        "duration": 72,
        "start_time": "2022-06-02T17:20:02.099Z"
      },
      {
        "duration": 45,
        "start_time": "2022-06-02T17:20:14.032Z"
      },
      {
        "duration": 6,
        "start_time": "2022-06-02T17:20:15.663Z"
      },
      {
        "duration": 5,
        "start_time": "2022-06-02T17:20:25.304Z"
      },
      {
        "duration": 62,
        "start_time": "2022-06-02T17:20:26.342Z"
      },
      {
        "duration": 30,
        "start_time": "2022-06-02T17:21:29.410Z"
      },
      {
        "duration": 26,
        "start_time": "2022-06-02T17:23:34.907Z"
      },
      {
        "duration": 94,
        "start_time": "2022-06-02T17:24:15.510Z"
      },
      {
        "duration": 23,
        "start_time": "2022-06-02T17:24:26.431Z"
      },
      {
        "duration": 13,
        "start_time": "2022-06-02T17:24:33.071Z"
      },
      {
        "duration": 8,
        "start_time": "2022-06-02T17:24:35.157Z"
      },
      {
        "duration": 17,
        "start_time": "2022-06-02T17:24:48.431Z"
      },
      {
        "duration": 10,
        "start_time": "2022-06-02T17:29:15.772Z"
      },
      {
        "duration": 4,
        "start_time": "2022-06-02T17:30:29.044Z"
      },
      {
        "duration": 6,
        "start_time": "2022-06-02T17:30:53.911Z"
      },
      {
        "duration": 5,
        "start_time": "2022-06-02T17:37:05.679Z"
      },
      {
        "duration": 706,
        "start_time": "2022-06-02T17:37:54.081Z"
      },
      {
        "duration": 6,
        "start_time": "2022-06-02T17:38:36.816Z"
      },
      {
        "duration": 116,
        "start_time": "2022-06-02T17:38:40.099Z"
      },
      {
        "duration": 34,
        "start_time": "2022-06-02T17:52:55.865Z"
      },
      {
        "duration": 32,
        "start_time": "2022-06-02T17:54:31.205Z"
      },
      {
        "duration": 25,
        "start_time": "2022-06-02T18:02:51.935Z"
      },
      {
        "duration": 6,
        "start_time": "2022-06-02T18:12:08.761Z"
      },
      {
        "duration": 11,
        "start_time": "2022-06-02T18:14:41.438Z"
      },
      {
        "duration": 1070,
        "start_time": "2022-06-02T18:14:46.424Z"
      },
      {
        "duration": 2,
        "start_time": "2022-06-02T18:16:28.952Z"
      },
      {
        "duration": 2,
        "start_time": "2022-06-02T18:16:29.821Z"
      },
      {
        "duration": 2,
        "start_time": "2022-06-02T18:16:47.382Z"
      },
      {
        "duration": 2,
        "start_time": "2022-06-02T18:16:57.508Z"
      },
      {
        "duration": 2,
        "start_time": "2022-06-02T18:17:03.535Z"
      },
      {
        "duration": 43,
        "start_time": "2022-06-02T18:20:59.894Z"
      },
      {
        "duration": 3,
        "start_time": "2022-06-02T18:21:48.875Z"
      },
      {
        "duration": 3,
        "start_time": "2022-06-02T18:21:54.500Z"
      },
      {
        "duration": 2,
        "start_time": "2022-06-02T18:22:30.396Z"
      },
      {
        "duration": 3,
        "start_time": "2022-06-02T18:22:34.882Z"
      },
      {
        "duration": 3,
        "start_time": "2022-06-02T18:23:16.212Z"
      },
      {
        "duration": 3,
        "start_time": "2022-06-02T18:23:16.594Z"
      },
      {
        "duration": 3,
        "start_time": "2022-06-02T18:23:17.850Z"
      },
      {
        "duration": 3,
        "start_time": "2022-06-02T18:23:44.463Z"
      },
      {
        "duration": 3,
        "start_time": "2022-06-02T18:23:52.461Z"
      },
      {
        "duration": 2,
        "start_time": "2022-06-02T18:24:22.150Z"
      },
      {
        "duration": 3,
        "start_time": "2022-06-02T18:24:45.636Z"
      },
      {
        "duration": 2,
        "start_time": "2022-06-02T18:24:49.962Z"
      },
      {
        "duration": 11,
        "start_time": "2022-06-02T18:32:50.619Z"
      },
      {
        "duration": 12,
        "start_time": "2022-06-02T18:34:30.357Z"
      },
      {
        "duration": 12,
        "start_time": "2022-06-02T18:44:26.350Z"
      },
      {
        "duration": 6,
        "start_time": "2022-06-02T18:45:21.670Z"
      },
      {
        "duration": 1286,
        "start_time": "2022-06-02T22:07:12.300Z"
      },
      {
        "duration": 81,
        "start_time": "2022-06-02T22:07:46.515Z"
      },
      {
        "duration": 233,
        "start_time": "2022-06-02T22:07:48.255Z"
      },
      {
        "duration": 303,
        "start_time": "2022-06-02T22:07:49.459Z"
      },
      {
        "duration": 320,
        "start_time": "2022-06-02T22:07:49.782Z"
      },
      {
        "duration": 56,
        "start_time": "2022-06-02T22:07:50.107Z"
      },
      {
        "duration": 3,
        "start_time": "2022-06-02T22:07:50.453Z"
      },
      {
        "duration": 3,
        "start_time": "2022-06-02T22:07:50.891Z"
      },
      {
        "duration": 5,
        "start_time": "2022-06-02T22:07:52.320Z"
      },
      {
        "duration": 21,
        "start_time": "2022-06-02T22:07:53.047Z"
      },
      {
        "duration": 3,
        "start_time": "2022-06-02T22:07:57.950Z"
      },
      {
        "duration": 3,
        "start_time": "2022-06-02T22:07:58.492Z"
      },
      {
        "duration": 71,
        "start_time": "2022-06-02T22:07:58.807Z"
      },
      {
        "duration": 49,
        "start_time": "2022-06-02T22:08:00.548Z"
      },
      {
        "duration": 9,
        "start_time": "2022-06-02T22:08:00.866Z"
      },
      {
        "duration": 64,
        "start_time": "2022-06-02T22:08:01.344Z"
      },
      {
        "duration": 35,
        "start_time": "2022-06-02T22:08:03.003Z"
      },
      {
        "duration": 33,
        "start_time": "2022-06-02T22:08:03.777Z"
      },
      {
        "duration": 100,
        "start_time": "2022-06-02T22:08:07.997Z"
      },
      {
        "duration": 19,
        "start_time": "2022-06-02T22:08:15.745Z"
      },
      {
        "duration": 11,
        "start_time": "2022-06-02T22:08:29.543Z"
      },
      {
        "duration": 9,
        "start_time": "2022-06-02T22:08:46.579Z"
      },
      {
        "duration": 23,
        "start_time": "2022-06-02T22:12:30.743Z"
      },
      {
        "duration": 23,
        "start_time": "2022-06-02T22:12:35.470Z"
      },
      {
        "duration": 13,
        "start_time": "2022-06-02T22:12:41.835Z"
      },
      {
        "duration": 11,
        "start_time": "2022-06-02T22:12:42.264Z"
      },
      {
        "duration": 19,
        "start_time": "2022-06-02T22:12:43.017Z"
      },
      {
        "duration": 7,
        "start_time": "2022-06-02T22:12:53.423Z"
      },
      {
        "duration": 6,
        "start_time": "2022-06-02T22:13:13.047Z"
      },
      {
        "duration": 7,
        "start_time": "2022-06-02T22:13:16.531Z"
      },
      {
        "duration": 7,
        "start_time": "2022-06-02T22:18:44.307Z"
      },
      {
        "duration": 1148,
        "start_time": "2022-06-02T22:18:46.167Z"
      },
      {
        "duration": 37,
        "start_time": "2022-06-02T22:20:48.760Z"
      },
      {
        "duration": 45,
        "start_time": "2022-06-02T22:26:38.292Z"
      },
      {
        "duration": 1073,
        "start_time": "2022-06-02T22:33:42.492Z"
      },
      {
        "duration": 45,
        "start_time": "2022-06-02T22:33:43.567Z"
      },
      {
        "duration": 154,
        "start_time": "2022-06-02T22:33:43.613Z"
      },
      {
        "duration": 95,
        "start_time": "2022-06-02T22:33:43.769Z"
      },
      {
        "duration": 144,
        "start_time": "2022-06-02T22:33:43.866Z"
      },
      {
        "duration": 25,
        "start_time": "2022-06-02T22:33:44.011Z"
      },
      {
        "duration": 3,
        "start_time": "2022-06-02T22:33:44.037Z"
      },
      {
        "duration": 9,
        "start_time": "2022-06-02T22:33:44.041Z"
      },
      {
        "duration": 18,
        "start_time": "2022-06-02T22:33:44.052Z"
      },
      {
        "duration": 28,
        "start_time": "2022-06-02T22:33:44.072Z"
      },
      {
        "duration": 3,
        "start_time": "2022-06-02T22:33:44.101Z"
      },
      {
        "duration": 15,
        "start_time": "2022-06-02T22:33:44.106Z"
      },
      {
        "duration": 87,
        "start_time": "2022-06-02T22:33:44.122Z"
      },
      {
        "duration": 48,
        "start_time": "2022-06-02T22:33:44.210Z"
      },
      {
        "duration": 17,
        "start_time": "2022-06-02T22:33:44.260Z"
      },
      {
        "duration": 60,
        "start_time": "2022-06-02T22:33:44.279Z"
      },
      {
        "duration": 43,
        "start_time": "2022-06-02T22:33:44.341Z"
      },
      {
        "duration": 31,
        "start_time": "2022-06-02T22:33:44.385Z"
      },
      {
        "duration": 109,
        "start_time": "2022-06-02T22:33:44.418Z"
      },
      {
        "duration": 20,
        "start_time": "2022-06-02T22:33:44.528Z"
      },
      {
        "duration": 28,
        "start_time": "2022-06-02T22:33:44.549Z"
      },
      {
        "duration": 15,
        "start_time": "2022-06-02T22:33:44.578Z"
      },
      {
        "duration": 28,
        "start_time": "2022-06-02T22:33:44.595Z"
      },
      {
        "duration": 7,
        "start_time": "2022-06-02T22:33:44.625Z"
      },
      {
        "duration": 13,
        "start_time": "2022-06-02T22:33:44.633Z"
      },
      {
        "duration": 18,
        "start_time": "2022-06-02T22:33:44.648Z"
      },
      {
        "duration": 12,
        "start_time": "2022-06-02T22:33:44.668Z"
      },
      {
        "duration": 133,
        "start_time": "2022-06-02T22:33:44.684Z"
      },
      {
        "duration": 6,
        "start_time": "2022-06-02T22:33:44.819Z"
      },
      {
        "duration": 1024,
        "start_time": "2022-06-02T22:33:44.826Z"
      },
      {
        "duration": 3,
        "start_time": "2022-06-02T22:33:45.852Z"
      },
      {
        "duration": 16,
        "start_time": "2022-06-02T22:33:45.856Z"
      },
      {
        "duration": 27,
        "start_time": "2022-06-02T22:33:45.875Z"
      },
      {
        "duration": 6,
        "start_time": "2022-06-02T22:33:45.904Z"
      },
      {
        "duration": 17,
        "start_time": "2022-06-02T22:33:45.913Z"
      },
      {
        "duration": 17,
        "start_time": "2022-06-02T22:33:45.931Z"
      },
      {
        "duration": 10,
        "start_time": "2022-06-02T22:33:45.949Z"
      },
      {
        "duration": 6,
        "start_time": "2022-06-02T22:33:45.960Z"
      },
      {
        "duration": 6,
        "start_time": "2022-06-02T22:33:45.967Z"
      },
      {
        "duration": 12,
        "start_time": "2022-06-02T22:33:45.974Z"
      },
      {
        "duration": 7,
        "start_time": "2022-06-02T22:33:45.987Z"
      },
      {
        "duration": 6,
        "start_time": "2022-06-02T22:33:45.995Z"
      },
      {
        "duration": 8,
        "start_time": "2022-06-02T22:33:46.002Z"
      },
      {
        "duration": 7,
        "start_time": "2022-06-02T22:33:46.011Z"
      },
      {
        "duration": 5,
        "start_time": "2022-06-02T22:33:46.019Z"
      },
      {
        "duration": 6,
        "start_time": "2022-06-02T22:33:46.026Z"
      },
      {
        "duration": 6,
        "start_time": "2022-06-02T22:33:46.033Z"
      },
      {
        "duration": 7,
        "start_time": "2022-06-02T22:33:46.040Z"
      },
      {
        "duration": 8,
        "start_time": "2022-06-02T22:33:46.048Z"
      },
      {
        "duration": 9,
        "start_time": "2022-06-02T22:33:46.058Z"
      },
      {
        "duration": 4,
        "start_time": "2022-06-02T22:33:46.069Z"
      },
      {
        "duration": 5,
        "start_time": "2022-06-02T22:33:46.075Z"
      },
      {
        "duration": 4,
        "start_time": "2022-06-02T22:33:46.082Z"
      },
      {
        "duration": 11,
        "start_time": "2022-06-02T22:33:46.088Z"
      },
      {
        "duration": 11,
        "start_time": "2022-06-02T22:33:46.100Z"
      },
      {
        "duration": 8,
        "start_time": "2022-06-02T22:33:46.112Z"
      },
      {
        "duration": 5,
        "start_time": "2022-06-02T22:33:46.121Z"
      },
      {
        "duration": 7,
        "start_time": "2022-06-02T22:33:46.128Z"
      },
      {
        "duration": 12,
        "start_time": "2022-06-02T22:33:46.136Z"
      },
      {
        "duration": 14,
        "start_time": "2022-06-02T22:33:46.150Z"
      },
      {
        "duration": 7,
        "start_time": "2022-06-02T22:33:46.165Z"
      }
    ],
    "kernelspec": {
      "name": "python",
      "display_name": "Python (Pyodide)",
      "language": "python"
    },
    "language_info": {
      "codemirror_mode": {
        "name": "python",
        "version": 3
      },
      "file_extension": ".py",
      "mimetype": "text/x-python",
      "name": "python",
      "nbconvert_exporter": "python",
      "pygments_lexer": "ipython3",
      "version": "3.8"
    },
    "toc": {
      "base_numbering": 1,
      "nav_menu": {},
      "number_sections": true,
      "sideBar": true,
      "skip_h1_title": true,
      "title_cell": "Table of Contents",
      "title_sidebar": "Contents",
      "toc_cell": false,
      "toc_position": {},
      "toc_section_display": true,
      "toc_window_display": false
    }
  },
  "nbformat_minor": 4,
  "nbformat": 4,
  "cells": [
    {
      "cell_type": "markdown",
      "source": "# Определение перспективного тарифа для телеком-компании",
      "metadata": {}
    },
    {
      "cell_type": "markdown",
      "source": "Клиентам федерального оператора сотовой связи предлагают два тарифных плана: «Смарт» и «Ультра».\n\nЧтобы скорректировать рекламный бюджет, коммерческому департаменту необходимо понять, какой тариф приносит больше денег. В ходе проекта предстоит сделать предварительный анализ тарифов на небольшой выборке клиентов. Изучим данные 500 пользователей оператора: кто они, откуда, каким тарифом пользуются, сколько звонков и сообщений каждый отправил за 2018 год. Проанализируем поведение клиентов и сделаем вывод — какой тариф лучше.",
      "metadata": {}
    },
    {
      "cell_type": "markdown",
      "source": "**Описание тарифов**\n\n*Тариф «Смарт»*\n\n1.Ежемесячная плата: 550 рублей\n\n2.Включено 500 минут разговора, 50 сообщений и 15 Гб интернет-трафика\n\n3.Стоимость услуг сверх тарифного пакета:\n<li>минута разговора: 3 рубля\n<li>сообщение: 3 рубля\n<li>1 Гб интернет-трафика: 200 рублей\n    \n*Тариф «Ультра»*\n1.Ежемесячная плата: 1950 рублей\n    \n2.Включено 3000 минут разговора, 1000 сообщений и 30 Гб интернет-трафика\n    \n3.Стоимость услуг сверх тарифного пакета:\n<li>минута разговора: 1 рубль\n<li>сообщение: 1 рубль\n<li>1 Гб интернет-трафика: 150 рублей",
      "metadata": {}
    },
    {
      "cell_type": "markdown",
      "source": "**Примечание**\n\n«Мегалайн» всегда округляет секунды до минут, а мегабайты — до гигабайт. Каждый звонок округляется отдельно: даже если он длился всего 1 секунду, будет засчитан как 1 минута.\n\nДля веб-трафика отдельные сессии не считаются. Вместо этого общая сумма за месяц округляется в бо́льшую сторону. Если абонент использует 1025 мегабайт в этом месяце, с него возьмут плату за 2 гигабайта. Примите, что неиспользованные за предыдущий месяц звонки, смс, интернет на следующий месяц не переносятся.",
      "metadata": {}
    },
    {
      "cell_type": "markdown",
      "source": "**Описание данных**\n\nТаблица users (информация о пользователях):\n<li>user_id — уникальный идентификатор пользователя\n<li>first_name — имя пользователя\n<li>last_name — фамилия пользователя\n<li>age — возраст пользователя (годы)\n<li>reg_date — дата подключения тарифа (день, месяц, год)\n<li>churn_date — дата прекращения пользования тарифом (если значение пропущено, то тариф ещё действовал на момент выгрузки данных)\n<li>city — город проживания пользователя\n<li>tariff — название тарифного плана\n    \nТаблица calls (информация о звонках):\n<li>id — уникальный номер звонка\n<li>call_date — дата звонка\n<li>duration — длительность звонка в минутах\n<li>user_id — идентификатор пользователя, сделавшего звонок\n    \nТаблица messages (информация о сообщениях):\n<li>id — уникальный номер сообщения\n<li>message_date — дата сообщения\n<li>user_id — идентификатор пользователя, отправившего сообщение\n    \nТаблица internet (информация об интернет-сессиях):\n<li>id — уникальный номер сессии\n<li>mb_used — объём потраченного за сессию интернет-трафика (в мегабайтах)\n<li>session_date — дата интернет-сессии\n<li>user_id — идентификатор пользователя\n    \nТаблица tariffs (информация о тарифах):\n<li>tariff_name — название тарифа\n<li>rub_monthly_fee — ежемесячная абонентская плата в рублях\n<li>minutes_included — количество минут разговора в месяц, включённых в абонентскую плату\n<li>messages_included — количество сообщений в месяц, включённых в абонентскую плату\n<li>mb_per_month_included — объём интернет-трафика, включённого в абонентскую плату (в мегабайтах)\n<li>rub_per_minute — стоимость минуты разговора сверх тарифного пакета (например, если в тарифе 100 минут разговора в месяц, то со 101 минуты будет взиматься плата)\n<li>rub_per_message — стоимость отправки сообщения сверх тарифного пакета\n<li>rub_per_gb — стоимость дополнительного гигабайта интернет-трафика сверх тарифного пакета (1 гигабайт = 1024 мегабайта)",
      "metadata": {}
    },
    {
      "cell_type": "markdown",
      "source": "## Откроем файлы с данными и изучим общую информацию",
      "metadata": {}
    },
    {
      "cell_type": "code",
      "source": "#Импорт библиотеки\nimport pandas as pd\nimport matplotlib.pyplot as plt\nimport numpy as np\nfrom scipy import stats as st",
      "metadata": {},
      "execution_count": 1,
      "outputs": []
    },
    {
      "cell_type": "code",
      "source": "#Считаем датасет (информацию о пользователях)\n# Изучим основноую информацию о датасете\nusers = pd.read_csv('/datasets/users.csv')\nusers.head()",
      "metadata": {},
      "execution_count": 2,
      "outputs": [
        {
          "execution_count": 2,
          "output_type": "execute_result",
          "data": {
            "text/html": [
              "<div>\n",
              "<style scoped>\n",
              "    .dataframe tbody tr th:only-of-type {\n",
              "        vertical-align: middle;\n",
              "    }\n",
              "\n",
              "    .dataframe tbody tr th {\n",
              "        vertical-align: top;\n",
              "    }\n",
              "\n",
              "    .dataframe thead th {\n",
              "        text-align: right;\n",
              "    }\n",
              "</style>\n",
              "<table border=\"1\" class=\"dataframe\">\n",
              "  <thead>\n",
              "    <tr style=\"text-align: right;\">\n",
              "      <th></th>\n",
              "      <th>user_id</th>\n",
              "      <th>age</th>\n",
              "      <th>churn_date</th>\n",
              "      <th>city</th>\n",
              "      <th>first_name</th>\n",
              "      <th>last_name</th>\n",
              "      <th>reg_date</th>\n",
              "      <th>tariff</th>\n",
              "    </tr>\n",
              "  </thead>\n",
              "  <tbody>\n",
              "    <tr>\n",
              "      <th>0</th>\n",
              "      <td>1000</td>\n",
              "      <td>52</td>\n",
              "      <td>NaN</td>\n",
              "      <td>Краснодар</td>\n",
              "      <td>Рафаил</td>\n",
              "      <td>Верещагин</td>\n",
              "      <td>2018-05-25</td>\n",
              "      <td>ultra</td>\n",
              "    </tr>\n",
              "    <tr>\n",
              "      <th>1</th>\n",
              "      <td>1001</td>\n",
              "      <td>41</td>\n",
              "      <td>NaN</td>\n",
              "      <td>Москва</td>\n",
              "      <td>Иван</td>\n",
              "      <td>Ежов</td>\n",
              "      <td>2018-11-01</td>\n",
              "      <td>smart</td>\n",
              "    </tr>\n",
              "    <tr>\n",
              "      <th>2</th>\n",
              "      <td>1002</td>\n",
              "      <td>59</td>\n",
              "      <td>NaN</td>\n",
              "      <td>Стерлитамак</td>\n",
              "      <td>Евгений</td>\n",
              "      <td>Абрамович</td>\n",
              "      <td>2018-06-17</td>\n",
              "      <td>smart</td>\n",
              "    </tr>\n",
              "    <tr>\n",
              "      <th>3</th>\n",
              "      <td>1003</td>\n",
              "      <td>23</td>\n",
              "      <td>NaN</td>\n",
              "      <td>Москва</td>\n",
              "      <td>Белла</td>\n",
              "      <td>Белякова</td>\n",
              "      <td>2018-08-17</td>\n",
              "      <td>ultra</td>\n",
              "    </tr>\n",
              "    <tr>\n",
              "      <th>4</th>\n",
              "      <td>1004</td>\n",
              "      <td>68</td>\n",
              "      <td>NaN</td>\n",
              "      <td>Новокузнецк</td>\n",
              "      <td>Татьяна</td>\n",
              "      <td>Авдеенко</td>\n",
              "      <td>2018-05-14</td>\n",
              "      <td>ultra</td>\n",
              "    </tr>\n",
              "  </tbody>\n",
              "</table>\n",
              "</div>"
            ],
            "text/plain": [
              "   user_id  age churn_date         city first_name  last_name    reg_date  \\\n",
              "0     1000   52        NaN    Краснодар     Рафаил  Верещагин  2018-05-25   \n",
              "1     1001   41        NaN       Москва       Иван       Ежов  2018-11-01   \n",
              "2     1002   59        NaN  Стерлитамак    Евгений  Абрамович  2018-06-17   \n",
              "3     1003   23        NaN       Москва      Белла   Белякова  2018-08-17   \n",
              "4     1004   68        NaN  Новокузнецк    Татьяна   Авдеенко  2018-05-14   \n",
              "\n",
              "  tariff  \n",
              "0  ultra  \n",
              "1  smart  \n",
              "2  smart  \n",
              "3  ultra  \n",
              "4  ultra  "
            ]
          },
          "metadata": {}
        }
      ]
    },
    {
      "cell_type": "code",
      "source": "#Считаем датасет (информацию о звонках)\n# Изучим основноую информацию о датасете\ncalls = pd.read_csv('/datasets/calls.csv')\ncalls.head()",
      "metadata": {},
      "execution_count": 3,
      "outputs": [
        {
          "execution_count": 3,
          "output_type": "execute_result",
          "data": {
            "text/html": [
              "<div>\n",
              "<style scoped>\n",
              "    .dataframe tbody tr th:only-of-type {\n",
              "        vertical-align: middle;\n",
              "    }\n",
              "\n",
              "    .dataframe tbody tr th {\n",
              "        vertical-align: top;\n",
              "    }\n",
              "\n",
              "    .dataframe thead th {\n",
              "        text-align: right;\n",
              "    }\n",
              "</style>\n",
              "<table border=\"1\" class=\"dataframe\">\n",
              "  <thead>\n",
              "    <tr style=\"text-align: right;\">\n",
              "      <th></th>\n",
              "      <th>id</th>\n",
              "      <th>call_date</th>\n",
              "      <th>duration</th>\n",
              "      <th>user_id</th>\n",
              "    </tr>\n",
              "  </thead>\n",
              "  <tbody>\n",
              "    <tr>\n",
              "      <th>0</th>\n",
              "      <td>1000_0</td>\n",
              "      <td>2018-07-25</td>\n",
              "      <td>0.00</td>\n",
              "      <td>1000</td>\n",
              "    </tr>\n",
              "    <tr>\n",
              "      <th>1</th>\n",
              "      <td>1000_1</td>\n",
              "      <td>2018-08-17</td>\n",
              "      <td>0.00</td>\n",
              "      <td>1000</td>\n",
              "    </tr>\n",
              "    <tr>\n",
              "      <th>2</th>\n",
              "      <td>1000_2</td>\n",
              "      <td>2018-06-11</td>\n",
              "      <td>2.85</td>\n",
              "      <td>1000</td>\n",
              "    </tr>\n",
              "    <tr>\n",
              "      <th>3</th>\n",
              "      <td>1000_3</td>\n",
              "      <td>2018-09-21</td>\n",
              "      <td>13.80</td>\n",
              "      <td>1000</td>\n",
              "    </tr>\n",
              "    <tr>\n",
              "      <th>4</th>\n",
              "      <td>1000_4</td>\n",
              "      <td>2018-12-15</td>\n",
              "      <td>5.18</td>\n",
              "      <td>1000</td>\n",
              "    </tr>\n",
              "  </tbody>\n",
              "</table>\n",
              "</div>"
            ],
            "text/plain": [
              "       id   call_date  duration  user_id\n",
              "0  1000_0  2018-07-25      0.00     1000\n",
              "1  1000_1  2018-08-17      0.00     1000\n",
              "2  1000_2  2018-06-11      2.85     1000\n",
              "3  1000_3  2018-09-21     13.80     1000\n",
              "4  1000_4  2018-12-15      5.18     1000"
            ]
          },
          "metadata": {}
        }
      ]
    },
    {
      "cell_type": "code",
      "source": "#Считаем датасет (информацию о  сообщениях)\n# Изучим основноую информацию о датасете\nmessages = pd.read_csv('/datasets/messages.csv')\nmessages.head()",
      "metadata": {},
      "execution_count": 4,
      "outputs": [
        {
          "execution_count": 4,
          "output_type": "execute_result",
          "data": {
            "text/html": [
              "<div>\n",
              "<style scoped>\n",
              "    .dataframe tbody tr th:only-of-type {\n",
              "        vertical-align: middle;\n",
              "    }\n",
              "\n",
              "    .dataframe tbody tr th {\n",
              "        vertical-align: top;\n",
              "    }\n",
              "\n",
              "    .dataframe thead th {\n",
              "        text-align: right;\n",
              "    }\n",
              "</style>\n",
              "<table border=\"1\" class=\"dataframe\">\n",
              "  <thead>\n",
              "    <tr style=\"text-align: right;\">\n",
              "      <th></th>\n",
              "      <th>id</th>\n",
              "      <th>message_date</th>\n",
              "      <th>user_id</th>\n",
              "    </tr>\n",
              "  </thead>\n",
              "  <tbody>\n",
              "    <tr>\n",
              "      <th>0</th>\n",
              "      <td>1000_0</td>\n",
              "      <td>2018-06-27</td>\n",
              "      <td>1000</td>\n",
              "    </tr>\n",
              "    <tr>\n",
              "      <th>1</th>\n",
              "      <td>1000_1</td>\n",
              "      <td>2018-10-08</td>\n",
              "      <td>1000</td>\n",
              "    </tr>\n",
              "    <tr>\n",
              "      <th>2</th>\n",
              "      <td>1000_2</td>\n",
              "      <td>2018-08-04</td>\n",
              "      <td>1000</td>\n",
              "    </tr>\n",
              "    <tr>\n",
              "      <th>3</th>\n",
              "      <td>1000_3</td>\n",
              "      <td>2018-06-16</td>\n",
              "      <td>1000</td>\n",
              "    </tr>\n",
              "    <tr>\n",
              "      <th>4</th>\n",
              "      <td>1000_4</td>\n",
              "      <td>2018-12-05</td>\n",
              "      <td>1000</td>\n",
              "    </tr>\n",
              "  </tbody>\n",
              "</table>\n",
              "</div>"
            ],
            "text/plain": [
              "       id message_date  user_id\n",
              "0  1000_0   2018-06-27     1000\n",
              "1  1000_1   2018-10-08     1000\n",
              "2  1000_2   2018-08-04     1000\n",
              "3  1000_3   2018-06-16     1000\n",
              "4  1000_4   2018-12-05     1000"
            ]
          },
          "metadata": {}
        }
      ]
    },
    {
      "cell_type": "code",
      "source": "#Считаем датасет (информацию об интернет-сессиях)\n# Изучим основноую информацию о датасете\ninternet = pd.read_csv('/datasets/internet.csv')\ninternet.head()",
      "metadata": {},
      "execution_count": 5,
      "outputs": [
        {
          "execution_count": 5,
          "output_type": "execute_result",
          "data": {
            "text/html": [
              "<div>\n",
              "<style scoped>\n",
              "    .dataframe tbody tr th:only-of-type {\n",
              "        vertical-align: middle;\n",
              "    }\n",
              "\n",
              "    .dataframe tbody tr th {\n",
              "        vertical-align: top;\n",
              "    }\n",
              "\n",
              "    .dataframe thead th {\n",
              "        text-align: right;\n",
              "    }\n",
              "</style>\n",
              "<table border=\"1\" class=\"dataframe\">\n",
              "  <thead>\n",
              "    <tr style=\"text-align: right;\">\n",
              "      <th></th>\n",
              "      <th>Unnamed: 0</th>\n",
              "      <th>id</th>\n",
              "      <th>mb_used</th>\n",
              "      <th>session_date</th>\n",
              "      <th>user_id</th>\n",
              "    </tr>\n",
              "  </thead>\n",
              "  <tbody>\n",
              "    <tr>\n",
              "      <th>0</th>\n",
              "      <td>0</td>\n",
              "      <td>1000_0</td>\n",
              "      <td>112.95</td>\n",
              "      <td>2018-11-25</td>\n",
              "      <td>1000</td>\n",
              "    </tr>\n",
              "    <tr>\n",
              "      <th>1</th>\n",
              "      <td>1</td>\n",
              "      <td>1000_1</td>\n",
              "      <td>1052.81</td>\n",
              "      <td>2018-09-07</td>\n",
              "      <td>1000</td>\n",
              "    </tr>\n",
              "    <tr>\n",
              "      <th>2</th>\n",
              "      <td>2</td>\n",
              "      <td>1000_2</td>\n",
              "      <td>1197.26</td>\n",
              "      <td>2018-06-25</td>\n",
              "      <td>1000</td>\n",
              "    </tr>\n",
              "    <tr>\n",
              "      <th>3</th>\n",
              "      <td>3</td>\n",
              "      <td>1000_3</td>\n",
              "      <td>550.27</td>\n",
              "      <td>2018-08-22</td>\n",
              "      <td>1000</td>\n",
              "    </tr>\n",
              "    <tr>\n",
              "      <th>4</th>\n",
              "      <td>4</td>\n",
              "      <td>1000_4</td>\n",
              "      <td>302.56</td>\n",
              "      <td>2018-09-24</td>\n",
              "      <td>1000</td>\n",
              "    </tr>\n",
              "  </tbody>\n",
              "</table>\n",
              "</div>"
            ],
            "text/plain": [
              "   Unnamed: 0      id  mb_used session_date  user_id\n",
              "0           0  1000_0   112.95   2018-11-25     1000\n",
              "1           1  1000_1  1052.81   2018-09-07     1000\n",
              "2           2  1000_2  1197.26   2018-06-25     1000\n",
              "3           3  1000_3   550.27   2018-08-22     1000\n",
              "4           4  1000_4   302.56   2018-09-24     1000"
            ]
          },
          "metadata": {}
        }
      ]
    },
    {
      "cell_type": "code",
      "source": "#Считаем датасет (информацию о  тарифах)\n# Изучим основноую информацию о датасете\ntariffs = pd.read_csv('/datasets/tariffs.csv')\ntariffs.head()",
      "metadata": {},
      "execution_count": 6,
      "outputs": [
        {
          "execution_count": 6,
          "output_type": "execute_result",
          "data": {
            "text/html": [
              "<div>\n",
              "<style scoped>\n",
              "    .dataframe tbody tr th:only-of-type {\n",
              "        vertical-align: middle;\n",
              "    }\n",
              "\n",
              "    .dataframe tbody tr th {\n",
              "        vertical-align: top;\n",
              "    }\n",
              "\n",
              "    .dataframe thead th {\n",
              "        text-align: right;\n",
              "    }\n",
              "</style>\n",
              "<table border=\"1\" class=\"dataframe\">\n",
              "  <thead>\n",
              "    <tr style=\"text-align: right;\">\n",
              "      <th></th>\n",
              "      <th>messages_included</th>\n",
              "      <th>mb_per_month_included</th>\n",
              "      <th>minutes_included</th>\n",
              "      <th>rub_monthly_fee</th>\n",
              "      <th>rub_per_gb</th>\n",
              "      <th>rub_per_message</th>\n",
              "      <th>rub_per_minute</th>\n",
              "      <th>tariff_name</th>\n",
              "    </tr>\n",
              "  </thead>\n",
              "  <tbody>\n",
              "    <tr>\n",
              "      <th>0</th>\n",
              "      <td>50</td>\n",
              "      <td>15360</td>\n",
              "      <td>500</td>\n",
              "      <td>550</td>\n",
              "      <td>200</td>\n",
              "      <td>3</td>\n",
              "      <td>3</td>\n",
              "      <td>smart</td>\n",
              "    </tr>\n",
              "    <tr>\n",
              "      <th>1</th>\n",
              "      <td>1000</td>\n",
              "      <td>30720</td>\n",
              "      <td>3000</td>\n",
              "      <td>1950</td>\n",
              "      <td>150</td>\n",
              "      <td>1</td>\n",
              "      <td>1</td>\n",
              "      <td>ultra</td>\n",
              "    </tr>\n",
              "  </tbody>\n",
              "</table>\n",
              "</div>"
            ],
            "text/plain": [
              "   messages_included  mb_per_month_included  minutes_included  \\\n",
              "0                 50                  15360               500   \n",
              "1               1000                  30720              3000   \n",
              "\n",
              "   rub_monthly_fee  rub_per_gb  rub_per_message  rub_per_minute tariff_name  \n",
              "0              550         200                3               3       smart  \n",
              "1             1950         150                1               1       ultra  "
            ]
          },
          "metadata": {}
        }
      ]
    },
    {
      "cell_type": "code",
      "source": "# удалим ошибочный столбец \"Unnamed: 0\" в таблице internet\ndel internet['Unnamed: 0'] ",
      "metadata": {},
      "execution_count": 9,
      "outputs": []
    },
    {
      "cell_type": "code",
      "source": "# проверим, что столбец удалился\ninternet.info()",
      "metadata": {},
      "execution_count": 10,
      "outputs": [
        {
          "name": "stdout",
          "output_type": "stream",
          "text": "<class 'pandas.core.frame.DataFrame'>\n\nRangeIndex: 149396 entries, 0 to 149395\n\nData columns (total 4 columns):\n\n #   Column        Non-Null Count   Dtype  \n\n---  ------        --------------   -----  \n\n 0   id            149396 non-null  object \n\n 1   mb_used       149396 non-null  float64\n\n 2   session_date  149396 non-null  object \n\n 3   user_id       149396 non-null  int64  \n\ndtypes: float64(1), int64(1), object(2)\n\nmemory usage: 4.6+ MB\n"
        }
      ]
    },
    {
      "cell_type": "markdown",
      "source": "Вывод\n\nИмпортировали библиотеки, прочитали файлы с данными.",
      "metadata": {}
    },
    {
      "cell_type": "markdown",
      "source": "## Подготовим данные",
      "metadata": {}
    },
    {
      "cell_type": "markdown",
      "source": "Приведем данные к нужным типам. На прошлом шаге отметили, что дата не приведена к формату datetime - исправим это.",
      "metadata": {}
    },
    {
      "cell_type": "code",
      "source": "# для столбцов с датами изменим тип данных на datetime64\ncalls['call_date'] = pd.to_datetime(calls['call_date'], format='%Y-%m-%d')\ninternet['session_date'] = pd.to_datetime(internet['session_date'], format='%Y-%m-%d')\nmessages['message_date'] = pd.to_datetime(messages['message_date'], format='%Y-%m-%d')\nusers['reg_date'] = pd.to_datetime(users['reg_date'], format='%Y-%m-%d')\nusers['churn_date'] = pd.to_datetime(users['churn_date'], format='%Y-%m-%d')",
      "metadata": {},
      "execution_count": 13,
      "outputs": []
    },
    {
      "cell_type": "markdown",
      "source": "В процессе обработки данных нашли следующие ошибки:\n\n<li>в таблице internet был найден некорректный столбец Unnamed: 0 - избавились от него\n<li>формат столбцов с датами был некорректным - исправили формат\n<li>длительность многих звонков — 0.0 минут. Это не ошибка: нулями обозначены пропущенные звонки, поэтому их не нужно удалять. Оставим их как есть. К тому же, они никак не повлияют на сумму использованных минут.\n<li>трафик интернета указан в мегабайтах. В процессе группирования данных преобразуем трафик в гигабайты для удобства подсчета",
      "metadata": {}
    },
    {
      "cell_type": "markdown",
      "source": "Посчитаем для каждого пользователя количество сделанных звонков и израсходованных минут разговора по месяцам и объединим данные в удобную таблицу.",
      "metadata": {}
    },
    {
      "cell_type": "code",
      "source": "# отдельно выведем в таблицах месяц пользования услугой\ncalls['month'] = pd.DatetimeIndex(calls['call_date']).month\ninternet['month'] = pd.DatetimeIndex(internet['session_date']).month \nmessages['month'] = pd.DatetimeIndex(messages['message_date']).month",
      "metadata": {},
      "execution_count": 14,
      "outputs": []
    },
    {
      "cell_type": "code",
      "source": "# но сначала учтем, что «Мегалайн» всегда округляет секунды до минут. \n# Каждый звонок округляется отдельно: даже если он длился всего 1 секунду, будет засчитан как 1 минута.\ncalls['duration'] = np.ceil(calls['duration']).astype('Int64')",
      "metadata": {},
      "execution_count": 15,
      "outputs": []
    },
    {
      "cell_type": "code",
      "source": "# создадим сводную таблицу и посчитаем кол-во сделанных звонков и израсходованных минут разговора по месяцам для каждого пользователя\ncalls_pivot_table = calls.pivot_table(index=['user_id', 'month'], values='duration', aggfunc=['count','sum']).astype('Int64')\ncalls_pivot_table.columns = ['calls_count','duration_sum']\ncalls_pivot_table.head(10)",
      "metadata": {},
      "execution_count": 16,
      "outputs": [
        {
          "execution_count": 16,
          "output_type": "execute_result",
          "data": {
            "text/html": [
              "<div>\n",
              "<style scoped>\n",
              "    .dataframe tbody tr th:only-of-type {\n",
              "        vertical-align: middle;\n",
              "    }\n",
              "\n",
              "    .dataframe tbody tr th {\n",
              "        vertical-align: top;\n",
              "    }\n",
              "\n",
              "    .dataframe thead th {\n",
              "        text-align: right;\n",
              "    }\n",
              "</style>\n",
              "<table border=\"1\" class=\"dataframe\">\n",
              "  <thead>\n",
              "    <tr style=\"text-align: right;\">\n",
              "      <th></th>\n",
              "      <th></th>\n",
              "      <th>calls_count</th>\n",
              "      <th>duration_sum</th>\n",
              "    </tr>\n",
              "    <tr>\n",
              "      <th>user_id</th>\n",
              "      <th>month</th>\n",
              "      <th></th>\n",
              "      <th></th>\n",
              "    </tr>\n",
              "  </thead>\n",
              "  <tbody>\n",
              "    <tr>\n",
              "      <th rowspan=\"8\" valign=\"top\">1000</th>\n",
              "      <th>5</th>\n",
              "      <td>22</td>\n",
              "      <td>159</td>\n",
              "    </tr>\n",
              "    <tr>\n",
              "      <th>6</th>\n",
              "      <td>43</td>\n",
              "      <td>172</td>\n",
              "    </tr>\n",
              "    <tr>\n",
              "      <th>7</th>\n",
              "      <td>47</td>\n",
              "      <td>340</td>\n",
              "    </tr>\n",
              "    <tr>\n",
              "      <th>8</th>\n",
              "      <td>52</td>\n",
              "      <td>408</td>\n",
              "    </tr>\n",
              "    <tr>\n",
              "      <th>9</th>\n",
              "      <td>58</td>\n",
              "      <td>466</td>\n",
              "    </tr>\n",
              "    <tr>\n",
              "      <th>10</th>\n",
              "      <td>57</td>\n",
              "      <td>350</td>\n",
              "    </tr>\n",
              "    <tr>\n",
              "      <th>11</th>\n",
              "      <td>43</td>\n",
              "      <td>338</td>\n",
              "    </tr>\n",
              "    <tr>\n",
              "      <th>12</th>\n",
              "      <td>46</td>\n",
              "      <td>333</td>\n",
              "    </tr>\n",
              "    <tr>\n",
              "      <th rowspan=\"2\" valign=\"top\">1001</th>\n",
              "      <th>11</th>\n",
              "      <td>59</td>\n",
              "      <td>430</td>\n",
              "    </tr>\n",
              "    <tr>\n",
              "      <th>12</th>\n",
              "      <td>63</td>\n",
              "      <td>414</td>\n",
              "    </tr>\n",
              "  </tbody>\n",
              "</table>\n",
              "</div>"
            ],
            "text/plain": [
              "               calls_count  duration_sum\n",
              "user_id month                           \n",
              "1000    5               22           159\n",
              "        6               43           172\n",
              "        7               47           340\n",
              "        8               52           408\n",
              "        9               58           466\n",
              "        10              57           350\n",
              "        11              43           338\n",
              "        12              46           333\n",
              "1001    11              59           430\n",
              "        12              63           414"
            ]
          },
          "metadata": {}
        }
      ]
    },
    {
      "cell_type": "code",
      "source": "# создадим сводную таблицу и посчитаем кол-во отправленных сообщений по месяцам для каждого пользователя\nmessages_pivot_table = messages.pivot_table(index=['user_id', 'month'], values='id', aggfunc=['count']).astype('Int64')\nmessages_pivot_table.columns = ['messages_count']\nmessages_pivot_table.head(10)",
      "metadata": {
        "scrolled": true
      },
      "execution_count": 17,
      "outputs": [
        {
          "execution_count": 17,
          "output_type": "execute_result",
          "data": {
            "text/html": [
              "<div>\n",
              "<style scoped>\n",
              "    .dataframe tbody tr th:only-of-type {\n",
              "        vertical-align: middle;\n",
              "    }\n",
              "\n",
              "    .dataframe tbody tr th {\n",
              "        vertical-align: top;\n",
              "    }\n",
              "\n",
              "    .dataframe thead th {\n",
              "        text-align: right;\n",
              "    }\n",
              "</style>\n",
              "<table border=\"1\" class=\"dataframe\">\n",
              "  <thead>\n",
              "    <tr style=\"text-align: right;\">\n",
              "      <th></th>\n",
              "      <th></th>\n",
              "      <th>messages_count</th>\n",
              "    </tr>\n",
              "    <tr>\n",
              "      <th>user_id</th>\n",
              "      <th>month</th>\n",
              "      <th></th>\n",
              "    </tr>\n",
              "  </thead>\n",
              "  <tbody>\n",
              "    <tr>\n",
              "      <th rowspan=\"8\" valign=\"top\">1000</th>\n",
              "      <th>5</th>\n",
              "      <td>22</td>\n",
              "    </tr>\n",
              "    <tr>\n",
              "      <th>6</th>\n",
              "      <td>60</td>\n",
              "    </tr>\n",
              "    <tr>\n",
              "      <th>7</th>\n",
              "      <td>75</td>\n",
              "    </tr>\n",
              "    <tr>\n",
              "      <th>8</th>\n",
              "      <td>81</td>\n",
              "    </tr>\n",
              "    <tr>\n",
              "      <th>9</th>\n",
              "      <td>57</td>\n",
              "    </tr>\n",
              "    <tr>\n",
              "      <th>10</th>\n",
              "      <td>73</td>\n",
              "    </tr>\n",
              "    <tr>\n",
              "      <th>11</th>\n",
              "      <td>58</td>\n",
              "    </tr>\n",
              "    <tr>\n",
              "      <th>12</th>\n",
              "      <td>70</td>\n",
              "    </tr>\n",
              "    <tr>\n",
              "      <th rowspan=\"2\" valign=\"top\">1002</th>\n",
              "      <th>6</th>\n",
              "      <td>4</td>\n",
              "    </tr>\n",
              "    <tr>\n",
              "      <th>7</th>\n",
              "      <td>11</td>\n",
              "    </tr>\n",
              "  </tbody>\n",
              "</table>\n",
              "</div>"
            ],
            "text/plain": [
              "               messages_count\n",
              "user_id month                \n",
              "1000    5                  22\n",
              "        6                  60\n",
              "        7                  75\n",
              "        8                  81\n",
              "        9                  57\n",
              "        10                 73\n",
              "        11                 58\n",
              "        12                 70\n",
              "1002    6                   4\n",
              "        7                  11"
            ]
          },
          "metadata": {}
        }
      ]
    },
    {
      "cell_type": "code",
      "source": "# создадим сводную таблицу и посчитаем объем израсходованного интернет-трафика по месяцам для каждого пользователя\n# Также учтем, что «Мегалайн» всегда округляет мегабайты до гигабайт. \n# Для интернет-трафика отдельные сессии не считаются. Вместо этого общая сумма за месяц округляется в бо́льшую сторону. \n# Если абонент использует 1025 мегабайт в этом месяце, с него возьмут плату за 2 гигабайта. \n# Посчитаем трафик за месяц и поделим на 1024, округлив до целых в большую сторону\ninternet_pivot_table = internet.pivot_table(index=['user_id', 'month'], values='mb_used', aggfunc=['sum'])\ninternet_pivot_table.columns = ['internet_sum']\ninternet_pivot_table['internet_sum_gb'] = (internet_pivot_table['internet_sum'] / 1024).apply(np.ceil).astype('Int64')\n\ninternet_pivot_table.head(10)",
      "metadata": {
        "scrolled": true
      },
      "execution_count": 18,
      "outputs": [
        {
          "execution_count": 18,
          "output_type": "execute_result",
          "data": {
            "text/html": [
              "<div>\n",
              "<style scoped>\n",
              "    .dataframe tbody tr th:only-of-type {\n",
              "        vertical-align: middle;\n",
              "    }\n",
              "\n",
              "    .dataframe tbody tr th {\n",
              "        vertical-align: top;\n",
              "    }\n",
              "\n",
              "    .dataframe thead th {\n",
              "        text-align: right;\n",
              "    }\n",
              "</style>\n",
              "<table border=\"1\" class=\"dataframe\">\n",
              "  <thead>\n",
              "    <tr style=\"text-align: right;\">\n",
              "      <th></th>\n",
              "      <th></th>\n",
              "      <th>internet_sum</th>\n",
              "      <th>internet_sum_gb</th>\n",
              "    </tr>\n",
              "    <tr>\n",
              "      <th>user_id</th>\n",
              "      <th>month</th>\n",
              "      <th></th>\n",
              "      <th></th>\n",
              "    </tr>\n",
              "  </thead>\n",
              "  <tbody>\n",
              "    <tr>\n",
              "      <th rowspan=\"8\" valign=\"top\">1000</th>\n",
              "      <th>5</th>\n",
              "      <td>2253.49</td>\n",
              "      <td>3</td>\n",
              "    </tr>\n",
              "    <tr>\n",
              "      <th>6</th>\n",
              "      <td>23233.77</td>\n",
              "      <td>23</td>\n",
              "    </tr>\n",
              "    <tr>\n",
              "      <th>7</th>\n",
              "      <td>14003.64</td>\n",
              "      <td>14</td>\n",
              "    </tr>\n",
              "    <tr>\n",
              "      <th>8</th>\n",
              "      <td>14055.93</td>\n",
              "      <td>14</td>\n",
              "    </tr>\n",
              "    <tr>\n",
              "      <th>9</th>\n",
              "      <td>14568.91</td>\n",
              "      <td>15</td>\n",
              "    </tr>\n",
              "    <tr>\n",
              "      <th>10</th>\n",
              "      <td>14702.49</td>\n",
              "      <td>15</td>\n",
              "    </tr>\n",
              "    <tr>\n",
              "      <th>11</th>\n",
              "      <td>14756.47</td>\n",
              "      <td>15</td>\n",
              "    </tr>\n",
              "    <tr>\n",
              "      <th>12</th>\n",
              "      <td>9817.61</td>\n",
              "      <td>10</td>\n",
              "    </tr>\n",
              "    <tr>\n",
              "      <th rowspan=\"2\" valign=\"top\">1001</th>\n",
              "      <th>11</th>\n",
              "      <td>18429.34</td>\n",
              "      <td>18</td>\n",
              "    </tr>\n",
              "    <tr>\n",
              "      <th>12</th>\n",
              "      <td>14036.66</td>\n",
              "      <td>14</td>\n",
              "    </tr>\n",
              "  </tbody>\n",
              "</table>\n",
              "</div>"
            ],
            "text/plain": [
              "               internet_sum  internet_sum_gb\n",
              "user_id month                               \n",
              "1000    5           2253.49                3\n",
              "        6          23233.77               23\n",
              "        7          14003.64               14\n",
              "        8          14055.93               14\n",
              "        9          14568.91               15\n",
              "        10         14702.49               15\n",
              "        11         14756.47               15\n",
              "        12          9817.61               10\n",
              "1001    11         18429.34               18\n",
              "        12         14036.66               14"
            ]
          },
          "metadata": {}
        }
      ]
    },
    {
      "cell_type": "code",
      "source": "# объединим все сводные таблицы в одну\nall_pivot = pd.concat([calls_pivot_table, messages_pivot_table, internet_pivot_table], sort=True, axis=1).reset_index()\nall_pivot.head()",
      "metadata": {
        "scrolled": true
      },
      "execution_count": 19,
      "outputs": [
        {
          "execution_count": 19,
          "output_type": "execute_result",
          "data": {
            "text/html": [
              "<div>\n",
              "<style scoped>\n",
              "    .dataframe tbody tr th:only-of-type {\n",
              "        vertical-align: middle;\n",
              "    }\n",
              "\n",
              "    .dataframe tbody tr th {\n",
              "        vertical-align: top;\n",
              "    }\n",
              "\n",
              "    .dataframe thead th {\n",
              "        text-align: right;\n",
              "    }\n",
              "</style>\n",
              "<table border=\"1\" class=\"dataframe\">\n",
              "  <thead>\n",
              "    <tr style=\"text-align: right;\">\n",
              "      <th></th>\n",
              "      <th>user_id</th>\n",
              "      <th>month</th>\n",
              "      <th>calls_count</th>\n",
              "      <th>duration_sum</th>\n",
              "      <th>messages_count</th>\n",
              "      <th>internet_sum</th>\n",
              "      <th>internet_sum_gb</th>\n",
              "    </tr>\n",
              "  </thead>\n",
              "  <tbody>\n",
              "    <tr>\n",
              "      <th>0</th>\n",
              "      <td>1000</td>\n",
              "      <td>5</td>\n",
              "      <td>22</td>\n",
              "      <td>159</td>\n",
              "      <td>22</td>\n",
              "      <td>2253.49</td>\n",
              "      <td>3</td>\n",
              "    </tr>\n",
              "    <tr>\n",
              "      <th>1</th>\n",
              "      <td>1000</td>\n",
              "      <td>6</td>\n",
              "      <td>43</td>\n",
              "      <td>172</td>\n",
              "      <td>60</td>\n",
              "      <td>23233.77</td>\n",
              "      <td>23</td>\n",
              "    </tr>\n",
              "    <tr>\n",
              "      <th>2</th>\n",
              "      <td>1000</td>\n",
              "      <td>7</td>\n",
              "      <td>47</td>\n",
              "      <td>340</td>\n",
              "      <td>75</td>\n",
              "      <td>14003.64</td>\n",
              "      <td>14</td>\n",
              "    </tr>\n",
              "    <tr>\n",
              "      <th>3</th>\n",
              "      <td>1000</td>\n",
              "      <td>8</td>\n",
              "      <td>52</td>\n",
              "      <td>408</td>\n",
              "      <td>81</td>\n",
              "      <td>14055.93</td>\n",
              "      <td>14</td>\n",
              "    </tr>\n",
              "    <tr>\n",
              "      <th>4</th>\n",
              "      <td>1000</td>\n",
              "      <td>9</td>\n",
              "      <td>58</td>\n",
              "      <td>466</td>\n",
              "      <td>57</td>\n",
              "      <td>14568.91</td>\n",
              "      <td>15</td>\n",
              "    </tr>\n",
              "  </tbody>\n",
              "</table>\n",
              "</div>"
            ],
            "text/plain": [
              "   user_id  month  calls_count  duration_sum  messages_count  internet_sum  \\\n",
              "0     1000      5           22           159              22       2253.49   \n",
              "1     1000      6           43           172              60      23233.77   \n",
              "2     1000      7           47           340              75      14003.64   \n",
              "3     1000      8           52           408              81      14055.93   \n",
              "4     1000      9           58           466              57      14568.91   \n",
              "\n",
              "   internet_sum_gb  \n",
              "0                3  \n",
              "1               23  \n",
              "2               14  \n",
              "3               14  \n",
              "4               15  "
            ]
          },
          "metadata": {}
        }
      ]
    },
    {
      "cell_type": "code",
      "source": "# соединим сводные таблицы по user_id с информацией о пользователях\ntotal_stats = all_pivot.merge(users, on='user_id', how='left')\ntotal_stats.head(10)",
      "metadata": {
        "scrolled": true
      },
      "execution_count": 20,
      "outputs": [
        {
          "execution_count": 20,
          "output_type": "execute_result",
          "data": {
            "text/html": [
              "<div>\n",
              "<style scoped>\n",
              "    .dataframe tbody tr th:only-of-type {\n",
              "        vertical-align: middle;\n",
              "    }\n",
              "\n",
              "    .dataframe tbody tr th {\n",
              "        vertical-align: top;\n",
              "    }\n",
              "\n",
              "    .dataframe thead th {\n",
              "        text-align: right;\n",
              "    }\n",
              "</style>\n",
              "<table border=\"1\" class=\"dataframe\">\n",
              "  <thead>\n",
              "    <tr style=\"text-align: right;\">\n",
              "      <th></th>\n",
              "      <th>user_id</th>\n",
              "      <th>month</th>\n",
              "      <th>calls_count</th>\n",
              "      <th>duration_sum</th>\n",
              "      <th>messages_count</th>\n",
              "      <th>internet_sum</th>\n",
              "      <th>internet_sum_gb</th>\n",
              "      <th>age</th>\n",
              "      <th>churn_date</th>\n",
              "      <th>city</th>\n",
              "      <th>first_name</th>\n",
              "      <th>last_name</th>\n",
              "      <th>reg_date</th>\n",
              "      <th>tariff</th>\n",
              "    </tr>\n",
              "  </thead>\n",
              "  <tbody>\n",
              "    <tr>\n",
              "      <th>0</th>\n",
              "      <td>1000</td>\n",
              "      <td>5</td>\n",
              "      <td>22</td>\n",
              "      <td>159</td>\n",
              "      <td>22</td>\n",
              "      <td>2253.49</td>\n",
              "      <td>3</td>\n",
              "      <td>52</td>\n",
              "      <td>NaT</td>\n",
              "      <td>Краснодар</td>\n",
              "      <td>Рафаил</td>\n",
              "      <td>Верещагин</td>\n",
              "      <td>2018-05-25</td>\n",
              "      <td>ultra</td>\n",
              "    </tr>\n",
              "    <tr>\n",
              "      <th>1</th>\n",
              "      <td>1000</td>\n",
              "      <td>6</td>\n",
              "      <td>43</td>\n",
              "      <td>172</td>\n",
              "      <td>60</td>\n",
              "      <td>23233.77</td>\n",
              "      <td>23</td>\n",
              "      <td>52</td>\n",
              "      <td>NaT</td>\n",
              "      <td>Краснодар</td>\n",
              "      <td>Рафаил</td>\n",
              "      <td>Верещагин</td>\n",
              "      <td>2018-05-25</td>\n",
              "      <td>ultra</td>\n",
              "    </tr>\n",
              "    <tr>\n",
              "      <th>2</th>\n",
              "      <td>1000</td>\n",
              "      <td>7</td>\n",
              "      <td>47</td>\n",
              "      <td>340</td>\n",
              "      <td>75</td>\n",
              "      <td>14003.64</td>\n",
              "      <td>14</td>\n",
              "      <td>52</td>\n",
              "      <td>NaT</td>\n",
              "      <td>Краснодар</td>\n",
              "      <td>Рафаил</td>\n",
              "      <td>Верещагин</td>\n",
              "      <td>2018-05-25</td>\n",
              "      <td>ultra</td>\n",
              "    </tr>\n",
              "    <tr>\n",
              "      <th>3</th>\n",
              "      <td>1000</td>\n",
              "      <td>8</td>\n",
              "      <td>52</td>\n",
              "      <td>408</td>\n",
              "      <td>81</td>\n",
              "      <td>14055.93</td>\n",
              "      <td>14</td>\n",
              "      <td>52</td>\n",
              "      <td>NaT</td>\n",
              "      <td>Краснодар</td>\n",
              "      <td>Рафаил</td>\n",
              "      <td>Верещагин</td>\n",
              "      <td>2018-05-25</td>\n",
              "      <td>ultra</td>\n",
              "    </tr>\n",
              "    <tr>\n",
              "      <th>4</th>\n",
              "      <td>1000</td>\n",
              "      <td>9</td>\n",
              "      <td>58</td>\n",
              "      <td>466</td>\n",
              "      <td>57</td>\n",
              "      <td>14568.91</td>\n",
              "      <td>15</td>\n",
              "      <td>52</td>\n",
              "      <td>NaT</td>\n",
              "      <td>Краснодар</td>\n",
              "      <td>Рафаил</td>\n",
              "      <td>Верещагин</td>\n",
              "      <td>2018-05-25</td>\n",
              "      <td>ultra</td>\n",
              "    </tr>\n",
              "    <tr>\n",
              "      <th>5</th>\n",
              "      <td>1000</td>\n",
              "      <td>10</td>\n",
              "      <td>57</td>\n",
              "      <td>350</td>\n",
              "      <td>73</td>\n",
              "      <td>14702.49</td>\n",
              "      <td>15</td>\n",
              "      <td>52</td>\n",
              "      <td>NaT</td>\n",
              "      <td>Краснодар</td>\n",
              "      <td>Рафаил</td>\n",
              "      <td>Верещагин</td>\n",
              "      <td>2018-05-25</td>\n",
              "      <td>ultra</td>\n",
              "    </tr>\n",
              "    <tr>\n",
              "      <th>6</th>\n",
              "      <td>1000</td>\n",
              "      <td>11</td>\n",
              "      <td>43</td>\n",
              "      <td>338</td>\n",
              "      <td>58</td>\n",
              "      <td>14756.47</td>\n",
              "      <td>15</td>\n",
              "      <td>52</td>\n",
              "      <td>NaT</td>\n",
              "      <td>Краснодар</td>\n",
              "      <td>Рафаил</td>\n",
              "      <td>Верещагин</td>\n",
              "      <td>2018-05-25</td>\n",
              "      <td>ultra</td>\n",
              "    </tr>\n",
              "    <tr>\n",
              "      <th>7</th>\n",
              "      <td>1000</td>\n",
              "      <td>12</td>\n",
              "      <td>46</td>\n",
              "      <td>333</td>\n",
              "      <td>70</td>\n",
              "      <td>9817.61</td>\n",
              "      <td>10</td>\n",
              "      <td>52</td>\n",
              "      <td>NaT</td>\n",
              "      <td>Краснодар</td>\n",
              "      <td>Рафаил</td>\n",
              "      <td>Верещагин</td>\n",
              "      <td>2018-05-25</td>\n",
              "      <td>ultra</td>\n",
              "    </tr>\n",
              "    <tr>\n",
              "      <th>8</th>\n",
              "      <td>1001</td>\n",
              "      <td>11</td>\n",
              "      <td>59</td>\n",
              "      <td>430</td>\n",
              "      <td>&lt;NA&gt;</td>\n",
              "      <td>18429.34</td>\n",
              "      <td>18</td>\n",
              "      <td>41</td>\n",
              "      <td>NaT</td>\n",
              "      <td>Москва</td>\n",
              "      <td>Иван</td>\n",
              "      <td>Ежов</td>\n",
              "      <td>2018-11-01</td>\n",
              "      <td>smart</td>\n",
              "    </tr>\n",
              "    <tr>\n",
              "      <th>9</th>\n",
              "      <td>1001</td>\n",
              "      <td>12</td>\n",
              "      <td>63</td>\n",
              "      <td>414</td>\n",
              "      <td>&lt;NA&gt;</td>\n",
              "      <td>14036.66</td>\n",
              "      <td>14</td>\n",
              "      <td>41</td>\n",
              "      <td>NaT</td>\n",
              "      <td>Москва</td>\n",
              "      <td>Иван</td>\n",
              "      <td>Ежов</td>\n",
              "      <td>2018-11-01</td>\n",
              "      <td>smart</td>\n",
              "    </tr>\n",
              "  </tbody>\n",
              "</table>\n",
              "</div>"
            ],
            "text/plain": [
              "   user_id  month  calls_count  duration_sum  messages_count  internet_sum  \\\n",
              "0     1000      5           22           159              22       2253.49   \n",
              "1     1000      6           43           172              60      23233.77   \n",
              "2     1000      7           47           340              75      14003.64   \n",
              "3     1000      8           52           408              81      14055.93   \n",
              "4     1000      9           58           466              57      14568.91   \n",
              "5     1000     10           57           350              73      14702.49   \n",
              "6     1000     11           43           338              58      14756.47   \n",
              "7     1000     12           46           333              70       9817.61   \n",
              "8     1001     11           59           430            <NA>      18429.34   \n",
              "9     1001     12           63           414            <NA>      14036.66   \n",
              "\n",
              "   internet_sum_gb  age churn_date       city first_name  last_name  \\\n",
              "0                3   52        NaT  Краснодар     Рафаил  Верещагин   \n",
              "1               23   52        NaT  Краснодар     Рафаил  Верещагин   \n",
              "2               14   52        NaT  Краснодар     Рафаил  Верещагин   \n",
              "3               14   52        NaT  Краснодар     Рафаил  Верещагин   \n",
              "4               15   52        NaT  Краснодар     Рафаил  Верещагин   \n",
              "5               15   52        NaT  Краснодар     Рафаил  Верещагин   \n",
              "6               15   52        NaT  Краснодар     Рафаил  Верещагин   \n",
              "7               10   52        NaT  Краснодар     Рафаил  Верещагин   \n",
              "8               18   41        NaT     Москва       Иван       Ежов   \n",
              "9               14   41        NaT     Москва       Иван       Ежов   \n",
              "\n",
              "    reg_date tariff  \n",
              "0 2018-05-25  ultra  \n",
              "1 2018-05-25  ultra  \n",
              "2 2018-05-25  ultra  \n",
              "3 2018-05-25  ultra  \n",
              "4 2018-05-25  ultra  \n",
              "5 2018-05-25  ultra  \n",
              "6 2018-05-25  ultra  \n",
              "7 2018-05-25  ultra  \n",
              "8 2018-11-01  smart  \n",
              "9 2018-11-01  smart  "
            ]
          },
          "metadata": {}
        }
      ]
    },
    {
      "cell_type": "code",
      "source": "# удалим столбцы, которые нам не пригодятся чтобы легче было ориентироваться в таблице\ntotal_stats = total_stats.drop(['churn_date', 'first_name', 'last_name', 'reg_date'], axis='columns')\ntotal_stats.head(2)",
      "metadata": {},
      "execution_count": 21,
      "outputs": [
        {
          "execution_count": 21,
          "output_type": "execute_result",
          "data": {
            "text/html": [
              "<div>\n",
              "<style scoped>\n",
              "    .dataframe tbody tr th:only-of-type {\n",
              "        vertical-align: middle;\n",
              "    }\n",
              "\n",
              "    .dataframe tbody tr th {\n",
              "        vertical-align: top;\n",
              "    }\n",
              "\n",
              "    .dataframe thead th {\n",
              "        text-align: right;\n",
              "    }\n",
              "</style>\n",
              "<table border=\"1\" class=\"dataframe\">\n",
              "  <thead>\n",
              "    <tr style=\"text-align: right;\">\n",
              "      <th></th>\n",
              "      <th>user_id</th>\n",
              "      <th>month</th>\n",
              "      <th>calls_count</th>\n",
              "      <th>duration_sum</th>\n",
              "      <th>messages_count</th>\n",
              "      <th>internet_sum</th>\n",
              "      <th>internet_sum_gb</th>\n",
              "      <th>age</th>\n",
              "      <th>city</th>\n",
              "      <th>tariff</th>\n",
              "    </tr>\n",
              "  </thead>\n",
              "  <tbody>\n",
              "    <tr>\n",
              "      <th>0</th>\n",
              "      <td>1000</td>\n",
              "      <td>5</td>\n",
              "      <td>22</td>\n",
              "      <td>159</td>\n",
              "      <td>22</td>\n",
              "      <td>2253.49</td>\n",
              "      <td>3</td>\n",
              "      <td>52</td>\n",
              "      <td>Краснодар</td>\n",
              "      <td>ultra</td>\n",
              "    </tr>\n",
              "    <tr>\n",
              "      <th>1</th>\n",
              "      <td>1000</td>\n",
              "      <td>6</td>\n",
              "      <td>43</td>\n",
              "      <td>172</td>\n",
              "      <td>60</td>\n",
              "      <td>23233.77</td>\n",
              "      <td>23</td>\n",
              "      <td>52</td>\n",
              "      <td>Краснодар</td>\n",
              "      <td>ultra</td>\n",
              "    </tr>\n",
              "  </tbody>\n",
              "</table>\n",
              "</div>"
            ],
            "text/plain": [
              "   user_id  month  calls_count  duration_sum  messages_count  internet_sum  \\\n",
              "0     1000      5           22           159              22       2253.49   \n",
              "1     1000      6           43           172              60      23233.77   \n",
              "\n",
              "   internet_sum_gb  age       city tariff  \n",
              "0                3   52  Краснодар  ultra  \n",
              "1               23   52  Краснодар  ultra  "
            ]
          },
          "metadata": {}
        }
      ]
    },
    {
      "cell_type": "code",
      "source": "# добавим к total_stats информацию о тарифах из таблицы tariffs\n# объединим таблицы по колонке с названиями тарифов\n# для этого сначала в tariffs поменяем название нужного столбца на tariff\n\ntariffs.columns = ['messages_included', 'mb_per_month_included', 'minutes_included', 'rub_monthly_fee',\\\n                      'rub_per_gb', 'rub_per_message', 'rub_per_minute', 'tariff']\ntariffs",
      "metadata": {
        "scrolled": true
      },
      "execution_count": 22,
      "outputs": [
        {
          "execution_count": 22,
          "output_type": "execute_result",
          "data": {
            "text/html": [
              "<div>\n",
              "<style scoped>\n",
              "    .dataframe tbody tr th:only-of-type {\n",
              "        vertical-align: middle;\n",
              "    }\n",
              "\n",
              "    .dataframe tbody tr th {\n",
              "        vertical-align: top;\n",
              "    }\n",
              "\n",
              "    .dataframe thead th {\n",
              "        text-align: right;\n",
              "    }\n",
              "</style>\n",
              "<table border=\"1\" class=\"dataframe\">\n",
              "  <thead>\n",
              "    <tr style=\"text-align: right;\">\n",
              "      <th></th>\n",
              "      <th>messages_included</th>\n",
              "      <th>mb_per_month_included</th>\n",
              "      <th>minutes_included</th>\n",
              "      <th>rub_monthly_fee</th>\n",
              "      <th>rub_per_gb</th>\n",
              "      <th>rub_per_message</th>\n",
              "      <th>rub_per_minute</th>\n",
              "      <th>tariff</th>\n",
              "    </tr>\n",
              "  </thead>\n",
              "  <tbody>\n",
              "    <tr>\n",
              "      <th>0</th>\n",
              "      <td>50</td>\n",
              "      <td>15360</td>\n",
              "      <td>500</td>\n",
              "      <td>550</td>\n",
              "      <td>200</td>\n",
              "      <td>3</td>\n",
              "      <td>3</td>\n",
              "      <td>smart</td>\n",
              "    </tr>\n",
              "    <tr>\n",
              "      <th>1</th>\n",
              "      <td>1000</td>\n",
              "      <td>30720</td>\n",
              "      <td>3000</td>\n",
              "      <td>1950</td>\n",
              "      <td>150</td>\n",
              "      <td>1</td>\n",
              "      <td>1</td>\n",
              "      <td>ultra</td>\n",
              "    </tr>\n",
              "  </tbody>\n",
              "</table>\n",
              "</div>"
            ],
            "text/plain": [
              "   messages_included  mb_per_month_included  minutes_included  \\\n",
              "0                 50                  15360               500   \n",
              "1               1000                  30720              3000   \n",
              "\n",
              "   rub_monthly_fee  rub_per_gb  rub_per_message  rub_per_minute tariff  \n",
              "0              550         200                3               3  smart  \n",
              "1             1950         150                1               1  ultra  "
            ]
          },
          "metadata": {}
        }
      ]
    },
    {
      "cell_type": "code",
      "source": "# применим метод merge, параметру \"on\" передадим колонку с названиями тарифов, параметр \"how\" по умолчанию \"inner\"\n\ntotal_stats =total_stats.merge(tariffs, on='tariff')\ntotal_stats.head()",
      "metadata": {
        "scrolled": true
      },
      "execution_count": 23,
      "outputs": [
        {
          "execution_count": 23,
          "output_type": "execute_result",
          "data": {
            "text/html": [
              "<div>\n",
              "<style scoped>\n",
              "    .dataframe tbody tr th:only-of-type {\n",
              "        vertical-align: middle;\n",
              "    }\n",
              "\n",
              "    .dataframe tbody tr th {\n",
              "        vertical-align: top;\n",
              "    }\n",
              "\n",
              "    .dataframe thead th {\n",
              "        text-align: right;\n",
              "    }\n",
              "</style>\n",
              "<table border=\"1\" class=\"dataframe\">\n",
              "  <thead>\n",
              "    <tr style=\"text-align: right;\">\n",
              "      <th></th>\n",
              "      <th>user_id</th>\n",
              "      <th>month</th>\n",
              "      <th>calls_count</th>\n",
              "      <th>duration_sum</th>\n",
              "      <th>messages_count</th>\n",
              "      <th>internet_sum</th>\n",
              "      <th>internet_sum_gb</th>\n",
              "      <th>age</th>\n",
              "      <th>city</th>\n",
              "      <th>tariff</th>\n",
              "      <th>messages_included</th>\n",
              "      <th>mb_per_month_included</th>\n",
              "      <th>minutes_included</th>\n",
              "      <th>rub_monthly_fee</th>\n",
              "      <th>rub_per_gb</th>\n",
              "      <th>rub_per_message</th>\n",
              "      <th>rub_per_minute</th>\n",
              "    </tr>\n",
              "  </thead>\n",
              "  <tbody>\n",
              "    <tr>\n",
              "      <th>0</th>\n",
              "      <td>1000</td>\n",
              "      <td>5</td>\n",
              "      <td>22</td>\n",
              "      <td>159</td>\n",
              "      <td>22</td>\n",
              "      <td>2253.49</td>\n",
              "      <td>3</td>\n",
              "      <td>52</td>\n",
              "      <td>Краснодар</td>\n",
              "      <td>ultra</td>\n",
              "      <td>1000</td>\n",
              "      <td>30720</td>\n",
              "      <td>3000</td>\n",
              "      <td>1950</td>\n",
              "      <td>150</td>\n",
              "      <td>1</td>\n",
              "      <td>1</td>\n",
              "    </tr>\n",
              "    <tr>\n",
              "      <th>1</th>\n",
              "      <td>1000</td>\n",
              "      <td>6</td>\n",
              "      <td>43</td>\n",
              "      <td>172</td>\n",
              "      <td>60</td>\n",
              "      <td>23233.77</td>\n",
              "      <td>23</td>\n",
              "      <td>52</td>\n",
              "      <td>Краснодар</td>\n",
              "      <td>ultra</td>\n",
              "      <td>1000</td>\n",
              "      <td>30720</td>\n",
              "      <td>3000</td>\n",
              "      <td>1950</td>\n",
              "      <td>150</td>\n",
              "      <td>1</td>\n",
              "      <td>1</td>\n",
              "    </tr>\n",
              "    <tr>\n",
              "      <th>2</th>\n",
              "      <td>1000</td>\n",
              "      <td>7</td>\n",
              "      <td>47</td>\n",
              "      <td>340</td>\n",
              "      <td>75</td>\n",
              "      <td>14003.64</td>\n",
              "      <td>14</td>\n",
              "      <td>52</td>\n",
              "      <td>Краснодар</td>\n",
              "      <td>ultra</td>\n",
              "      <td>1000</td>\n",
              "      <td>30720</td>\n",
              "      <td>3000</td>\n",
              "      <td>1950</td>\n",
              "      <td>150</td>\n",
              "      <td>1</td>\n",
              "      <td>1</td>\n",
              "    </tr>\n",
              "    <tr>\n",
              "      <th>3</th>\n",
              "      <td>1000</td>\n",
              "      <td>8</td>\n",
              "      <td>52</td>\n",
              "      <td>408</td>\n",
              "      <td>81</td>\n",
              "      <td>14055.93</td>\n",
              "      <td>14</td>\n",
              "      <td>52</td>\n",
              "      <td>Краснодар</td>\n",
              "      <td>ultra</td>\n",
              "      <td>1000</td>\n",
              "      <td>30720</td>\n",
              "      <td>3000</td>\n",
              "      <td>1950</td>\n",
              "      <td>150</td>\n",
              "      <td>1</td>\n",
              "      <td>1</td>\n",
              "    </tr>\n",
              "    <tr>\n",
              "      <th>4</th>\n",
              "      <td>1000</td>\n",
              "      <td>9</td>\n",
              "      <td>58</td>\n",
              "      <td>466</td>\n",
              "      <td>57</td>\n",
              "      <td>14568.91</td>\n",
              "      <td>15</td>\n",
              "      <td>52</td>\n",
              "      <td>Краснодар</td>\n",
              "      <td>ultra</td>\n",
              "      <td>1000</td>\n",
              "      <td>30720</td>\n",
              "      <td>3000</td>\n",
              "      <td>1950</td>\n",
              "      <td>150</td>\n",
              "      <td>1</td>\n",
              "      <td>1</td>\n",
              "    </tr>\n",
              "  </tbody>\n",
              "</table>\n",
              "</div>"
            ],
            "text/plain": [
              "   user_id  month  calls_count  duration_sum  messages_count  internet_sum  \\\n",
              "0     1000      5           22           159              22       2253.49   \n",
              "1     1000      6           43           172              60      23233.77   \n",
              "2     1000      7           47           340              75      14003.64   \n",
              "3     1000      8           52           408              81      14055.93   \n",
              "4     1000      9           58           466              57      14568.91   \n",
              "\n",
              "   internet_sum_gb  age       city tariff  messages_included  \\\n",
              "0                3   52  Краснодар  ultra               1000   \n",
              "1               23   52  Краснодар  ultra               1000   \n",
              "2               14   52  Краснодар  ultra               1000   \n",
              "3               14   52  Краснодар  ultra               1000   \n",
              "4               15   52  Краснодар  ultra               1000   \n",
              "\n",
              "   mb_per_month_included  minutes_included  rub_monthly_fee  rub_per_gb  \\\n",
              "0                  30720              3000             1950         150   \n",
              "1                  30720              3000             1950         150   \n",
              "2                  30720              3000             1950         150   \n",
              "3                  30720              3000             1950         150   \n",
              "4                  30720              3000             1950         150   \n",
              "\n",
              "   rub_per_message  rub_per_minute  \n",
              "0                1               1  \n",
              "1                1               1  \n",
              "2                1               1  \n",
              "3                1               1  \n",
              "4                1               1  "
            ]
          },
          "metadata": {}
        }
      ]
    },
    {
      "cell_type": "markdown",
      "source": "После объединения таблиц образовалось немало пропусков, особенно в messages_count. Это произошло из-за разницы в исходных данных (см. \"Общая информация о данных\"). Оставить как есть или отбросить их не вариант, т.к. в первом случае они повляют на дальнейшие расчеты, а во втором потеряем много данных. Поэтому заменим все пропуски на ноль.",
      "metadata": {}
    },
    {
      "cell_type": "code",
      "source": "total_stats.isnull().sum()",
      "metadata": {},
      "execution_count": 24,
      "outputs": [
        {
          "execution_count": 24,
          "output_type": "execute_result",
          "data": {
            "text/plain": [
              "user_id                    0\n",
              "month                      0\n",
              "calls_count               40\n",
              "duration_sum              40\n",
              "messages_count           497\n",
              "internet_sum              11\n",
              "internet_sum_gb           11\n",
              "age                        0\n",
              "city                       0\n",
              "tariff                     0\n",
              "messages_included          0\n",
              "mb_per_month_included      0\n",
              "minutes_included           0\n",
              "rub_monthly_fee            0\n",
              "rub_per_gb                 0\n",
              "rub_per_message            0\n",
              "rub_per_minute             0\n",
              "dtype: int64"
            ]
          },
          "metadata": {}
        }
      ]
    },
    {
      "cell_type": "code",
      "source": "# пропуски заменим на ноль\ntotal_stats = total_stats.fillna(0)",
      "metadata": {},
      "execution_count": 25,
      "outputs": []
    },
    {
      "cell_type": "code",
      "source": "total_stats.isnull().sum()",
      "metadata": {},
      "execution_count": 26,
      "outputs": [
        {
          "execution_count": 26,
          "output_type": "execute_result",
          "data": {
            "text/plain": [
              "user_id                  0\n",
              "month                    0\n",
              "calls_count              0\n",
              "duration_sum             0\n",
              "messages_count           0\n",
              "internet_sum             0\n",
              "internet_sum_gb          0\n",
              "age                      0\n",
              "city                     0\n",
              "tariff                   0\n",
              "messages_included        0\n",
              "mb_per_month_included    0\n",
              "minutes_included         0\n",
              "rub_monthly_fee          0\n",
              "rub_per_gb               0\n",
              "rub_per_message          0\n",
              "rub_per_minute           0\n",
              "dtype: int64"
            ]
          },
          "metadata": {}
        }
      ]
    },
    {
      "cell_type": "markdown",
      "source": "Посчитаем помесячную выручку с каждого пользователя при помощи функции total_bill_monthly, в которой в качестве pd.Series будет выступать строка датафрейма.",
      "metadata": {}
    },
    {
      "cell_type": "code",
      "source": "def total_bill_monthly(row):\n    \n#определим переменные\n    \n    bill_minutes = 0\n    bill_sms = 0\n    bill_traffic = 0\n    minutes = row['duration_sum']\n    sms = row['messages_count']\n    traffic = row['internet_sum']\n    tariff = row['tariff']\n    minutes_limit = row['minutes_included']\n    sms_limit = row['messages_included']\n    traffic_limit = row['mb_per_month_included']\n    monthly_fee = row['rub_monthly_fee']\n    rub_per_gb = row['rub_per_gb']\n    rub_per_message = row['rub_per_message']\n    rub_per_minute = row['rub_per_minute']\n\n#проверим разницу между суммарными значениями звонков, сообщений, трафика и бесплатным лимитом тарифа\n#если эта разница меньше нуля, то возвращаем ноль - клиент не израсходовал бесплатный лимит\n#если больше - то разницу умножаем на стоимость сверх тарифного плана\n    \n    if minutes > minutes_limit:\n        bill_minutes += (minutes - minutes_limit) * rub_per_minute\n    if minutes < minutes_limit:\n        bill_minutes = 0\n    if sms > sms_limit:\n        bill_sms += (sms - sms_limit) * rub_per_message\n    if sms < sms_limit:\n        bill_sms = 0\n    if traffic > traffic_limit:\n        bill_traffic += (np.ceil((traffic - traffic_limit) / 1024 )) * rub_per_gb# округляем мегабайты вверх до гигабайт\n    if traffic < traffic_limit:\n        bill_traffic = 0\n        \n#функция возвращает итоговый счет за месяц для клиента,\n#в котором к сумме счетов за отдельные категории услуг прибавляется абонентская плата за тариф\n        \n    return bill_minutes + bill_sms + bill_traffic + monthly_fee",
      "metadata": {},
      "execution_count": 27,
      "outputs": []
    },
    {
      "cell_type": "code",
      "source": "#применим функцию к датафрейму\n#метод apply() применяем в нашем случае ко всему датафрейму\n#Чтобы на вход в функцию отправлялись строки, указываем параметр axis = 1 метода apply()\n\ntotal_stats['total_bill'] = total_stats.apply(total_bill_monthly, axis=1)\ntotal_stats",
      "metadata": {
        "scrolled": true
      },
      "execution_count": 28,
      "outputs": [
        {
          "execution_count": 28,
          "output_type": "execute_result",
          "data": {
            "text/html": [
              "<div>\n",
              "<style scoped>\n",
              "    .dataframe tbody tr th:only-of-type {\n",
              "        vertical-align: middle;\n",
              "    }\n",
              "\n",
              "    .dataframe tbody tr th {\n",
              "        vertical-align: top;\n",
              "    }\n",
              "\n",
              "    .dataframe thead th {\n",
              "        text-align: right;\n",
              "    }\n",
              "</style>\n",
              "<table border=\"1\" class=\"dataframe\">\n",
              "  <thead>\n",
              "    <tr style=\"text-align: right;\">\n",
              "      <th></th>\n",
              "      <th>user_id</th>\n",
              "      <th>month</th>\n",
              "      <th>calls_count</th>\n",
              "      <th>duration_sum</th>\n",
              "      <th>messages_count</th>\n",
              "      <th>internet_sum</th>\n",
              "      <th>internet_sum_gb</th>\n",
              "      <th>age</th>\n",
              "      <th>city</th>\n",
              "      <th>tariff</th>\n",
              "      <th>messages_included</th>\n",
              "      <th>mb_per_month_included</th>\n",
              "      <th>minutes_included</th>\n",
              "      <th>rub_monthly_fee</th>\n",
              "      <th>rub_per_gb</th>\n",
              "      <th>rub_per_message</th>\n",
              "      <th>rub_per_minute</th>\n",
              "      <th>total_bill</th>\n",
              "    </tr>\n",
              "  </thead>\n",
              "  <tbody>\n",
              "    <tr>\n",
              "      <th>0</th>\n",
              "      <td>1000</td>\n",
              "      <td>5</td>\n",
              "      <td>22</td>\n",
              "      <td>159</td>\n",
              "      <td>22</td>\n",
              "      <td>2253.49</td>\n",
              "      <td>3</td>\n",
              "      <td>52</td>\n",
              "      <td>Краснодар</td>\n",
              "      <td>ultra</td>\n",
              "      <td>1000</td>\n",
              "      <td>30720</td>\n",
              "      <td>3000</td>\n",
              "      <td>1950</td>\n",
              "      <td>150</td>\n",
              "      <td>1</td>\n",
              "      <td>1</td>\n",
              "      <td>1950.0</td>\n",
              "    </tr>\n",
              "    <tr>\n",
              "      <th>1</th>\n",
              "      <td>1000</td>\n",
              "      <td>6</td>\n",
              "      <td>43</td>\n",
              "      <td>172</td>\n",
              "      <td>60</td>\n",
              "      <td>23233.77</td>\n",
              "      <td>23</td>\n",
              "      <td>52</td>\n",
              "      <td>Краснодар</td>\n",
              "      <td>ultra</td>\n",
              "      <td>1000</td>\n",
              "      <td>30720</td>\n",
              "      <td>3000</td>\n",
              "      <td>1950</td>\n",
              "      <td>150</td>\n",
              "      <td>1</td>\n",
              "      <td>1</td>\n",
              "      <td>1950.0</td>\n",
              "    </tr>\n",
              "    <tr>\n",
              "      <th>2</th>\n",
              "      <td>1000</td>\n",
              "      <td>7</td>\n",
              "      <td>47</td>\n",
              "      <td>340</td>\n",
              "      <td>75</td>\n",
              "      <td>14003.64</td>\n",
              "      <td>14</td>\n",
              "      <td>52</td>\n",
              "      <td>Краснодар</td>\n",
              "      <td>ultra</td>\n",
              "      <td>1000</td>\n",
              "      <td>30720</td>\n",
              "      <td>3000</td>\n",
              "      <td>1950</td>\n",
              "      <td>150</td>\n",
              "      <td>1</td>\n",
              "      <td>1</td>\n",
              "      <td>1950.0</td>\n",
              "    </tr>\n",
              "    <tr>\n",
              "      <th>3</th>\n",
              "      <td>1000</td>\n",
              "      <td>8</td>\n",
              "      <td>52</td>\n",
              "      <td>408</td>\n",
              "      <td>81</td>\n",
              "      <td>14055.93</td>\n",
              "      <td>14</td>\n",
              "      <td>52</td>\n",
              "      <td>Краснодар</td>\n",
              "      <td>ultra</td>\n",
              "      <td>1000</td>\n",
              "      <td>30720</td>\n",
              "      <td>3000</td>\n",
              "      <td>1950</td>\n",
              "      <td>150</td>\n",
              "      <td>1</td>\n",
              "      <td>1</td>\n",
              "      <td>1950.0</td>\n",
              "    </tr>\n",
              "    <tr>\n",
              "      <th>4</th>\n",
              "      <td>1000</td>\n",
              "      <td>9</td>\n",
              "      <td>58</td>\n",
              "      <td>466</td>\n",
              "      <td>57</td>\n",
              "      <td>14568.91</td>\n",
              "      <td>15</td>\n",
              "      <td>52</td>\n",
              "      <td>Краснодар</td>\n",
              "      <td>ultra</td>\n",
              "      <td>1000</td>\n",
              "      <td>30720</td>\n",
              "      <td>3000</td>\n",
              "      <td>1950</td>\n",
              "      <td>150</td>\n",
              "      <td>1</td>\n",
              "      <td>1</td>\n",
              "      <td>1950.0</td>\n",
              "    </tr>\n",
              "    <tr>\n",
              "      <th>...</th>\n",
              "      <td>...</td>\n",
              "      <td>...</td>\n",
              "      <td>...</td>\n",
              "      <td>...</td>\n",
              "      <td>...</td>\n",
              "      <td>...</td>\n",
              "      <td>...</td>\n",
              "      <td>...</td>\n",
              "      <td>...</td>\n",
              "      <td>...</td>\n",
              "      <td>...</td>\n",
              "      <td>...</td>\n",
              "      <td>...</td>\n",
              "      <td>...</td>\n",
              "      <td>...</td>\n",
              "      <td>...</td>\n",
              "      <td>...</td>\n",
              "      <td>...</td>\n",
              "    </tr>\n",
              "    <tr>\n",
              "      <th>3209</th>\n",
              "      <td>1498</td>\n",
              "      <td>10</td>\n",
              "      <td>41</td>\n",
              "      <td>247</td>\n",
              "      <td>42</td>\n",
              "      <td>20579.36</td>\n",
              "      <td>21</td>\n",
              "      <td>68</td>\n",
              "      <td>Владикавказ</td>\n",
              "      <td>smart</td>\n",
              "      <td>50</td>\n",
              "      <td>15360</td>\n",
              "      <td>500</td>\n",
              "      <td>550</td>\n",
              "      <td>200</td>\n",
              "      <td>3</td>\n",
              "      <td>3</td>\n",
              "      <td>1750.0</td>\n",
              "    </tr>\n",
              "    <tr>\n",
              "      <th>3210</th>\n",
              "      <td>1499</td>\n",
              "      <td>9</td>\n",
              "      <td>9</td>\n",
              "      <td>70</td>\n",
              "      <td>11</td>\n",
              "      <td>1845.75</td>\n",
              "      <td>2</td>\n",
              "      <td>35</td>\n",
              "      <td>Пермь</td>\n",
              "      <td>smart</td>\n",
              "      <td>50</td>\n",
              "      <td>15360</td>\n",
              "      <td>500</td>\n",
              "      <td>550</td>\n",
              "      <td>200</td>\n",
              "      <td>3</td>\n",
              "      <td>3</td>\n",
              "      <td>550.0</td>\n",
              "    </tr>\n",
              "    <tr>\n",
              "      <th>3211</th>\n",
              "      <td>1499</td>\n",
              "      <td>10</td>\n",
              "      <td>68</td>\n",
              "      <td>449</td>\n",
              "      <td>48</td>\n",
              "      <td>17788.51</td>\n",
              "      <td>18</td>\n",
              "      <td>35</td>\n",
              "      <td>Пермь</td>\n",
              "      <td>smart</td>\n",
              "      <td>50</td>\n",
              "      <td>15360</td>\n",
              "      <td>500</td>\n",
              "      <td>550</td>\n",
              "      <td>200</td>\n",
              "      <td>3</td>\n",
              "      <td>3</td>\n",
              "      <td>1150.0</td>\n",
              "    </tr>\n",
              "    <tr>\n",
              "      <th>3212</th>\n",
              "      <td>1499</td>\n",
              "      <td>11</td>\n",
              "      <td>74</td>\n",
              "      <td>612</td>\n",
              "      <td>59</td>\n",
              "      <td>17963.31</td>\n",
              "      <td>18</td>\n",
              "      <td>35</td>\n",
              "      <td>Пермь</td>\n",
              "      <td>smart</td>\n",
              "      <td>50</td>\n",
              "      <td>15360</td>\n",
              "      <td>500</td>\n",
              "      <td>550</td>\n",
              "      <td>200</td>\n",
              "      <td>3</td>\n",
              "      <td>3</td>\n",
              "      <td>1513.0</td>\n",
              "    </tr>\n",
              "    <tr>\n",
              "      <th>3213</th>\n",
              "      <td>1499</td>\n",
              "      <td>12</td>\n",
              "      <td>69</td>\n",
              "      <td>492</td>\n",
              "      <td>66</td>\n",
              "      <td>13055.58</td>\n",
              "      <td>13</td>\n",
              "      <td>35</td>\n",
              "      <td>Пермь</td>\n",
              "      <td>smart</td>\n",
              "      <td>50</td>\n",
              "      <td>15360</td>\n",
              "      <td>500</td>\n",
              "      <td>550</td>\n",
              "      <td>200</td>\n",
              "      <td>3</td>\n",
              "      <td>3</td>\n",
              "      <td>598.0</td>\n",
              "    </tr>\n",
              "  </tbody>\n",
              "</table>\n",
              "<p>3214 rows × 18 columns</p>\n",
              "</div>"
            ],
            "text/plain": [
              "      user_id  month  calls_count  duration_sum  messages_count  internet_sum  \\\n",
              "0        1000      5           22           159              22       2253.49   \n",
              "1        1000      6           43           172              60      23233.77   \n",
              "2        1000      7           47           340              75      14003.64   \n",
              "3        1000      8           52           408              81      14055.93   \n",
              "4        1000      9           58           466              57      14568.91   \n",
              "...       ...    ...          ...           ...             ...           ...   \n",
              "3209     1498     10           41           247              42      20579.36   \n",
              "3210     1499      9            9            70              11       1845.75   \n",
              "3211     1499     10           68           449              48      17788.51   \n",
              "3212     1499     11           74           612              59      17963.31   \n",
              "3213     1499     12           69           492              66      13055.58   \n",
              "\n",
              "      internet_sum_gb  age         city tariff  messages_included  \\\n",
              "0                   3   52    Краснодар  ultra               1000   \n",
              "1                  23   52    Краснодар  ultra               1000   \n",
              "2                  14   52    Краснодар  ultra               1000   \n",
              "3                  14   52    Краснодар  ultra               1000   \n",
              "4                  15   52    Краснодар  ultra               1000   \n",
              "...               ...  ...          ...    ...                ...   \n",
              "3209               21   68  Владикавказ  smart                 50   \n",
              "3210                2   35        Пермь  smart                 50   \n",
              "3211               18   35        Пермь  smart                 50   \n",
              "3212               18   35        Пермь  smart                 50   \n",
              "3213               13   35        Пермь  smart                 50   \n",
              "\n",
              "      mb_per_month_included  minutes_included  rub_monthly_fee  rub_per_gb  \\\n",
              "0                     30720              3000             1950         150   \n",
              "1                     30720              3000             1950         150   \n",
              "2                     30720              3000             1950         150   \n",
              "3                     30720              3000             1950         150   \n",
              "4                     30720              3000             1950         150   \n",
              "...                     ...               ...              ...         ...   \n",
              "3209                  15360               500              550         200   \n",
              "3210                  15360               500              550         200   \n",
              "3211                  15360               500              550         200   \n",
              "3212                  15360               500              550         200   \n",
              "3213                  15360               500              550         200   \n",
              "\n",
              "      rub_per_message  rub_per_minute  total_bill  \n",
              "0                   1               1      1950.0  \n",
              "1                   1               1      1950.0  \n",
              "2                   1               1      1950.0  \n",
              "3                   1               1      1950.0  \n",
              "4                   1               1      1950.0  \n",
              "...               ...             ...         ...  \n",
              "3209                3               3      1750.0  \n",
              "3210                3               3       550.0  \n",
              "3211                3               3      1150.0  \n",
              "3212                3               3      1513.0  \n",
              "3213                3               3       598.0  \n",
              "\n",
              "[3214 rows x 18 columns]"
            ]
          },
          "metadata": {}
        }
      ]
    },
    {
      "cell_type": "markdown",
      "source": "Вывод\n\nПривели данные к нужным типам, нашли и исправили ошибки. Сгруппировали данные в таблицы, посчитали помесячную выручку с каждого пользователя. ",
      "metadata": {}
    },
    {
      "cell_type": "markdown",
      "source": "## Проанализируем данные",
      "metadata": {}
    },
    {
      "cell_type": "markdown",
      "source": "Опишем поведение клиентов оператора, исходя из выборки. Сколько минут разговора, сколько сообщений и какой объём интернет-трафика требуется пользователям каждого тарифа в месяц? Посчитаем среднее количество, дисперсию и стандартное отклонение. Построим гистограммы и опишем распределения.",
      "metadata": {}
    },
    {
      "cell_type": "code",
      "source": "# выделим данные по каждому тарифу в отдельную таблицу из таблицы с пользователями\nsmart_total_stats = total_stats[total_stats['tariff'] == 'smart']\nultra_total_stats = total_stats[total_stats['tariff'] == 'ultra']",
      "metadata": {},
      "execution_count": 29,
      "outputs": []
    },
    {
      "cell_type": "code",
      "source": "# теперь посмотртим на дисперсию и стандартное отклонение, вызвав метод describe. \n# Построим гистограммы для распределения количества звонков, смс и объёма трафика\ndef distribution(elem): \n    if elem == 'duration_sum':\n        print('Звонки, мин.')\n        display('Описательная статистика минут, потраченных на звонки, в месяц на тарифе smart:',\n                smart_total_stats[elem].describe(), \n                f'Дисперсия: {round(smart_total_stats[elem].var(),2)}')\n        display('Описательная статистика минут, потраченных на звонки, в месяц на тарифе ultra:', \n                ultra_total_stats[elem].describe(),\n               f'Дисперсия: {round(ultra_total_stats[elem].var(),2)}')\n    elif elem == 'messages_count':\n        print('Сообщения, шт.')\n        display('Описательная статистика количества сообщений в месяц на тарифе smart:', \n                smart_total_stats[elem].describe(),\n               f'Дисперсия: {round(smart_total_stats[elem].var(),2)}')\n        display('Описательная статистика количества сообщений в месяц на тарифе ultra:', \n                ultra_total_stats[elem].describe(),\n               f'Дисперсия: {round(ultra_total_stats[elem].var(),2)}')\n    else:\n        print('Интернет, Гб')\n        display('Описательная статистика объема интернет-трафика в месяц на тарифе smart:', \n                smart_total_stats[elem].describe(),\n               f'Дисперсия: {round(smart_total_stats[elem].var(),2)}')\n        display('Описательная статистика объема интернет-трафика в месяц на тарифе ultra:', \n                ultra_total_stats[elem].describe(),\n               f'Дисперсия: {round(ultra_total_stats[elem].var(),2)}')\n\n# список из столбцов, которые будем исследовать\nlist = ['duration_sum', 'messages_count', 'internet_sum_gb']\n\n# применим функцию ко всем столбцам и построим гистограммы\nfor item in list:\n    distribution(item)\n    smart_total_stats[item].plot(kind='hist', bins=40, figsize=(10,6), ec='grey', color='#7663b0',\n                                 alpha=0.5, label = 'smart')\n    ultra_total_stats[item].plot(kind='hist', bins=40, figsize=(10,6), ec='grey', color='r', \n                                 alpha=0.5, label = 'ultra')   \n    if item == 'duration_sum':\n        plt.title('Распределение общего кол-ва минут разговора в месяц')\n        plt.xlabel('Кол-во потраченных минут')\n        \n    elif item == 'messages_count':\n        plt.title('Распределение кол-ва сообщений в месяц')\n        plt.xlabel('Кол-во написанных сообщений')\n       \n    else:\n        plt.title('Распределение объема трафика в месяц')\n        plt.xlabel('Кол-во потраченных Гб')\n        \n    plt.ylabel('Кол-во пользователей')\n    plt.legend(loc = 'best')\n    plt.show()",
      "metadata": {},
      "execution_count": 30,
      "outputs": [
        {
          "name": "stdout",
          "output_type": "stream",
          "text": "Звонки, мин.\n"
        },
        {
          "output_type": "display_data",
          "data": {
            "text/plain": [
              "'Описательная статистика минут, потраченных на звонки, в месяц на тарифе smart:'"
            ]
          },
          "metadata": {}
        },
        {
          "output_type": "display_data",
          "data": {
            "text/plain": [
              "count    2229.000000\n",
              "mean      417.934948\n",
              "std       190.313730\n",
              "min         0.000000\n",
              "25%       282.000000\n",
              "50%       422.000000\n",
              "75%       545.000000\n",
              "max      1435.000000\n",
              "Name: duration_sum, dtype: float64"
            ]
          },
          "metadata": {}
        },
        {
          "output_type": "display_data",
          "data": {
            "text/plain": [
              "'Дисперсия: 36219.32'"
            ]
          },
          "metadata": {}
        },
        {
          "output_type": "display_data",
          "data": {
            "text/plain": [
              "'Описательная статистика минут, потраченных на звонки, в месяц на тарифе ultra:'"
            ]
          },
          "metadata": {}
        },
        {
          "output_type": "display_data",
          "data": {
            "text/plain": [
              "count     985.000000\n",
              "mean      526.623350\n",
              "std       317.606098\n",
              "min         0.000000\n",
              "25%       284.000000\n",
              "50%       518.000000\n",
              "75%       752.000000\n",
              "max      1673.000000\n",
              "Name: duration_sum, dtype: float64"
            ]
          },
          "metadata": {}
        },
        {
          "output_type": "display_data",
          "data": {
            "text/plain": [
              "'Дисперсия: 100873.63'"
            ]
          },
          "metadata": {}
        },
        {
          "output_type": "display_data",
          "data": {
            "image/png": "[encoded data removed]",
            "text/plain": [
              "<Figure size 720x432 with 1 Axes>"
            ]
          },
          "metadata": {
            "needs_background": "light"
          }
        },
        {
          "name": "stdout",
          "output_type": "stream",
          "text": "Сообщения, шт.\n"
        },
        {
          "output_type": "display_data",
          "data": {
            "text/plain": [
              "'Описательная статистика количества сообщений в месяц на тарифе smart:'"
            ]
          },
          "metadata": {}
        },
        {
          "output_type": "display_data",
          "data": {
            "text/plain": [
              "count    2229.000000\n",
              "mean       33.384029\n",
              "std        28.227876\n",
              "min         0.000000\n",
              "25%        10.000000\n",
              "50%        28.000000\n",
              "75%        51.000000\n",
              "max       143.000000\n",
              "Name: messages_count, dtype: float64"
            ]
          },
          "metadata": {}
        },
        {
          "output_type": "display_data",
          "data": {
            "text/plain": [
              "'Дисперсия: 796.81'"
            ]
          },
          "metadata": {}
        },
        {
          "output_type": "display_data",
          "data": {
            "text/plain": [
              "'Описательная статистика количества сообщений в месяц на тарифе ultra:'"
            ]
          },
          "metadata": {}
        },
        {
          "output_type": "display_data",
          "data": {
            "text/plain": [
              "count    985.000000\n",
              "mean      49.363452\n",
              "std       47.804457\n",
              "min        0.000000\n",
              "25%        6.000000\n",
              "50%       38.000000\n",
              "75%       79.000000\n",
              "max      224.000000\n",
              "Name: messages_count, dtype: float64"
            ]
          },
          "metadata": {}
        },
        {
          "output_type": "display_data",
          "data": {
            "text/plain": [
              "'Дисперсия: 2285.27'"
            ]
          },
          "metadata": {}
        },
        {
          "output_type": "display_data",
          "data": {
            "image/png": "[encoded data removed]",
            "text/plain": [
              "<Figure size 720x432 with 1 Axes>"
            ]
          },
          "metadata": {
            "needs_background": "light"
          }
        },
        {
          "name": "stdout",
          "output_type": "stream",
          "text": "Интернет, Гб\n"
        },
        {
          "output_type": "display_data",
          "data": {
            "text/plain": [
              "'Описательная статистика объема интернет-трафика в месяц на тарифе smart:'"
            ]
          },
          "metadata": {}
        },
        {
          "output_type": "display_data",
          "data": {
            "text/plain": [
              "count    2229.000000\n",
              "mean       16.328847\n",
              "std         5.747061\n",
              "min         0.000000\n",
              "25%        13.000000\n",
              "50%        17.000000\n",
              "75%        20.000000\n",
              "max        38.000000\n",
              "Name: internet_sum_gb, dtype: float64"
            ]
          },
          "metadata": {}
        },
        {
          "output_type": "display_data",
          "data": {
            "text/plain": [
              "'Дисперсия: 33.03'"
            ]
          },
          "metadata": {}
        },
        {
          "output_type": "display_data",
          "data": {
            "text/plain": [
              "'Описательная статистика объема интернет-трафика в месяц на тарифе ultra:'"
            ]
          },
          "metadata": {}
        },
        {
          "output_type": "display_data",
          "data": {
            "text/plain": [
              "count    985.000000\n",
              "mean      19.494416\n",
              "std        9.853511\n",
              "min        0.000000\n",
              "25%       12.000000\n",
              "50%       19.000000\n",
              "75%       27.000000\n",
              "max       49.000000\n",
              "Name: internet_sum_gb, dtype: float64"
            ]
          },
          "metadata": {}
        },
        {
          "output_type": "display_data",
          "data": {
            "text/plain": [
              "'Дисперсия: 97.09'"
            ]
          },
          "metadata": {}
        },
        {
          "output_type": "display_data",
          "data": {
            "image/png": "[encoded data removed]",
            "text/plain": [
              "<Figure size 720x432 with 1 Axes>"
            ]
          },
          "metadata": {
            "needs_background": "light"
          }
        }
      ]
    },
    {
      "cell_type": "markdown",
      "source": "На данных выборки по клиентам \"Мегалайн\" получены усредненные значения по количеству минут разговоров, сообщений и интернета ежемесячно для каждого тарифа. Рассчитаны среднее, медиана, дисперсия и стандартное отклоение по каждой из предоставленных услуг связи.\n\n* Характеристики количества минут, потраченных на звонки, в месяц: \n| Тариф  | Среднее| Медиана | Дисперсия  |Стандартное отклонение|\n| -------|:----:|:------:|:---------:|:----------------:|\n| smart  |418   |422     |36219      |190               |    \n| ultra  |527   |518     |100874     |318               |   \n\nНа тарифе smart пользователи разговаривают в среднем 418 минут в месяц при лимите в 500 минут по тарифу, пользователи практически расходуют весь лимит по минутам. Также в распределении видно большое количество пользователей (более 500 человек), которые выходят за пределы лимита в 500 минут, установленного тарифным планом.\n\nНа тарифе ultra пользователи разговаривают в среднем 527 минут в месяц при лимите в 3000 минут по тарифу. Если посмотреть на гистограмму общего количества минут разговоров, то для тарифа smart она имеет колоколообразную форму с ярко выраженным средним, а для тарифа ultra распределение больше похоже на прямую горизонтальную линию (пересекающую вертикальную ось по значению около 40 пользователей). Такое поведение сохраняется у распределения до границы в 800 минут, затем резкий спад. Получается, для тарифа ultra в диапазоне от 250 до 800 минут по количеству потраченных минут пользователи распределены практически равномерно. Резкий спад наступает после 800 минут. Это же наблюдение подтверждается очень большим значением дисперсии, и, соответственно, стандартного отклонения. \n\n* Характеристики количества сообщений, отправленных за месяц: \n| Тариф  | Среднее| Медиана | Дисперсия  |Стандартное отклонение|\n| -------|:----:|:------:|:---------:|:----------------:|\n| smart  |33    |28      |797       |28                |    \n| ultra  |49    |38      |2285       |48                |   \n\nНа тарифе smart в среднем за месяц один пользователь отправляет 33 сообщения, а на тарифе ultra - 49. Учитывая включенные в тариф пакеты в 50 и 1000 сообщений, пользователи обоих тарифов неактивно расходуют эту услугу. Совершенно нет потребности в 1000 сообщений на тарифе ultra, так как в среднем за месяц пользователи тратят лишь 49 / 1000 = 5% от предоставленного лимита.\n\n\n* Характеристики использованного объема интернет-трафика, в гигабайтах за месяц: \n| Тариф  | Среднее| Медиана | Дисперсия  |Стандартное отклонение|\n| -------|:----:|:------:|:---------:|:----------------:|\n| smart  |16    |17      |33         |6                 |    \n| ultra  |19    |19      |97         |10                |   \n\nНа тарифе smart в среднем за месяц один пользователь тратит 16 Гб интернет-трафика, а на тарифе ultra - 19. Учитывая включенные в тариф пакеты в 15 и 30 Гб, соответственно, пользователи тарифа smart используют предоставленный лимит целиком и очень часто им приходится выходить за рамки лимита и оплачивать дополнительный трафик. Пользователи тарифа ultra используют больше интернета (медиана = 19 Гб) по сравнению с пользователями тарифа smart (медиана = 17 Гб), но и тарифный лимит у них в два раза выше, поэтому они даже не приближаются к установленной границе по трафику.",
      "metadata": {}
    },
    {
      "cell_type": "markdown",
      "source": "## Проверим гипотезы",
      "metadata": {}
    },
    {
      "cell_type": "markdown",
      "source": "### Средняя выручка пользователей тарифов «Ультра» и «Смарт» различается",
      "metadata": {}
    },
    {
      "cell_type": "markdown",
      "source": "Сформулируем нулевую и альтернативную гипотезы. Нулевую гипотезу будем формулировать так, чтобы использовать знак равенства. Альтернативную гипотезу сформулируем оттакливаясь от нулевой гипотезы.\n\n<li>H₀ - средняя выручка пользователей тарифов «Ультра» и «Смарт» равна\n<li>H₁ - средняя выручка пользователей тарифов «Ультра» и «Смарт» не равна",
      "metadata": {}
    },
    {
      "cell_type": "code",
      "source": "smart_ttest = total_stats[total_stats['tariff']=='smart']['total_bill']\nultra_ttest = total_stats[total_stats['tariff']=='ultra']['total_bill']\n\n# уровень значимости зададим равным 5%\nalpha = 0.05\n\nresults = st.ttest_ind(smart_ttest, ultra_ttest, equal_var=False)\n\nprint('p-значение:', results.pvalue)\n\nif (results.pvalue < alpha):\n    print(\"Отвергаем нулевую гипотезу\")\nelse:\n    print(\"Не получилось отвергнуть нулевую гипотезу\")",
      "metadata": {},
      "execution_count": 59,
      "outputs": [
        {
          "name": "stdout",
          "output_type": "stream",
          "text": "p-значение: 4.2606313931076085e-250\n\nОтвергаем нулевую гипотезу\n"
        }
      ]
    },
    {
      "cell_type": "markdown",
      "source": "Отвергаем первую гипотезу. Всё же между выручкой есть разница. Выручка с пользователей тарифа ultra больше даже несмотря на то, что тариф выбирают в 2 раза реже.",
      "metadata": {}
    },
    {
      "cell_type": "markdown",
      "source": "### Средняя выручка пользователей из Москвы отличается от выручки пользователей из других регионов",
      "metadata": {}
    },
    {
      "cell_type": "markdown",
      "source": "Сформулируем нулевую и альтернативную гипотезы:\n\n<li>H₀ - средняя выручка пользователей из Москвы и остальных регионов равна\n<li>H₁ - средняя выручка пользователей из Москвы и остальных регионов не равна",
      "metadata": {}
    },
    {
      "cell_type": "code",
      "source": "from_Moscow = total_stats.query('city == \"Москва\"')\nnot_from_Moscow = total_stats.query('city != \"Москва\"')",
      "metadata": {},
      "execution_count": 60,
      "outputs": []
    },
    {
      "cell_type": "code",
      "source": "results = st.ttest_ind(\n    from_Moscow['total_bill'],\n    not_from_Moscow['total_bill']\n)\n\nprint('p-значение:', results.pvalue)\n\nif (results.pvalue < alpha):\n    print(\"Отвергаем нулевую гипотезу\")\nelse:\n    print(\"Не получилось отвергнуть нулевую гипотезу\")\n    \nprint()    \nprint('Средняя выручка в месяц с пользователя из Москвы', from_Moscow['total_bill'].mean().round(2))\nprint('Средняя выручка в месяц с пользователя не из Москвы', not_from_Moscow['total_bill'].mean().round(2))",
      "metadata": {},
      "execution_count": 61,
      "outputs": [
        {
          "name": "stdout",
          "output_type": "stream",
          "text": "p-значение: 0.5440152911670224\n\nНе получилось отвергнуть нулевую гипотезу\n\n\n\nСредняя выручка в месяц с пользователя из Москвы 1546.71\n\nСредняя выручка в месяц с пользователя не из Москвы 1524.94\n"
        }
      ]
    },
    {
      "cell_type": "markdown",
      "source": "Вторую гипотезу отвергнуть не удалось - выручка с пользователей-москвичей и пользователей из других регионов почти равнозначна.",
      "metadata": {}
    },
    {
      "cell_type": "markdown",
      "source": "Вывод\n\nПроверили 2 гипотезы:\n\n1.Средняя выручка пользователей тарифов «Ультра» и «Смарт» равна - отвергли\n\n2.Средняя выручка пользователей из Москвы равна выручке пользователей из других регионов - отвергнуть не удалось",
      "metadata": {}
    },
    {
      "cell_type": "markdown",
      "source": "##  Общий вывод",
      "metadata": {}
    },
    {
      "cell_type": "markdown",
      "source": "В ходе работы:\n\n1.Объединили датасеты в один.\n\n2.Привели данные к нужным типам, нашли и исправили ошибки. Создали датасеты со средней выручкой в месяц в зависимости от тарифа.\n\n3.Выяснили, что пользователи smart тарифа используют чуть меньшее количество минут звонков и сообщений в месяц, чем пользователи ultra. Лимита на звонки и минуты в ultra в среднем не достигает никто. При этом интернетом пользователи ultra пользуются гораздо активнее. Скорее всего, пользователи ultra выбирают этот тариф из-за большего интернет-трафика.\n\n4.Проверили 2 гипотезы:\n\n<li>Средняя выручка пользователей тарифов «Ультра» и «Смарт» равна - отвергли\n<li>Средняя выручка пользователей из Москвы равна выручке пользователей из других регионов - отвергнуть не удалось\n    \nТариф ultra приносит компании большую выручку,чем тариф smart. Стоит сфокусироваться на его продвижении повсеместно - в Москве и других регионах.",
      "metadata": {}
    },
    {
      "cell_type": "markdown",
      "source": "  ",
      "metadata": {}
    }
  ]
}